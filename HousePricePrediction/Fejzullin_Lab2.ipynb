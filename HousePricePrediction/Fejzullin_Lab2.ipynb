{
 "cells": [
  {
   "cell_type": "code",
   "execution_count": 1,
   "metadata": {},
   "outputs": [],
   "source": [
    "import pandas as pd\n",
    "import numpy as np"
   ]
  },
  {
   "cell_type": "code",
   "execution_count": 2,
   "metadata": {},
   "outputs": [
    {
     "data": {
      "text/html": [
       "<div>\n",
       "<style scoped>\n",
       "    .dataframe tbody tr th:only-of-type {\n",
       "        vertical-align: middle;\n",
       "    }\n",
       "\n",
       "    .dataframe tbody tr th {\n",
       "        vertical-align: top;\n",
       "    }\n",
       "\n",
       "    .dataframe thead th {\n",
       "        text-align: right;\n",
       "    }\n",
       "</style>\n",
       "<table border=\"1\" class=\"dataframe\">\n",
       "  <thead>\n",
       "    <tr style=\"text-align: right;\">\n",
       "      <th></th>\n",
       "      <th>Id</th>\n",
       "      <th>MSSubClass</th>\n",
       "      <th>MSZoning</th>\n",
       "      <th>LotFrontage</th>\n",
       "      <th>LotArea</th>\n",
       "      <th>Street</th>\n",
       "      <th>Alley</th>\n",
       "      <th>LotShape</th>\n",
       "      <th>LandContour</th>\n",
       "      <th>Utilities</th>\n",
       "      <th>...</th>\n",
       "      <th>PoolArea</th>\n",
       "      <th>PoolQC</th>\n",
       "      <th>Fence</th>\n",
       "      <th>MiscFeature</th>\n",
       "      <th>MiscVal</th>\n",
       "      <th>MoSold</th>\n",
       "      <th>YrSold</th>\n",
       "      <th>SaleType</th>\n",
       "      <th>SaleCondition</th>\n",
       "      <th>SalePrice</th>\n",
       "    </tr>\n",
       "  </thead>\n",
       "  <tbody>\n",
       "    <tr>\n",
       "      <th>0</th>\n",
       "      <td>1</td>\n",
       "      <td>60</td>\n",
       "      <td>RL</td>\n",
       "      <td>65.0</td>\n",
       "      <td>8450</td>\n",
       "      <td>Pave</td>\n",
       "      <td>NaN</td>\n",
       "      <td>Reg</td>\n",
       "      <td>Lvl</td>\n",
       "      <td>AllPub</td>\n",
       "      <td>...</td>\n",
       "      <td>0</td>\n",
       "      <td>NaN</td>\n",
       "      <td>NaN</td>\n",
       "      <td>NaN</td>\n",
       "      <td>0</td>\n",
       "      <td>2</td>\n",
       "      <td>2008</td>\n",
       "      <td>WD</td>\n",
       "      <td>Normal</td>\n",
       "      <td>208500</td>\n",
       "    </tr>\n",
       "    <tr>\n",
       "      <th>1</th>\n",
       "      <td>2</td>\n",
       "      <td>20</td>\n",
       "      <td>RL</td>\n",
       "      <td>80.0</td>\n",
       "      <td>9600</td>\n",
       "      <td>Pave</td>\n",
       "      <td>NaN</td>\n",
       "      <td>Reg</td>\n",
       "      <td>Lvl</td>\n",
       "      <td>AllPub</td>\n",
       "      <td>...</td>\n",
       "      <td>0</td>\n",
       "      <td>NaN</td>\n",
       "      <td>NaN</td>\n",
       "      <td>NaN</td>\n",
       "      <td>0</td>\n",
       "      <td>5</td>\n",
       "      <td>2007</td>\n",
       "      <td>WD</td>\n",
       "      <td>Normal</td>\n",
       "      <td>181500</td>\n",
       "    </tr>\n",
       "    <tr>\n",
       "      <th>2</th>\n",
       "      <td>3</td>\n",
       "      <td>60</td>\n",
       "      <td>RL</td>\n",
       "      <td>68.0</td>\n",
       "      <td>11250</td>\n",
       "      <td>Pave</td>\n",
       "      <td>NaN</td>\n",
       "      <td>IR1</td>\n",
       "      <td>Lvl</td>\n",
       "      <td>AllPub</td>\n",
       "      <td>...</td>\n",
       "      <td>0</td>\n",
       "      <td>NaN</td>\n",
       "      <td>NaN</td>\n",
       "      <td>NaN</td>\n",
       "      <td>0</td>\n",
       "      <td>9</td>\n",
       "      <td>2008</td>\n",
       "      <td>WD</td>\n",
       "      <td>Normal</td>\n",
       "      <td>223500</td>\n",
       "    </tr>\n",
       "    <tr>\n",
       "      <th>3</th>\n",
       "      <td>4</td>\n",
       "      <td>70</td>\n",
       "      <td>RL</td>\n",
       "      <td>60.0</td>\n",
       "      <td>9550</td>\n",
       "      <td>Pave</td>\n",
       "      <td>NaN</td>\n",
       "      <td>IR1</td>\n",
       "      <td>Lvl</td>\n",
       "      <td>AllPub</td>\n",
       "      <td>...</td>\n",
       "      <td>0</td>\n",
       "      <td>NaN</td>\n",
       "      <td>NaN</td>\n",
       "      <td>NaN</td>\n",
       "      <td>0</td>\n",
       "      <td>2</td>\n",
       "      <td>2006</td>\n",
       "      <td>WD</td>\n",
       "      <td>Abnorml</td>\n",
       "      <td>140000</td>\n",
       "    </tr>\n",
       "    <tr>\n",
       "      <th>4</th>\n",
       "      <td>5</td>\n",
       "      <td>60</td>\n",
       "      <td>RL</td>\n",
       "      <td>84.0</td>\n",
       "      <td>14260</td>\n",
       "      <td>Pave</td>\n",
       "      <td>NaN</td>\n",
       "      <td>IR1</td>\n",
       "      <td>Lvl</td>\n",
       "      <td>AllPub</td>\n",
       "      <td>...</td>\n",
       "      <td>0</td>\n",
       "      <td>NaN</td>\n",
       "      <td>NaN</td>\n",
       "      <td>NaN</td>\n",
       "      <td>0</td>\n",
       "      <td>12</td>\n",
       "      <td>2008</td>\n",
       "      <td>WD</td>\n",
       "      <td>Normal</td>\n",
       "      <td>250000</td>\n",
       "    </tr>\n",
       "    <tr>\n",
       "      <th>...</th>\n",
       "      <td>...</td>\n",
       "      <td>...</td>\n",
       "      <td>...</td>\n",
       "      <td>...</td>\n",
       "      <td>...</td>\n",
       "      <td>...</td>\n",
       "      <td>...</td>\n",
       "      <td>...</td>\n",
       "      <td>...</td>\n",
       "      <td>...</td>\n",
       "      <td>...</td>\n",
       "      <td>...</td>\n",
       "      <td>...</td>\n",
       "      <td>...</td>\n",
       "      <td>...</td>\n",
       "      <td>...</td>\n",
       "      <td>...</td>\n",
       "      <td>...</td>\n",
       "      <td>...</td>\n",
       "      <td>...</td>\n",
       "      <td>...</td>\n",
       "    </tr>\n",
       "    <tr>\n",
       "      <th>1455</th>\n",
       "      <td>1456</td>\n",
       "      <td>60</td>\n",
       "      <td>RL</td>\n",
       "      <td>62.0</td>\n",
       "      <td>7917</td>\n",
       "      <td>Pave</td>\n",
       "      <td>NaN</td>\n",
       "      <td>Reg</td>\n",
       "      <td>Lvl</td>\n",
       "      <td>AllPub</td>\n",
       "      <td>...</td>\n",
       "      <td>0</td>\n",
       "      <td>NaN</td>\n",
       "      <td>NaN</td>\n",
       "      <td>NaN</td>\n",
       "      <td>0</td>\n",
       "      <td>8</td>\n",
       "      <td>2007</td>\n",
       "      <td>WD</td>\n",
       "      <td>Normal</td>\n",
       "      <td>175000</td>\n",
       "    </tr>\n",
       "    <tr>\n",
       "      <th>1456</th>\n",
       "      <td>1457</td>\n",
       "      <td>20</td>\n",
       "      <td>RL</td>\n",
       "      <td>85.0</td>\n",
       "      <td>13175</td>\n",
       "      <td>Pave</td>\n",
       "      <td>NaN</td>\n",
       "      <td>Reg</td>\n",
       "      <td>Lvl</td>\n",
       "      <td>AllPub</td>\n",
       "      <td>...</td>\n",
       "      <td>0</td>\n",
       "      <td>NaN</td>\n",
       "      <td>MnPrv</td>\n",
       "      <td>NaN</td>\n",
       "      <td>0</td>\n",
       "      <td>2</td>\n",
       "      <td>2010</td>\n",
       "      <td>WD</td>\n",
       "      <td>Normal</td>\n",
       "      <td>210000</td>\n",
       "    </tr>\n",
       "    <tr>\n",
       "      <th>1457</th>\n",
       "      <td>1458</td>\n",
       "      <td>70</td>\n",
       "      <td>RL</td>\n",
       "      <td>66.0</td>\n",
       "      <td>9042</td>\n",
       "      <td>Pave</td>\n",
       "      <td>NaN</td>\n",
       "      <td>Reg</td>\n",
       "      <td>Lvl</td>\n",
       "      <td>AllPub</td>\n",
       "      <td>...</td>\n",
       "      <td>0</td>\n",
       "      <td>NaN</td>\n",
       "      <td>GdPrv</td>\n",
       "      <td>Shed</td>\n",
       "      <td>2500</td>\n",
       "      <td>5</td>\n",
       "      <td>2010</td>\n",
       "      <td>WD</td>\n",
       "      <td>Normal</td>\n",
       "      <td>266500</td>\n",
       "    </tr>\n",
       "    <tr>\n",
       "      <th>1458</th>\n",
       "      <td>1459</td>\n",
       "      <td>20</td>\n",
       "      <td>RL</td>\n",
       "      <td>68.0</td>\n",
       "      <td>9717</td>\n",
       "      <td>Pave</td>\n",
       "      <td>NaN</td>\n",
       "      <td>Reg</td>\n",
       "      <td>Lvl</td>\n",
       "      <td>AllPub</td>\n",
       "      <td>...</td>\n",
       "      <td>0</td>\n",
       "      <td>NaN</td>\n",
       "      <td>NaN</td>\n",
       "      <td>NaN</td>\n",
       "      <td>0</td>\n",
       "      <td>4</td>\n",
       "      <td>2010</td>\n",
       "      <td>WD</td>\n",
       "      <td>Normal</td>\n",
       "      <td>142125</td>\n",
       "    </tr>\n",
       "    <tr>\n",
       "      <th>1459</th>\n",
       "      <td>1460</td>\n",
       "      <td>20</td>\n",
       "      <td>RL</td>\n",
       "      <td>75.0</td>\n",
       "      <td>9937</td>\n",
       "      <td>Pave</td>\n",
       "      <td>NaN</td>\n",
       "      <td>Reg</td>\n",
       "      <td>Lvl</td>\n",
       "      <td>AllPub</td>\n",
       "      <td>...</td>\n",
       "      <td>0</td>\n",
       "      <td>NaN</td>\n",
       "      <td>NaN</td>\n",
       "      <td>NaN</td>\n",
       "      <td>0</td>\n",
       "      <td>6</td>\n",
       "      <td>2008</td>\n",
       "      <td>WD</td>\n",
       "      <td>Normal</td>\n",
       "      <td>147500</td>\n",
       "    </tr>\n",
       "  </tbody>\n",
       "</table>\n",
       "<p>1460 rows × 81 columns</p>\n",
       "</div>"
      ],
      "text/plain": [
       "        Id  MSSubClass MSZoning  LotFrontage  LotArea Street Alley LotShape  \\\n",
       "0        1          60       RL         65.0     8450   Pave   NaN      Reg   \n",
       "1        2          20       RL         80.0     9600   Pave   NaN      Reg   \n",
       "2        3          60       RL         68.0    11250   Pave   NaN      IR1   \n",
       "3        4          70       RL         60.0     9550   Pave   NaN      IR1   \n",
       "4        5          60       RL         84.0    14260   Pave   NaN      IR1   \n",
       "...    ...         ...      ...          ...      ...    ...   ...      ...   \n",
       "1455  1456          60       RL         62.0     7917   Pave   NaN      Reg   \n",
       "1456  1457          20       RL         85.0    13175   Pave   NaN      Reg   \n",
       "1457  1458          70       RL         66.0     9042   Pave   NaN      Reg   \n",
       "1458  1459          20       RL         68.0     9717   Pave   NaN      Reg   \n",
       "1459  1460          20       RL         75.0     9937   Pave   NaN      Reg   \n",
       "\n",
       "     LandContour Utilities  ... PoolArea PoolQC  Fence MiscFeature MiscVal  \\\n",
       "0            Lvl    AllPub  ...        0    NaN    NaN         NaN       0   \n",
       "1            Lvl    AllPub  ...        0    NaN    NaN         NaN       0   \n",
       "2            Lvl    AllPub  ...        0    NaN    NaN         NaN       0   \n",
       "3            Lvl    AllPub  ...        0    NaN    NaN         NaN       0   \n",
       "4            Lvl    AllPub  ...        0    NaN    NaN         NaN       0   \n",
       "...          ...       ...  ...      ...    ...    ...         ...     ...   \n",
       "1455         Lvl    AllPub  ...        0    NaN    NaN         NaN       0   \n",
       "1456         Lvl    AllPub  ...        0    NaN  MnPrv         NaN       0   \n",
       "1457         Lvl    AllPub  ...        0    NaN  GdPrv        Shed    2500   \n",
       "1458         Lvl    AllPub  ...        0    NaN    NaN         NaN       0   \n",
       "1459         Lvl    AllPub  ...        0    NaN    NaN         NaN       0   \n",
       "\n",
       "     MoSold YrSold  SaleType  SaleCondition  SalePrice  \n",
       "0         2   2008        WD         Normal     208500  \n",
       "1         5   2007        WD         Normal     181500  \n",
       "2         9   2008        WD         Normal     223500  \n",
       "3         2   2006        WD        Abnorml     140000  \n",
       "4        12   2008        WD         Normal     250000  \n",
       "...     ...    ...       ...            ...        ...  \n",
       "1455      8   2007        WD         Normal     175000  \n",
       "1456      2   2010        WD         Normal     210000  \n",
       "1457      5   2010        WD         Normal     266500  \n",
       "1458      4   2010        WD         Normal     142125  \n",
       "1459      6   2008        WD         Normal     147500  \n",
       "\n",
       "[1460 rows x 81 columns]"
      ]
     },
     "execution_count": 2,
     "metadata": {},
     "output_type": "execute_result"
    }
   ],
   "source": [
    "df = pd.read_csv('train.csv')\n",
    "df"
   ]
  },
  {
   "cell_type": "code",
   "execution_count": 3,
   "metadata": {},
   "outputs": [],
   "source": [
    "from sklearn.linear_model import LinearRegression\n",
    "from sklearn.linear_model import HuberRegressor"
   ]
  },
  {
   "attachments": {},
   "cell_type": "markdown",
   "metadata": {},
   "source": [
    "## Nominal Values"
   ]
  },
  {
   "cell_type": "code",
   "execution_count": 4,
   "metadata": {},
   "outputs": [
    {
     "name": "stderr",
     "output_type": "stream",
     "text": [
      "c:\\Users\\Kirill\\.conda\\envs\\bayes\\lib\\site-packages\\sklearn\\utils\\validation.py:993: DataConversionWarning: A column-vector y was passed when a 1d array was expected. Please change the shape of y to (n_samples, ), for example using ravel().\n",
      "  y = column_or_1d(y, warn=True)\n"
     ]
    }
   ],
   "source": [
    "model_LSM = LinearRegression().fit(df[['LotArea']].values, df[['SalePrice']].values);\n",
    "model_huber = HuberRegressor().fit(df[['LotArea']].values, df[['SalePrice']].values);"
   ]
  },
  {
   "cell_type": "code",
   "execution_count": 5,
   "metadata": {},
   "outputs": [],
   "source": [
    "predicts_LSM = model_LSM.predict(df[['LotArea']].values)\n",
    "predicts_huber = model_huber.predict(df[['LotArea']].values)"
   ]
  },
  {
   "cell_type": "code",
   "execution_count": 6,
   "metadata": {},
   "outputs": [
    {
     "data": {
      "text/plain": [
       "[<matplotlib.lines.Line2D at 0x11f08e1c7c0>]"
      ]
     },
     "execution_count": 6,
     "metadata": {},
     "output_type": "execute_result"
    },
    {
     "data": {
      "image/png": "[encoded data removed]",
      "text/plain": [
       "<Figure size 432x288 with 1 Axes>"
      ]
     },
     "metadata": {
      "needs_background": "light"
     },
     "output_type": "display_data"
    }
   ],
   "source": [
    "import matplotlib.pyplot as plt\n",
    "\n",
    "plt.scatter(df[['LotArea']].values, df[['SalePrice']].values)\n",
    "plt.plot(df[['LotArea']].values, predicts_LSM)\n",
    "plt.plot(df[['LotArea']].values, predicts_huber)"
   ]
  },
  {
   "cell_type": "code",
   "execution_count": 7,
   "metadata": {},
   "outputs": [],
   "source": [
    "import numpy as np\n",
    "from sklearn.metrics import mean_squared_error, mean_absolute_error\n",
    "import matplotlib.pyplot as plt\n",
    "from scipy.optimize import  minimize\n",
    "from sklearn.preprocessing import PolynomialFeatures\n",
    "import matplotlib.patches as mpatches\n",
    "from itertools import repeat\n",
    "\n",
    "\n",
    "def mapU(pair_x_c):\n",
    "    #print(pair_x_c)\n",
    "    x_diff = pair_x_c[0]\n",
    "    c = pair_x_c[1]\n",
    "    return ( 1 - (1- (x_diff / c)**2 )**3 ) if np.abs(x_diff) < c else 1\n",
    "\n",
    "\n",
    "def Tukey(u, c):\n",
    "    pairs = list(zip(u,  repeat(c)))\n",
    "    return np.sum(list(map(mapU, pairs)))\n",
    "\n",
    "\n",
    "\n",
    "#Требуемая функция\n",
    "def F(X, Y_true, weights = None, fit_c = True):\n",
    "    X = X.reshape(len(X), -1)\n",
    "    C = 1e5\n",
    "    if weights is None:\n",
    "            C = 1e5\n",
    "            X0 = np.random.normal(0, 10, size = X.shape[1] + 2)\n",
    "            X0[-1] = C\n",
    "    else:\n",
    "            Y_pred = weights[0]+np.sum(X * weights[1:], axis = 1)\n",
    "            C = mean_absolute_error(Y_true, Y_pred)\n",
    "            X0 = np.array(weights + [C]) \n",
    "\n",
    "\n",
    "    def Fit(coefs): \n",
    "        if not fit_c:\n",
    "            coefs[-1] =  C\n",
    "        Y_pred = np.sum(coefs[0]+X * coefs[1:-1], axis = 1) # y = b + x*a\n",
    "        diff = (Y_true.reshape(-1, 1) - Y_pred.reshape(-1, 1)).tolist()\n",
    "        return Tukey(diff, c = coefs[-1])\n",
    "    \n",
    "    #Зададим исходные веса, чтобы не попасть\n",
    "    #в локальный минимум, используя midhinge для порога C\n",
    "    \n",
    "    #Минимизируем Tukey\n",
    "    res = minimize(Fit, X0, method='L-BFGS-B') \n",
    "    return res "
   ]
  },
  {
   "cell_type": "code",
   "execution_count": 8,
   "metadata": {},
   "outputs": [
    {
     "data": {
      "text/plain": [
       "[158836.15189687657, 2.0999719517076754]"
      ]
     },
     "execution_count": 8,
     "metadata": {},
     "output_type": "execute_result"
    }
   ],
   "source": [
    "init_tukey_weights = [model_LSM.intercept_[0]] + [model_LSM.coef_[0][0]]\n",
    "init_tukey_weights"
   ]
  },
  {
   "cell_type": "code",
   "execution_count": 9,
   "metadata": {},
   "outputs": [
    {
     "name": "stderr",
     "output_type": "stream",
     "text": [
      "c:\\Users\\Kirill\\.conda\\envs\\bayes\\lib\\site-packages\\numpy\\core\\fromnumeric.py:86: VisibleDeprecationWarning: Creating an ndarray from ragged nested sequences (which is a list-or-tuple of lists-or-tuples-or ndarrays with different lengths or shapes) is deprecated. If you meant to do this, you must specify 'dtype=object' when creating the ndarray.\n",
      "  return ufunc.reduce(obj, axis, dtype, out, **passkwargs)\n"
     ]
    },
    {
     "data": {
      "text/plain": [
       "array([1.60019626e+05, 2.03239092e+00, 3.27629460e+06])"
      ]
     },
     "execution_count": 9,
     "metadata": {},
     "output_type": "execute_result"
    }
   ],
   "source": [
    "X = df[['LotArea']].values\n",
    "Y = df[['SalePrice']].values\n",
    "#X = X.reshape(len(X), -1)\n",
    "Y = Y.reshape(len(Y), -1)\n",
    "coefs = F(X = X\n",
    "    , Y_true = Y\n",
    "    , weights= init_tukey_weights #LSM Weights\n",
    "    , fit_c= True\n",
    "    #, weights= model_huber.coef_.tolist() #Huber Weights\n",
    "    )\n",
    "coefs.x"
   ]
  },
  {
   "cell_type": "code",
   "execution_count": 10,
   "metadata": {},
   "outputs": [
    {
     "data": {
      "text/plain": [
       "<matplotlib.legend.Legend at 0x11f08f8e220>"
      ]
     },
     "execution_count": 10,
     "metadata": {},
     "output_type": "execute_result"
    },
    {
     "data": {
      "image/png": "[encoded data removed]",
      "text/plain": [
       "<Figure size 432x288 with 1 Axes>"
      ]
     },
     "metadata": {
      "needs_background": "light"
     },
     "output_type": "display_data"
    }
   ],
   "source": [
    "import matplotlib.pyplot as plt\n",
    "\n",
    "plt.scatter(df[['LotArea']].values, df[['SalePrice']].values, label = 'True Values')\n",
    "plt.plot(df[['LotArea']].values, predicts_LSM, label = 'LSM Prediction', color = 'red', linewidth = 3)\n",
    "plt.plot(df[['LotArea']].values, predicts_huber, label = 'Huber Prediction', color = 'blue', linewidth = 3)\n",
    "plt.plot(df[['LotArea']].values, coefs.x[0] + np.sum(df[['LotArea']].values * coefs.x[1:-1], axis = 1), '--*', label = 'Tukey', color = 'yellow')\n",
    "plt.legend()"
   ]
  },
  {
   "attachments": {},
   "cell_type": "markdown",
   "metadata": {},
   "source": [
    "## PolyNominal Searching"
   ]
  },
  {
   "cell_type": "code",
   "execution_count": 11,
   "metadata": {},
   "outputs": [
    {
     "name": "stderr",
     "output_type": "stream",
     "text": [
      "c:\\Users\\Kirill\\.conda\\envs\\bayes\\lib\\site-packages\\sklearn\\utils\\validation.py:993: DataConversionWarning: A column-vector y was passed when a 1d array was expected. Please change the shape of y to (n_samples, ), for example using ravel().\n",
      "  y = column_or_1d(y, warn=True)\n",
      "c:\\Users\\Kirill\\.conda\\envs\\bayes\\lib\\site-packages\\numpy\\core\\fromnumeric.py:86: VisibleDeprecationWarning: Creating an ndarray from ragged nested sequences (which is a list-or-tuple of lists-or-tuples-or ndarrays with different lengths or shapes) is deprecated. If you meant to do this, you must specify 'dtype=object' when creating the ndarray.\n",
      "  return ufunc.reduce(obj, axis, dtype, out, **passkwargs)\n",
      "c:\\Users\\Kirill\\.conda\\envs\\bayes\\lib\\site-packages\\sklearn\\utils\\validation.py:993: DataConversionWarning: A column-vector y was passed when a 1d array was expected. Please change the shape of y to (n_samples, ), for example using ravel().\n",
      "  y = column_or_1d(y, warn=True)\n",
      "c:\\Users\\Kirill\\.conda\\envs\\bayes\\lib\\site-packages\\numpy\\core\\fromnumeric.py:86: VisibleDeprecationWarning: Creating an ndarray from ragged nested sequences (which is a list-or-tuple of lists-or-tuples-or ndarrays with different lengths or shapes) is deprecated. If you meant to do this, you must specify 'dtype=object' when creating the ndarray.\n",
      "  return ufunc.reduce(obj, axis, dtype, out, **passkwargs)\n",
      "c:\\Users\\Kirill\\.conda\\envs\\bayes\\lib\\site-packages\\sklearn\\utils\\validation.py:993: DataConversionWarning: A column-vector y was passed when a 1d array was expected. Please change the shape of y to (n_samples, ), for example using ravel().\n",
      "  y = column_or_1d(y, warn=True)\n",
      "c:\\Users\\Kirill\\.conda\\envs\\bayes\\lib\\site-packages\\numpy\\core\\fromnumeric.py:86: VisibleDeprecationWarning: Creating an ndarray from ragged nested sequences (which is a list-or-tuple of lists-or-tuples-or ndarrays with different lengths or shapes) is deprecated. If you meant to do this, you must specify 'dtype=object' when creating the ndarray.\n",
      "  return ufunc.reduce(obj, axis, dtype, out, **passkwargs)\n",
      "c:\\Users\\Kirill\\.conda\\envs\\bayes\\lib\\site-packages\\sklearn\\utils\\validation.py:993: DataConversionWarning: A column-vector y was passed when a 1d array was expected. Please change the shape of y to (n_samples, ), for example using ravel().\n",
      "  y = column_or_1d(y, warn=True)\n",
      "c:\\Users\\Kirill\\.conda\\envs\\bayes\\lib\\site-packages\\sklearn\\utils\\validation.py:993: DataConversionWarning: A column-vector y was passed when a 1d array was expected. Please change the shape of y to (n_samples, ), for example using ravel().\n",
      "  y = column_or_1d(y, warn=True)\n",
      "c:\\Users\\Kirill\\.conda\\envs\\bayes\\lib\\site-packages\\sklearn\\utils\\validation.py:993: DataConversionWarning: A column-vector y was passed when a 1d array was expected. Please change the shape of y to (n_samples, ), for example using ravel().\n",
      "  y = column_or_1d(y, warn=True)\n",
      "c:\\Users\\Kirill\\.conda\\envs\\bayes\\lib\\site-packages\\sklearn\\utils\\validation.py:993: DataConversionWarning: A column-vector y was passed when a 1d array was expected. Please change the shape of y to (n_samples, ), for example using ravel().\n",
      "  y = column_or_1d(y, warn=True)\n",
      "c:\\Users\\Kirill\\.conda\\envs\\bayes\\lib\\site-packages\\sklearn\\utils\\validation.py:993: DataConversionWarning: A column-vector y was passed when a 1d array was expected. Please change the shape of y to (n_samples, ), for example using ravel().\n",
      "  y = column_or_1d(y, warn=True)\n",
      "c:\\Users\\Kirill\\.conda\\envs\\bayes\\lib\\site-packages\\sklearn\\utils\\validation.py:993: DataConversionWarning: A column-vector y was passed when a 1d array was expected. Please change the shape of y to (n_samples, ), for example using ravel().\n",
      "  y = column_or_1d(y, warn=True)\n",
      "c:\\Users\\Kirill\\.conda\\envs\\bayes\\lib\\site-packages\\sklearn\\utils\\validation.py:993: DataConversionWarning: A column-vector y was passed when a 1d array was expected. Please change the shape of y to (n_samples, ), for example using ravel().\n",
      "  y = column_or_1d(y, warn=True)\n",
      "c:\\Users\\Kirill\\.conda\\envs\\bayes\\lib\\site-packages\\sklearn\\utils\\validation.py:993: DataConversionWarning: A column-vector y was passed when a 1d array was expected. Please change the shape of y to (n_samples, ), for example using ravel().\n",
      "  y = column_or_1d(y, warn=True)\n",
      "c:\\Users\\Kirill\\.conda\\envs\\bayes\\lib\\site-packages\\sklearn\\utils\\validation.py:993: DataConversionWarning: A column-vector y was passed when a 1d array was expected. Please change the shape of y to (n_samples, ), for example using ravel().\n",
      "  y = column_or_1d(y, warn=True)\n",
      "c:\\Users\\Kirill\\.conda\\envs\\bayes\\lib\\site-packages\\sklearn\\utils\\validation.py:993: DataConversionWarning: A column-vector y was passed when a 1d array was expected. Please change the shape of y to (n_samples, ), for example using ravel().\n",
      "  y = column_or_1d(y, warn=True)\n"
     ]
    }
   ],
   "source": [
    "from  copy import deepcopy as deepcopy\n",
    "from sklearn.model_selection import train_test_split\n",
    "from sklearn.metrics import r2_score, mean_absolute_error, mean_squared_error\n",
    "results = {}\n",
    "for p in np.arange(2, 15):\n",
    "    try:\n",
    "        #X = df[['LotArea', 'Bias']].values\n",
    "        df['NormLotArea'] = (df['LotArea'] - df['LotArea'].mean()) / df['LotArea'].std()\n",
    "        X = df[['NormLotArea']].values\n",
    "        #X = df[['LotArea']].values\n",
    "        X = X.reshape(len(X), -1)\n",
    "\n",
    "        X = PolynomialFeatures(degree = p, include_bias=False).fit_transform(X)#[:, -1]\n",
    "        X = X.reshape(len(X), -1)\n",
    "        X_train, X_test, Y_train, Y_test = train_test_split(X, df[['SalePrice']].values, random_state=42)\n",
    "        model_LSM = LinearRegression().fit(X_train, Y_train);\n",
    "        model_huber = HuberRegressor().fit(X_train, Y_train);\n",
    "\n",
    "        init_tukey_weights = model_LSM.intercept_.tolist() + np.squeeze(model_LSM.coef_).tolist()\n",
    "\n",
    "        coefs = F(X = X_train\n",
    "            , Y_true = np.squeeze(Y_train)\n",
    "            , weights= init_tukey_weights #LSM Weights\n",
    "            , fit_c= True\n",
    "            #, weights= model_huber.coef_.tolist() #Huber Weights\n",
    "            )\n",
    "        \n",
    "        predicts_LSM = model_LSM.predict(X_test)\n",
    "        predicts_huber = model_huber.predict(X_test)\n",
    "        \n",
    "        res_p={}\n",
    "        res_p['LSM R2']= r2_score(Y_test, predicts_LSM)\n",
    "        res_p['Huber R2'] = r2_score(Y_test, predicts_huber)\n",
    "        res_p['Tukey R2'] = r2_score(Y_test,  coefs.x[0] + np.sum(X_test * coefs.x[1:-1], axis = 1))\n",
    "\n",
    "        res_p['Weights LSM'] = deepcopy(model_LSM)\n",
    "        res_p['Weights Huber'] = deepcopy(model_huber)\n",
    "        res_p['Model Tukey'] = deepcopy(coefs)\n",
    "\n",
    "        results[p]= res_p\n",
    "    except:\n",
    "        continue    "
   ]
  },
  {
   "cell_type": "code",
   "execution_count": 12,
   "metadata": {},
   "outputs": [
    {
     "name": "stdout",
     "output_type": "stream",
     "text": [
      "Polynome 2 :  0.11802142521110304 0.10378318766106309 -1.1506584864596308\n",
      "Polynome 3 :  0.13988827943987325 0.11778037186170665 -5.048891141908989\n",
      "Polynome 4 :  0.1485453194896066 0.12535517219516512 0.14854591611233492\n",
      "Polynome 7 :  0.15506000149805832 -4.550727061863037 0.15506000149805832\n",
      "Polynome 8 :  0.16894855883087834 -4.5507383086018915 0.16894855883087834\n",
      "Polynome 9 :  0.10937583430654163 -4.550741599534047 0.10937583430654696\n",
      "Polynome 10 :  0.07543972649251529 -4.550742565782403 0.07543972649252295\n",
      "Polynome 11 :  0.06567173936430448 -4.550742849863243 0.06567173936457715\n",
      "Polynome 12 :  -0.12127471031996495 -4.550742933418479 -0.12127471032063797\n"
     ]
    }
   ],
   "source": [
    "for r in results:\n",
    "    print(f'Polynome {r} : ',results[r]['LSM R2'], results[r]['Huber R2'], results[r]['Tukey R2'])"
   ]
  },
  {
   "cell_type": "code",
   "execution_count": 13,
   "metadata": {},
   "outputs": [],
   "source": [
    "best_LSM_p = sorted(results.items(), key = lambda x: -x[1]['LSM R2'])[0]\n",
    "best_Huber_p = sorted(results.items(), key = lambda x: -x[1]['Huber R2'])[0]\n",
    "best_Tukey_p = sorted(results.items(), key = lambda x: -x[1]['Tukey R2'])[0]"
   ]
  },
  {
   "attachments": {},
   "cell_type": "markdown",
   "metadata": {},
   "source": [
    "### Best LSM"
   ]
  },
  {
   "cell_type": "code",
   "execution_count": 14,
   "metadata": {},
   "outputs": [
    {
     "name": "stderr",
     "output_type": "stream",
     "text": [
      "C:\\Users\\Kirill\\AppData\\Local\\Temp\\ipykernel_12232\\3602148065.py:16: VisibleDeprecationWarning: Creating an ndarray from ragged nested sequences (which is a list-or-tuple of lists-or-tuples-or ndarrays with different lengths or shapes) is deprecated. If you meant to do this, you must specify 'dtype=object' when creating the ndarray.\n",
      "  XY = np.array(sorted(list(zip(df['LotArea'].values, predicts_LSM)), key = lambda x: x[0]))\n"
     ]
    },
    {
     "data": {
      "image/png": "[encoded data removed]",
      "text/plain": [
       "<Figure size 432x288 with 1 Axes>"
      ]
     },
     "metadata": {
      "needs_background": "light"
     },
     "output_type": "display_data"
    }
   ],
   "source": [
    "p = best_LSM_p[0]\n",
    "X = df[['NormLotArea']].values\n",
    "#X = df[['LotArea']].values\n",
    "X = X.reshape(len(X), -1)\n",
    "\n",
    "X = PolynomialFeatures(degree = p, include_bias=False).fit_transform(X)#[:, -1]\n",
    "X = X.reshape(len(X), -1)\n",
    "\n",
    "model_LSM = best_LSM_p[1]['Weights LSM']\n",
    "predicts_LSM = model_LSM.predict(X)\n",
    "\n",
    "import matplotlib.pyplot as plt\n",
    "%matplotlib inline\n",
    "plt.scatter(df['LotArea'].values, df[['SalePrice']].values, label = 'True Values', linewidths=5)\n",
    "\n",
    "XY = np.array(sorted(list(zip(df['LotArea'].values, predicts_LSM)), key = lambda x: x[0]))\n",
    "plt.plot(XY.T[0] , XY.T[1], label = 'LSM Prediction', color = 'red', linewidth = 1)\n",
    "plt.title(f'Best Polynome {p} for LSM Model')\n",
    "plt.legend()\n",
    "plt.show()"
   ]
  },
  {
   "attachments": {},
   "cell_type": "markdown",
   "metadata": {},
   "source": [
    "### Best Huber"
   ]
  },
  {
   "cell_type": "code",
   "execution_count": 15,
   "metadata": {},
   "outputs": [
    {
     "data": {
      "image/png": "[encoded data removed]",
      "text/plain": [
       "<Figure size 432x288 with 1 Axes>"
      ]
     },
     "metadata": {
      "needs_background": "light"
     },
     "output_type": "display_data"
    }
   ],
   "source": [
    "p = best_Huber_p[0]\n",
    "X = df[['NormLotArea']].values\n",
    "#X = df[['LotArea']].values\n",
    "X = X.reshape(len(X), -1)\n",
    "\n",
    "X = PolynomialFeatures(degree = p, include_bias=False).fit_transform(X)#[:, -1]\n",
    "X = X.reshape(len(X), -1)\n",
    "\n",
    "model_huber = best_Huber_p[1]['Weights Huber']\n",
    "predicts_huber = model_huber.predict(X)\n",
    "\n",
    "\n",
    "import matplotlib.pyplot as plt\n",
    "%matplotlib inline\n",
    "plt.scatter(df['LotArea'].values, df[['SalePrice']].values, label = 'True Values', linewidths=5)\n",
    "\n",
    "XY = np.array(sorted(list(zip(df['LotArea'].values, predicts_huber)), key = lambda x: x[0]))\n",
    "plt.plot(XY.T[0] , XY.T[1], label = 'Huber Prediction', color = 'blue', linewidth = 1)\n",
    "\n",
    "\n",
    "plt.title(f'Best Polynome {p} for Huber Model')\n",
    "plt.legend()\n",
    "plt.show()"
   ]
  },
  {
   "attachments": {},
   "cell_type": "markdown",
   "metadata": {},
   "source": [
    "### Best Tukey"
   ]
  },
  {
   "cell_type": "code",
   "execution_count": 16,
   "metadata": {},
   "outputs": [
    {
     "data": {
      "image/png": "[encoded data removed]",
      "text/plain": [
       "<Figure size 432x288 with 1 Axes>"
      ]
     },
     "metadata": {
      "needs_background": "light"
     },
     "output_type": "display_data"
    }
   ],
   "source": [
    "p = best_Tukey_p[0]\n",
    "X = df[['NormLotArea']].values\n",
    "#X = df[['LotArea']].values\n",
    "X = X.reshape(len(X), -1)\n",
    "\n",
    "X = PolynomialFeatures(degree = p, include_bias=False).fit_transform(X)#[:, -1]\n",
    "X = X.reshape(len(X), -1)\n",
    "\n",
    "coefs = best_Tukey_p[1]['Model Tukey']\n",
    "\n",
    "import matplotlib.pyplot as plt\n",
    "%matplotlib inline\n",
    "plt.scatter(df['LotArea'].values, df[['SalePrice']].values, label = 'True Values', linewidths=5)\n",
    "\n",
    "\n",
    "XY = np.array(  \n",
    "                sorted(list(zip(df['LotArea'].values.tolist()\n",
    "                            ,  coefs.x[0]+np.sum(X * coefs.x[1:-1], axis = 1)))\n",
    "                    , key = lambda x: x[0])\n",
    "                    )\n",
    "plt.plot(XY.T[0] , XY.T[1], '--*', label = 'Tukey', color = 'yellow')\n",
    "plt.title(f'Best Polynome {p} for Tukey Model')\n",
    "plt.legend()\n",
    "plt.show()"
   ]
  },
  {
   "attachments": {},
   "cell_type": "markdown",
   "metadata": {},
   "source": [
    "### Best for each Model Together"
   ]
  },
  {
   "cell_type": "code",
   "execution_count": 17,
   "metadata": {},
   "outputs": [
    {
     "name": "stderr",
     "output_type": "stream",
     "text": [
      "C:\\Users\\Kirill\\AppData\\Local\\Temp\\ipykernel_12232\\99190932.py:5: VisibleDeprecationWarning: Creating an ndarray from ragged nested sequences (which is a list-or-tuple of lists-or-tuples-or ndarrays with different lengths or shapes) is deprecated. If you meant to do this, you must specify 'dtype=object' when creating the ndarray.\n",
      "  XY = np.array(sorted(list(zip(df['LotArea'].values, predicts_LSM)), key = lambda x: x[0]))\n"
     ]
    },
    {
     "data": {
      "text/plain": [
       "<matplotlib.legend.Legend at 0x11f0911cf40>"
      ]
     },
     "execution_count": 17,
     "metadata": {},
     "output_type": "execute_result"
    },
    {
     "data": {
      "image/png": "[encoded data removed]",
      "text/plain": [
       "<Figure size 432x288 with 1 Axes>"
      ]
     },
     "metadata": {
      "needs_background": "light"
     },
     "output_type": "display_data"
    }
   ],
   "source": [
    "import matplotlib.pyplot as plt\n",
    "%matplotlib inline\n",
    "plt.scatter(df['LotArea'].values, df[['SalePrice']].values, label = 'True Values', linewidths=5)\n",
    "\n",
    "XY = np.array(sorted(list(zip(df['LotArea'].values, predicts_LSM)), key = lambda x: x[0]))\n",
    "plt.plot(XY.T[0] , XY.T[1], label = f'LSM Prediction polynome {best_LSM_p[0]}', color = 'red', linewidth = 1)\n",
    "\n",
    "XY = np.array(sorted(list(zip(df['LotArea'].values, predicts_huber)), key = lambda x: x[0]))\n",
    "plt.plot(XY.T[0] , XY.T[1], label = f'Huber Prediction polynome {best_Huber_p[0]}', color = 'blue', linewidth = 1)\n",
    "\n",
    "XY = np.array(  \n",
    "                sorted(list(zip(df['LotArea'].values.tolist()\n",
    "                            ,  coefs.x[0]+np.sum(X * coefs.x[1:-1], axis = 1)))\n",
    "                    , key = lambda x: x[0])\n",
    "                    )\n",
    "plt.plot(XY.T[0] , XY.T[1], '--*', label = f'Tukey Prediction polynome {best_Tukey_p[0]}', color = 'yellow')\n",
    "plt.legend()"
   ]
  }
 ],
 "metadata": {
  "kernelspec": {
   "display_name": "bayes",
   "language": "python",
   "name": "python3"
  },
  "language_info": {
   "codemirror_mode": {
    "name": "ipython",
    "version": 3
   },
   "file_extension": ".py",
   "mimetype": "text/x-python",
   "name": "python",
   "nbconvert_exporter": "python",
   "pygments_lexer": "ipython3",
   "version": "3.9.12 (main, Apr  4 2022, 05:22:27) [MSC v.1916 64 bit (AMD64)]"
  },
  "vscode": {
   "interpreter": {
    "hash": "f44b1d12d67a36c46179d86223962968914b65b7c7ad2cb271a366d124476f64"
   }
  }
 },
 "nbformat": 4,
 "nbformat_minor": 4
}
