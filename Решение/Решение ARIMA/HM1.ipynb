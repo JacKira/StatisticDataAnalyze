{
  "nbformat": 4,
  "nbformat_minor": 5,
  "metadata": {
    "colab": {
      "name": "HM1.ipynb",
      "provenance": [],
      "collapsed_sections": [
        "oe4b8alRScql",
        "PBrkWvxD3ZBl",
        "khODHNKuExHV"
      ]
    },
    "kernelspec": {
      "display_name": "Python 3",
      "language": "python",
      "name": "python3"
    },
    "language_info": {
      "codemirror_mode": {
        "name": "ipython",
        "version": 3
      },
      "file_extension": ".py",
      "mimetype": "text/x-python",
      "name": "python",
      "nbconvert_exporter": "python",
      "pygments_lexer": "ipython3",
      "version": "3.8.8"
    }
  },
  "cells": [
    {
      "cell_type": "code",
      "metadata": {
        "id": "JTPY3ukjHsiQ",
        "colab": {
          "base_uri": "https://localhost:8080/"
        },
        "outputId": "427e282f-9fa1-4aee-9360-a83a7eb5fbec"
      },
      "source": [
        "from google.colab import drive\n",
        "drive.mount('/content/drive')\n"
      ],
      "id": "JTPY3ukjHsiQ",
      "execution_count": 1,
      "outputs": [
        {
          "output_type": "stream",
          "name": "stdout",
          "text": [
            "Mounted at /content/drive\n"
          ]
        }
      ]
    },
    {
      "cell_type": "code",
      "metadata": {
        "id": "bf6b7f68",
        "colab": {
          "base_uri": "https://localhost:8080/"
        },
        "outputId": "68244ec1-a301-495b-a424-63439fe727b7"
      },
      "source": [
        "import zipfile as zp\n",
        "import numpy as np\n",
        "import pandas as pd\n",
        "import re\n",
        "from sklearn.metrics import mean_squared_error\n",
        "import gc\n",
        "from statsmodels.tsa.arima_model import ARIMA\n",
        "from sklearn.metrics import accuracy_score\n",
        "import matplotlib.pyplot as plt"
      ],
      "id": "bf6b7f68",
      "execution_count": 2,
      "outputs": [
        {
          "output_type": "stream",
          "name": "stderr",
          "text": [
            "/usr/local/lib/python3.7/dist-packages/statsmodels/tools/_testing.py:19: FutureWarning: pandas.util.testing is deprecated. Use the functions in the public API at pandas.testing instead.\n",
            "  import pandas.util.testing as tm\n"
          ]
        }
      ]
    },
    {
      "cell_type": "code",
      "metadata": {
        "id": "e2faffab",
        "colab": {
          "base_uri": "https://localhost:8080/",
          "height": 455
        },
        "outputId": "d0dce988-ad47-43f0-cad7-b403e301ac56"
      },
      "source": [
        "df = pd.read_csv('/content/drive/MyDrive/ML/DA/train.zip', index_col = 0)\n",
        "df"
      ],
      "id": "e2faffab",
      "execution_count": 3,
      "outputs": [
        {
          "output_type": "execute_result",
          "data": {
            "text/html": [
              "<div>\n",
              "<style scoped>\n",
              "    .dataframe tbody tr th:only-of-type {\n",
              "        vertical-align: middle;\n",
              "    }\n",
              "\n",
              "    .dataframe tbody tr th {\n",
              "        vertical-align: top;\n",
              "    }\n",
              "\n",
              "    .dataframe thead th {\n",
              "        text-align: right;\n",
              "    }\n",
              "</style>\n",
              "<table border=\"1\" class=\"dataframe\">\n",
              "  <thead>\n",
              "    <tr style=\"text-align: right;\">\n",
              "      <th></th>\n",
              "      <th>visits</th>\n",
              "    </tr>\n",
              "    <tr>\n",
              "      <th>id</th>\n",
              "      <th></th>\n",
              "    </tr>\n",
              "  </thead>\n",
              "  <tbody>\n",
              "    <tr>\n",
              "      <th>1</th>\n",
              "      <td>30 84 126 135 137 179 242 342 426 456 460 462...</td>\n",
              "    </tr>\n",
              "    <tr>\n",
              "      <th>2</th>\n",
              "      <td>24 53 75 134 158 192 194 211 213 238 251 305 ...</td>\n",
              "    </tr>\n",
              "    <tr>\n",
              "      <th>3</th>\n",
              "      <td>51 143 173 257 446 491 504 510 559 616 719 73...</td>\n",
              "    </tr>\n",
              "    <tr>\n",
              "      <th>4</th>\n",
              "      <td>1 20 22 92 124 149 211 335 387 390 406 460 48...</td>\n",
              "    </tr>\n",
              "    <tr>\n",
              "      <th>5</th>\n",
              "      <td>34 51 56 106 110 121 163 233 266 275 345 359 ...</td>\n",
              "    </tr>\n",
              "    <tr>\n",
              "      <th>...</th>\n",
              "      <td>...</td>\n",
              "    </tr>\n",
              "    <tr>\n",
              "      <th>299996</th>\n",
              "      <td>6 12 15 30 33 48 49 50 55 56 70 74 76 83 84 9...</td>\n",
              "    </tr>\n",
              "    <tr>\n",
              "      <th>299997</th>\n",
              "      <td>4 7 12 18 19 35 41 53 55 60 75 77 81 82 91 95...</td>\n",
              "    </tr>\n",
              "    <tr>\n",
              "      <th>299998</th>\n",
              "      <td>1 9 15 17 29 31 42 49 62 74 85 105 109 113 11...</td>\n",
              "    </tr>\n",
              "    <tr>\n",
              "      <th>299999</th>\n",
              "      <td>2 4 6 14 18 19 25 32 34 39 40 42 48 49 60 62 ...</td>\n",
              "    </tr>\n",
              "    <tr>\n",
              "      <th>300000</th>\n",
              "      <td>1 6 7 13 18 21 22 31 33 35 40 41 54 55 56 57 ...</td>\n",
              "    </tr>\n",
              "  </tbody>\n",
              "</table>\n",
              "<p>300000 rows × 1 columns</p>\n",
              "</div>"
            ],
            "text/plain": [
              "                                                   visits\n",
              "id                                                       \n",
              "1        30 84 126 135 137 179 242 342 426 456 460 462...\n",
              "2        24 53 75 134 158 192 194 211 213 238 251 305 ...\n",
              "3        51 143 173 257 446 491 504 510 559 616 719 73...\n",
              "4        1 20 22 92 124 149 211 335 387 390 406 460 48...\n",
              "5        34 51 56 106 110 121 163 233 266 275 345 359 ...\n",
              "...                                                   ...\n",
              "299996   6 12 15 30 33 48 49 50 55 56 70 74 76 83 84 9...\n",
              "299997   4 7 12 18 19 35 41 53 55 60 75 77 81 82 91 95...\n",
              "299998   1 9 15 17 29 31 42 49 62 74 85 105 109 113 11...\n",
              "299999   2 4 6 14 18 19 25 32 34 39 40 42 48 49 60 62 ...\n",
              "300000   1 6 7 13 18 21 22 31 33 35 40 41 54 55 56 57 ...\n",
              "\n",
              "[300000 rows x 1 columns]"
            ]
          },
          "metadata": {},
          "execution_count": 3
        }
      ]
    },
    {
      "cell_type": "markdown",
      "metadata": {
        "id": "oe4b8alRScql"
      },
      "source": [
        "# Применим прогноз временного ряда с помощью ARIMA.\n",
        "Преобразуем последовательность дней посещений в временной ряд, где номер дня недели \n",
        "зависит от номера посещения\n",
        "\n"
      ],
      "id": "oe4b8alRScql"
    },
    {
      "cell_type": "code",
      "metadata": {
        "colab": {
          "base_uri": "https://localhost:8080/",
          "height": 207
        },
        "id": "FqfDAyuFSixU",
        "outputId": "0e7fe1f2-5956-4130-f617-96e74a4f798e"
      },
      "source": [
        "dseries = df.iloc[0]\n",
        "id_i_visit = pd.DataFrame({'Days': dseries.str.split(' ')[0]}).iloc[1:].astype(int)\n",
        "id_i_visit.Days = id_i_visit.Days.agg(lambda x: x % 7 + 1)"
      ],
      "id": "FqfDAyuFSixU",
      "execution_count": null,
      "outputs": [
        {
          "ename": "NameError",
          "evalue": "ignored",
          "output_type": "error",
          "traceback": [
            "\u001b[0;31m---------------------------------------------------------------------------\u001b[0m",
            "\u001b[0;31mNameError\u001b[0m                                 Traceback (most recent call last)",
            "\u001b[0;32m<ipython-input-1-9bbbd8e7a91e>\u001b[0m in \u001b[0;36m<module>\u001b[0;34m()\u001b[0m\n\u001b[0;32m----> 1\u001b[0;31m \u001b[0mdseries\u001b[0m \u001b[0;34m=\u001b[0m \u001b[0mdf\u001b[0m\u001b[0;34m.\u001b[0m\u001b[0miloc\u001b[0m\u001b[0;34m[\u001b[0m\u001b[0;36m0\u001b[0m\u001b[0;34m]\u001b[0m\u001b[0;34m\u001b[0m\u001b[0;34m\u001b[0m\u001b[0m\n\u001b[0m\u001b[1;32m      2\u001b[0m \u001b[0mid_i_visit\u001b[0m \u001b[0;34m=\u001b[0m \u001b[0mpd\u001b[0m\u001b[0;34m.\u001b[0m\u001b[0mDataFrame\u001b[0m\u001b[0;34m(\u001b[0m\u001b[0;34m{\u001b[0m\u001b[0;34m'Days'\u001b[0m\u001b[0;34m:\u001b[0m \u001b[0mdseries\u001b[0m\u001b[0;34m.\u001b[0m\u001b[0mstr\u001b[0m\u001b[0;34m.\u001b[0m\u001b[0msplit\u001b[0m\u001b[0;34m(\u001b[0m\u001b[0;34m' '\u001b[0m\u001b[0;34m)\u001b[0m\u001b[0;34m[\u001b[0m\u001b[0;36m0\u001b[0m\u001b[0;34m]\u001b[0m\u001b[0;34m}\u001b[0m\u001b[0;34m)\u001b[0m\u001b[0;34m.\u001b[0m\u001b[0miloc\u001b[0m\u001b[0;34m[\u001b[0m\u001b[0;36m1\u001b[0m\u001b[0;34m:\u001b[0m\u001b[0;34m]\u001b[0m\u001b[0;34m.\u001b[0m\u001b[0mastype\u001b[0m\u001b[0;34m(\u001b[0m\u001b[0mint\u001b[0m\u001b[0;34m)\u001b[0m\u001b[0;34m\u001b[0m\u001b[0;34m\u001b[0m\u001b[0m\n\u001b[1;32m      3\u001b[0m \u001b[0mid_i_visit\u001b[0m\u001b[0;34m.\u001b[0m\u001b[0mDays\u001b[0m \u001b[0;34m=\u001b[0m \u001b[0mid_i_visit\u001b[0m\u001b[0;34m.\u001b[0m\u001b[0mDays\u001b[0m\u001b[0;34m.\u001b[0m\u001b[0magg\u001b[0m\u001b[0;34m(\u001b[0m\u001b[0;32mlambda\u001b[0m \u001b[0mx\u001b[0m\u001b[0;34m:\u001b[0m \u001b[0mx\u001b[0m \u001b[0;34m%\u001b[0m \u001b[0;36m7\u001b[0m \u001b[0;34m+\u001b[0m \u001b[0;36m1\u001b[0m\u001b[0;34m)\u001b[0m\u001b[0;34m\u001b[0m\u001b[0;34m\u001b[0m\u001b[0m\n",
            "\u001b[0;31mNameError\u001b[0m: name 'df' is not defined"
          ]
        }
      ]
    },
    {
      "cell_type": "code",
      "metadata": {
        "colab": {
          "base_uri": "https://localhost:8080/",
          "height": 281
        },
        "id": "7nPlfGeHSqco",
        "outputId": "df7b8da1-1299-4e76-8f05-8f3f220ae1e4"
      },
      "source": [
        "fig, ax = plt.subplots()\n",
        "ax.set_xticks(np.arange(min(id_i_visit.index), max(id_i_visit.index) + 1, 2))\n",
        "plt.plot(id_i_visit.Days)\n",
        "plt.title('Весь временной ряд')\n",
        "plt.show()"
      ],
      "id": "7nPlfGeHSqco",
      "execution_count": null,
      "outputs": [
        {
          "data": {
            "image/png": "[encoded data removed]",
            "text/plain": [
              "<Figure size 432x288 with 1 Axes>"
            ]
          },
          "metadata": {},
          "output_type": "display_data"
        }
      ]
    },
    {
      "cell_type": "markdown",
      "metadata": {
        "id": "1PmGjqtIclhL"
      },
      "source": [
        "Для демонстарции определим все предыдущие значения и подадим\n",
        "моделе"
      ],
      "id": "1PmGjqtIclhL"
    },
    {
      "cell_type": "code",
      "metadata": {
        "colab": {
          "base_uri": "https://localhost:8080/"
        },
        "id": "VEev0FZUTSdp",
        "outputId": "47d4fbfb-c298-4a2c-8d8b-83c61b5fdadc"
      },
      "source": [
        "history = id_i_visit.Days.tolist()[0:-1]\n",
        "print(len(history))"
      ],
      "id": "VEev0FZUTSdp",
      "execution_count": null,
      "outputs": [
        {
          "name": "stdout",
          "output_type": "stream",
          "text": [
            "28\n"
          ]
        }
      ]
    },
    {
      "cell_type": "code",
      "metadata": {
        "colab": {
          "base_uri": "https://localhost:8080/"
        },
        "id": "E0fHQwqf3_uP",
        "outputId": "d8aa4e18-f38c-4f44-ef8f-e59bdf656b8f"
      },
      "source": [
        "len(id_i_visit.Days.tolist())"
      ],
      "id": "E0fHQwqf3_uP",
      "execution_count": null,
      "outputs": [
        {
          "data": {
            "text/plain": [
              "29"
            ]
          },
          "execution_count": 7,
          "metadata": {},
          "output_type": "execute_result"
        }
      ]
    },
    {
      "cell_type": "code",
      "metadata": {
        "id": "Fi8pbnyUTtii"
      },
      "source": [
        "model = ARIMA(history, order=(1, 0, 0))\n",
        "model_fit = model.fit(gls = True)\n",
        "output = model_fit.predict(start = len(id_i_visit.Days.tolist()), end = len(id_i_visit.Days.tolist()))"
      ],
      "id": "Fi8pbnyUTtii",
      "execution_count": null,
      "outputs": []
    },
    {
      "cell_type": "code",
      "metadata": {
        "colab": {
          "base_uri": "https://localhost:8080/"
        },
        "id": "mnco6bGw1MiA",
        "outputId": "a15cfd0b-a9c5-45fe-a3bb-4a09fc984bd7"
      },
      "source": [
        "int(output[-1])"
      ],
      "id": "mnco6bGw1MiA",
      "execution_count": null,
      "outputs": [
        {
          "data": {
            "text/plain": [
              "3"
            ]
          },
          "execution_count": 9,
          "metadata": {},
          "output_type": "execute_result"
        }
      ]
    },
    {
      "cell_type": "markdown",
      "metadata": {
        "id": "3UY5-pzndyCj"
      },
      "source": [
        "Как видно на графике, для данного покупателя с периодом временного ряда равному трем, мы верно предсказали следующее посещение.\n"
      ],
      "id": "3UY5-pzndyCj"
    },
    {
      "cell_type": "code",
      "metadata": {
        "colab": {
          "base_uri": "https://localhost:8080/",
          "height": 627
        },
        "id": "9uLRxV6TUDzQ",
        "outputId": "624456f6-95bd-45ab-e9da-62ca30097445"
      },
      "source": [
        "fig, ax = plt.subplots(figsize = (15, 10))\n",
        "ax.set_xticks(np.arange(min(id_i_visit.index), max(id_i_visit.index) + 1, 2))\n",
        "plt.scatter(np.arange(min(id_i_visit.index), max(id_i_visit.index), 1), id_i_visit.Days.iloc[0:len(id_i_visit.Days.tolist()) - 1])\n",
        "plt.scatter(len(id_i_visit.Days.tolist()), int(output[-1]), label = 'Predict', linewidth = 15)\n",
        "plt.scatter(max(id_i_visit.index), id_i_visit.Days.iloc[len(id_i_visit.Days.tolist())-1], label = 'True value')\n",
        "plt.legend()\n",
        "plt.title('Результат работы')"
      ],
      "id": "9uLRxV6TUDzQ",
      "execution_count": null,
      "outputs": [
        {
          "data": {
            "text/plain": [
              "Text(0.5, 1.0, 'Результат работы')"
            ]
          },
          "execution_count": 10,
          "metadata": {},
          "output_type": "execute_result"
        },
        {
          "data": {
            "image/png": "[encoded data removed]",
            "text/plain": [
              "<Figure size 1080x720 with 1 Axes>"
            ]
          },
          "metadata": {},
          "output_type": "display_data"
        }
      ]
    },
    {
      "cell_type": "markdown",
      "metadata": {
        "id": "4a0204c3"
      },
      "source": [
        "# Обработка всего сета"
      ],
      "id": "4a0204c3"
    },
    {
      "cell_type": "markdown",
      "metadata": {
        "id": "PBrkWvxD3ZBl"
      },
      "source": [
        "## Проверка метода на выборке малого объема"
      ],
      "id": "PBrkWvxD3ZBl"
    },
    {
      "cell_type": "code",
      "metadata": {
        "id": "uCvOvHi5yTfT"
      },
      "source": [
        "def CutLastWeak(arr, n = 1, last_day = 1099, nxt_day = 0):\n",
        "    if(n == 0):\n",
        "        return [arr, nxt_day]\n",
        "    weak = 1\n",
        "    line_day = last_day - 7 * weak\n",
        "    cut_arr = arr[arr < line_day]\n",
        "    nxt_day = arr[arr >= line_day]\n",
        "    while(len(nxt_day) < 1):\n",
        "        weak +=1 \n",
        "        line_day = last_day - 7 * weak\n",
        "        cut_arr = arr[arr <= line_day]\n",
        "        nxt_day = arr[arr > line_day]\n",
        "    return CutLastWeak(cut_arr, n - 1, line_day, nxt_day[0])"
      ],
      "id": "uCvOvHi5yTfT",
      "execution_count": null,
      "outputs": []
    },
    {
      "cell_type": "code",
      "metadata": {
        "colab": {
          "base_uri": "https://localhost:8080/"
        },
        "id": "xmn0R6N90RsO",
        "outputId": "6245711c-bb7a-4f2e-f4d9-cd4a50230a45"
      },
      "source": [
        "id_i_visit = pd.DataFrame({'Days': df.iloc[0].str.split(' ')[0]}).iloc[1:].astype(int)\n",
        "print(CutLastWeak(id_i_visit.Days.values.reshape(1, -1)[0], 2, 1099))\n",
        "print(id_i_visit.Days.values.reshape(1, -1)[0].tolist())"
      ],
      "id": "xmn0R6N90RsO",
      "execution_count": null,
      "outputs": [
        {
          "name": "stdout",
          "output_type": "stream",
          "text": [
            "[array([ 30,  84, 126, 135, 137, 179, 242, 342, 426, 456, 460, 462, 483,\n",
            "       594, 600, 604, 704, 723, 744, 787, 804, 886, 924, 928, 946, 954]), 1039]\n",
            "[30, 84, 126, 135, 137, 179, 242, 342, 426, 456, 460, 462, 483, 594, 600, 604, 704, 723, 744, 787, 804, 886, 924, 928, 946, 954, 1039, 1040, 1052]\n"
          ]
        }
      ]
    },
    {
      "cell_type": "code",
      "metadata": {
        "id": "71b079aa"
      },
      "source": [
        "def Predict_True_test(df):\n",
        "    import pandas as pd\n",
        "    id_i_visit = pd.DataFrame({'Days': df.str.split(' ')[0]}).iloc[1:].astype(int)\n",
        "    cut = CutLastWeak(id_i_visit.Days.values.reshape(1, -1)[0], 2, 1099) # Исключим последние две недели\n",
        "    cut[1] = cut[1] % 7 + 1\n",
        "    id_i_visit_cut = pd.DataFrame({'Days':cut[0]}).agg(lambda x: x % 7 + 1) #Преобразуем значения в ряд #Преобразуем значения в ряд\n",
        "    history = id_i_visit_cut.Days.tolist() \n",
        "    try:\n",
        "        for i in range(1, 14): #поиск оптимального периода\n",
        "            p = i\n",
        "            model = ARIMA(history, order=(p, 0, 0))\n",
        "            model_fit = model.fit(disp = 0)\n",
        "            output = model_fit.predict(start =len(id_i_visit_cut.Days.tolist())) #Найдем прогноз для n - 1 дня\n",
        "            if(cut[1] == int(output[-1])): #Сравним с реальным значением\n",
        "                break #Если предсказанное значение совпадает с реальным, то выходим из цикла оптимизации гиперпараметра\n",
        "        cut = CutLastWeak(id_i_visit.Days.values.reshape(1, -1)[0], 1, 1099) # Исключим последние две недели\n",
        "        id_i_visit_cut = pd.DataFrame({'Days':cut[0]}).agg(lambda x: x % 7 + 1) #Преобразуем значения в ряд #Преобразуем значения в ряд\n",
        "        history = id_i_visit_cut.Days.tolist() \n",
        "        model = ARIMA(history, order=(p, 0, 0))\n",
        "        model_fit = model.fit(disp = 0)\n",
        "        cut[1] = cut[1] % 7 + 1\n",
        "        output = model_fit.predict(start =len(id_i_visit_cut.Days.tolist())) #Найдем n - е значением\n",
        "        if(int(output[-1]) == 0):\n",
        "                return (int(np.round(np.random.uniform(1, 7))), cut[1])\n",
        "        return (int(output[-1]), cut[1])\n",
        "    except:\n",
        "        return (int(np.round(np.random.uniform(1, 7))), cut[1])"
      ],
      "id": "71b079aa",
      "execution_count": null,
      "outputs": []
    },
    {
      "cell_type": "code",
      "metadata": {
        "colab": {
          "base_uri": "https://localhost:8080/"
        },
        "id": "QdA5guG_qVJ-",
        "outputId": "409a89ac-76a8-4d58-ea04-cf3629adf267"
      },
      "source": [
        "Predict_True_test(df.iloc[0])"
      ],
      "id": "QdA5guG_qVJ-",
      "execution_count": null,
      "outputs": [
        {
          "data": {
            "text/plain": [
              "(4, 3)"
            ]
          },
          "execution_count": 16,
          "metadata": {},
          "output_type": "execute_result"
        }
      ]
    },
    {
      "cell_type": "code",
      "metadata": {
        "colab": {
          "base_uri": "https://localhost:8080/"
        },
        "id": "tTWFrmXpg8HI",
        "outputId": "aeb5a981-98c9-4c76-b648-d560b5dd3698"
      },
      "source": [
        "\n",
        "df.shape"
      ],
      "id": "tTWFrmXpg8HI",
      "execution_count": null,
      "outputs": [
        {
          "data": {
            "text/plain": [
              "(300000, 1)"
            ]
          },
          "execution_count": 17,
          "metadata": {},
          "output_type": "execute_result"
        }
      ]
    },
    {
      "cell_type": "code",
      "metadata": {
        "id": "3b9f51b1"
      },
      "source": [
        "from IPython.display import HTML, display\n",
        "import time\n",
        "def progress(value, max=100):\n",
        "    return HTML(\"\"\"\n",
        "        <progress\n",
        "            value='{value}'\n",
        "            max='{max}',\n",
        "            style='width: 100%'\n",
        "        >\n",
        "            {value}\n",
        "        </progress>\n",
        "    \"\"\".format(value=value, max=max))"
      ],
      "id": "3b9f51b1",
      "execution_count": null,
      "outputs": []
    },
    {
      "cell_type": "code",
      "metadata": {
        "colab": {
          "base_uri": "https://localhost:8080/",
          "height": 72
        },
        "id": "xu4zAiH6eV2C",
        "outputId": "531f8e55-4ab3-46de-dcc9-7094c1cf818a"
      },
      "source": [
        "%%time\n",
        "n = 1000\n",
        "ds = df.sample(n)\n",
        "out = display(progress(0, 100), display_id=True)\n",
        "true = []\n",
        "predict = []\n",
        "for i in range(0, n):\n",
        "        res = Predict_True_test(ds.iloc[i])\n",
        "        predict.append(res[0])\n",
        "        true.append(res[1])\n",
        "        out.update(progress(i, n))\n",
        "accuracy_score(true, predict)"
      ],
      "id": "xu4zAiH6eV2C",
      "execution_count": null,
      "outputs": [
        {
          "data": {
            "text/html": [
              "\n",
              "        <progress\n",
              "            value='999'\n",
              "            max='1000',\n",
              "            style='width: 100%'\n",
              "        >\n",
              "            999\n",
              "        </progress>\n",
              "    "
            ],
            "text/plain": [
              "<IPython.core.display.HTML object>"
            ]
          },
          "metadata": {},
          "output_type": "display_data"
        },
        {
          "name": "stdout",
          "output_type": "stream",
          "text": [
            "CPU times: user 1h 6min, sys: 49min 5s, total: 1h 55min 5s\n",
            "Wall time: 1h 44s\n"
          ]
        }
      ]
    },
    {
      "cell_type": "code",
      "metadata": {
        "colab": {
          "base_uri": "https://localhost:8080/"
        },
        "id": "uLaXjTDbDNgH",
        "outputId": "85537512-6295-4be3-abd3-ebc3492cd151"
      },
      "source": [
        "print(f\"ARIMA Score:{accuracy_score(true, predict)}\")"
      ],
      "id": "uLaXjTDbDNgH",
      "execution_count": null,
      "outputs": [
        {
          "name": "stdout",
          "output_type": "stream",
          "text": [
            "ARIMA Score:0.111\n"
          ]
        }
      ]
    },
    {
      "cell_type": "code",
      "metadata": {
        "colab": {
          "base_uri": "https://localhost:8080/"
        },
        "id": "u_TdpitED1bJ",
        "outputId": "c965c1cb-b404-4c5e-c519-fde47f41b0fd"
      },
      "source": [
        "#baseline\n",
        "predict_uni = list(map(int, np.random.uniform(1, 7, len(true))))\n",
        "accuracy_score(true, predict_uni)"
      ],
      "id": "u_TdpitED1bJ",
      "execution_count": null,
      "outputs": [
        {
          "data": {
            "text/plain": [
              "0.139"
            ]
          },
          "execution_count": 28,
          "metadata": {},
          "output_type": "execute_result"
        }
      ]
    },
    {
      "cell_type": "markdown",
      "metadata": {
        "id": "xDceL9L-EF5Y"
      },
      "source": [
        "К сожалению, даже решение равномерного распределения работает лучше чем \n",
        "модель ARIMA"
      ],
      "id": "xDceL9L-EF5Y"
    },
    {
      "cell_type": "markdown",
      "metadata": {
        "id": "khODHNKuExHV"
      },
      "source": [
        "## Прогнозирование всего набора данных"
      ],
      "id": "khODHNKuExHV"
    },
    {
      "cell_type": "code",
      "metadata": {
        "id": "SIq13x4AGTsN"
      },
      "source": [
        "from IPython.display import HTML, display\n",
        "import time\n",
        "def progress(value, max=100):\n",
        "    return HTML(\"\"\"\n",
        "        <progress\n",
        "            value='{value}'\n",
        "            max='{max}',\n",
        "            style='width: 100%'\n",
        "        >\n",
        "            {value}\n",
        "        </progress>\n",
        "    \"\"\".format(value=value, max=max))"
      ],
      "id": "SIq13x4AGTsN",
      "execution_count": null,
      "outputs": []
    },
    {
      "cell_type": "code",
      "metadata": {
        "id": "yPIzPJyymE0-"
      },
      "source": [
        "def CutLastWeak(arr, n = 1, last_day = 1099, nxt_day = 0):\n",
        "    if(n == 0):\n",
        "        return [arr, nxt_day]\n",
        "    weak = 1\n",
        "    line_day = last_day - 7 * weak\n",
        "    cut_arr = arr[arr < line_day]\n",
        "    nxt_day = arr[arr >= line_day]\n",
        "    while(len(nxt_day) < 1):\n",
        "        weak +=1 \n",
        "        line_day = last_day - 7 * weak\n",
        "        cut_arr = arr[arr <= line_day]\n",
        "        nxt_day = arr[arr > line_day]\n",
        "    return CutLastWeak(cut_arr, n - 1, line_day, nxt_day[0])"
      ],
      "id": "yPIzPJyymE0-",
      "execution_count": null,
      "outputs": []
    },
    {
      "cell_type": "code",
      "metadata": {
        "id": "D9_viMTa_ctn"
      },
      "source": [
        "def Predict(df):\n",
        "    import pandas as pd\n",
        "    id_i_visit = pd.DataFrame({'Days': df.str.split(' ')[0]}).iloc[1:].astype(int)\n",
        "    cut = CutLastWeak(id_i_visit.Days.values.reshape(1, -1)[0], 1, 1099) # Исключим последние две недели\n",
        "    cut[1] = cut[1] % 7 + 1\n",
        "    id_i_visit_cut = pd.DataFrame({'Days':cut[0]}).agg(lambda x: x % 7 + 1) #Преобразуем значения в ряд #Преобразуем значения в ряд\n",
        "    history = id_i_visit_cut.Days.tolist() \n",
        "    try:\n",
        "        for i in range(1, 10): #поиск оптимального периода\n",
        "            p = i\n",
        "            model = ARIMA(history, order=(p, 0, 0))\n",
        "            model_fit = model.fit(disp = 0)\n",
        "            output = model_fit.predict(start =len(id_i_visit_cut.Days.tolist())) #Найдем прогноз для n - 1 дня\n",
        "            if(cut[1] == int(output[-1])): #Сравним с реальным значением\n",
        "                break #Если предсказанное значение совпадает с реальным, то выходим из цикла оптимизации гиперпараметра\n",
        "        \n",
        "        id_i_visit_cut = id_i_visit.Days.agg(lambda x: x % 7 + 1) #Преобразуем значения в ряд #Преобразуем значения в ряд\n",
        "        history = id_i_visit_cut.Days.tolist() \n",
        "        model = ARIMA(history, order=(p, 0, 0))\n",
        "        model_fit = model.fit(disp = 0)\n",
        "        cut[1] = cut[1] % 7 + 1\n",
        "        output = model_fit.predict(start =len(id_i_visit_cut.Days.tolist())) #Найдем n - е значением\n",
        "        if(int(output[-1]) == 0):\n",
        "                return int(np.round(np.random.uniform(1, 7)))\n",
        "        return int(output[-1])\n",
        "    except:\n",
        "        return int(np.round(np.random.uniform(1, 7)))"
      ],
      "id": "D9_viMTa_ctn",
      "execution_count": null,
      "outputs": []
    },
    {
      "cell_type": "code",
      "metadata": {
        "colab": {
          "base_uri": "https://localhost:8080/",
          "height": 1000
        },
        "id": "2851807a",
        "outputId": "08e10c1b-480a-45ff-82a7-069d98abd64f"
      },
      "source": [
        "%%time\n",
        "import csv\n",
        "n = df.shape[0]\n",
        "solution = pd.DataFrame()\n",
        "solution.to_csv('/content/drive/MyDrive/ML/DA/submission_ARIMA.csv')\n",
        "out = display(progress(0, 100), display_id=True)\n",
        "with open('/content/drive/MyDrive/ML/DA/submission_ARIMA.csv', 'w', newline='') as f:\n",
        "    writer = csv.writer(f, quoting=csv.QUOTE_NONE)\n",
        "    writer.writerow(['id','nextvisit'])\n",
        "    for i in range(n):\n",
        "        writer.writerow([str(int(i + 1)), str(int(Predict(df.iloc[i])))])\n",
        "        out.update(progress(i, n)) \n",
        "    f.close()"
      ],
      "id": "2851807a",
      "execution_count": null,
      "outputs": [
        {
          "data": {
            "text/html": [
              "\n",
              "        <progress\n",
              "            value='944'\n",
              "            max='300000',\n",
              "            style='width: 100%'\n",
              "        >\n",
              "            944\n",
              "        </progress>\n",
              "    "
            ],
            "text/plain": [
              "<IPython.core.display.HTML object>"
            ]
          },
          "metadata": {},
          "output_type": "display_data"
        },
        {
          "name": "stderr",
          "output_type": "stream",
          "text": [
            "/usr/local/lib/python3.7/dist-packages/statsmodels/base/model.py:492: HessianInversionWarning: Inverting hessian failed, no bse or cov_params available\n",
            "  'available', HessianInversionWarning)\n",
            "/usr/local/lib/python3.7/dist-packages/statsmodels/base/model.py:512: ConvergenceWarning: Maximum Likelihood optimization failed to converge. Check mle_retvals\n",
            "  \"Check mle_retvals\", ConvergenceWarning)\n",
            "/usr/local/lib/python3.7/dist-packages/statsmodels/base/model.py:492: HessianInversionWarning: Inverting hessian failed, no bse or cov_params available\n",
            "  'available', HessianInversionWarning)\n",
            "/usr/local/lib/python3.7/dist-packages/statsmodels/base/model.py:512: ConvergenceWarning: Maximum Likelihood optimization failed to converge. Check mle_retvals\n",
            "  \"Check mle_retvals\", ConvergenceWarning)\n",
            "/usr/local/lib/python3.7/dist-packages/statsmodels/base/model.py:492: HessianInversionWarning: Inverting hessian failed, no bse or cov_params available\n",
            "  'available', HessianInversionWarning)\n",
            "/usr/local/lib/python3.7/dist-packages/statsmodels/base/model.py:492: HessianInversionWarning: Inverting hessian failed, no bse or cov_params available\n",
            "  'available', HessianInversionWarning)\n",
            "/usr/local/lib/python3.7/dist-packages/statsmodels/base/model.py:492: HessianInversionWarning: Inverting hessian failed, no bse or cov_params available\n",
            "  'available', HessianInversionWarning)\n",
            "/usr/local/lib/python3.7/dist-packages/statsmodels/base/model.py:512: ConvergenceWarning: Maximum Likelihood optimization failed to converge. Check mle_retvals\n",
            "  \"Check mle_retvals\", ConvergenceWarning)\n",
            "/usr/local/lib/python3.7/dist-packages/statsmodels/base/model.py:492: HessianInversionWarning: Inverting hessian failed, no bse or cov_params available\n",
            "  'available', HessianInversionWarning)\n",
            "/usr/local/lib/python3.7/dist-packages/statsmodels/base/model.py:512: ConvergenceWarning: Maximum Likelihood optimization failed to converge. Check mle_retvals\n",
            "  \"Check mle_retvals\", ConvergenceWarning)\n",
            "/usr/local/lib/python3.7/dist-packages/statsmodels/base/model.py:492: HessianInversionWarning: Inverting hessian failed, no bse or cov_params available\n",
            "  'available', HessianInversionWarning)\n",
            "/usr/local/lib/python3.7/dist-packages/statsmodels/base/model.py:512: ConvergenceWarning: Maximum Likelihood optimization failed to converge. Check mle_retvals\n",
            "  \"Check mle_retvals\", ConvergenceWarning)\n",
            "/usr/local/lib/python3.7/dist-packages/statsmodels/base/model.py:492: HessianInversionWarning: Inverting hessian failed, no bse or cov_params available\n",
            "  'available', HessianInversionWarning)\n",
            "/usr/local/lib/python3.7/dist-packages/statsmodels/base/model.py:512: ConvergenceWarning: Maximum Likelihood optimization failed to converge. Check mle_retvals\n",
            "  \"Check mle_retvals\", ConvergenceWarning)\n",
            "/usr/local/lib/python3.7/dist-packages/statsmodels/base/model.py:492: HessianInversionWarning: Inverting hessian failed, no bse or cov_params available\n",
            "  'available', HessianInversionWarning)\n",
            "/usr/local/lib/python3.7/dist-packages/statsmodels/base/model.py:512: ConvergenceWarning: Maximum Likelihood optimization failed to converge. Check mle_retvals\n",
            "  \"Check mle_retvals\", ConvergenceWarning)\n",
            "/usr/local/lib/python3.7/dist-packages/statsmodels/base/model.py:492: HessianInversionWarning: Inverting hessian failed, no bse or cov_params available\n",
            "  'available', HessianInversionWarning)\n",
            "/usr/local/lib/python3.7/dist-packages/statsmodels/base/model.py:512: ConvergenceWarning: Maximum Likelihood optimization failed to converge. Check mle_retvals\n",
            "  \"Check mle_retvals\", ConvergenceWarning)\n",
            "/usr/local/lib/python3.7/dist-packages/statsmodels/base/model.py:492: HessianInversionWarning: Inverting hessian failed, no bse or cov_params available\n",
            "  'available', HessianInversionWarning)\n",
            "/usr/local/lib/python3.7/dist-packages/statsmodels/base/model.py:512: ConvergenceWarning: Maximum Likelihood optimization failed to converge. Check mle_retvals\n",
            "  \"Check mle_retvals\", ConvergenceWarning)\n",
            "/usr/local/lib/python3.7/dist-packages/statsmodels/base/model.py:492: HessianInversionWarning: Inverting hessian failed, no bse or cov_params available\n",
            "  'available', HessianInversionWarning)\n",
            "/usr/local/lib/python3.7/dist-packages/statsmodels/base/model.py:512: ConvergenceWarning: Maximum Likelihood optimization failed to converge. Check mle_retvals\n",
            "  \"Check mle_retvals\", ConvergenceWarning)\n",
            "/usr/local/lib/python3.7/dist-packages/statsmodels/base/model.py:512: ConvergenceWarning: Maximum Likelihood optimization failed to converge. Check mle_retvals\n",
            "  \"Check mle_retvals\", ConvergenceWarning)\n",
            "/usr/local/lib/python3.7/dist-packages/statsmodels/base/model.py:492: HessianInversionWarning: Inverting hessian failed, no bse or cov_params available\n",
            "  'available', HessianInversionWarning)\n",
            "/usr/local/lib/python3.7/dist-packages/statsmodels/base/model.py:512: ConvergenceWarning: Maximum Likelihood optimization failed to converge. Check mle_retvals\n",
            "  \"Check mle_retvals\", ConvergenceWarning)\n",
            "/usr/local/lib/python3.7/dist-packages/statsmodels/base/model.py:492: HessianInversionWarning: Inverting hessian failed, no bse or cov_params available\n",
            "  'available', HessianInversionWarning)\n",
            "/usr/local/lib/python3.7/dist-packages/statsmodels/base/model.py:492: HessianInversionWarning: Inverting hessian failed, no bse or cov_params available\n",
            "  'available', HessianInversionWarning)\n",
            "/usr/local/lib/python3.7/dist-packages/statsmodels/base/model.py:492: HessianInversionWarning: Inverting hessian failed, no bse or cov_params available\n",
            "  'available', HessianInversionWarning)\n",
            "/usr/local/lib/python3.7/dist-packages/statsmodels/base/model.py:512: ConvergenceWarning: Maximum Likelihood optimization failed to converge. Check mle_retvals\n",
            "  \"Check mle_retvals\", ConvergenceWarning)\n"
          ]
        },
        {
          "data": {
            "text/html": [
              "\n",
              "        <progress\n",
              "            value='9410'\n",
              "            max='300000',\n",
              "            style='width: 100%'\n",
              "        >\n",
              "            9410\n",
              "        </progress>\n",
              "    "
            ],
            "text/plain": [
              "<IPython.core.display.HTML object>"
            ]
          },
          "metadata": {},
          "output_type": "display_data"
        },
        {
          "name": "stderr",
          "output_type": "stream",
          "text": [
            "/usr/local/lib/python3.7/dist-packages/statsmodels/base/model.py:492: HessianInversionWarning: Inverting hessian failed, no bse or cov_params available\n",
            "  'available', HessianInversionWarning)\n",
            "/usr/local/lib/python3.7/dist-packages/statsmodels/base/model.py:512: ConvergenceWarning: Maximum Likelihood optimization failed to converge. Check mle_retvals\n",
            "  \"Check mle_retvals\", ConvergenceWarning)\n",
            "/usr/local/lib/python3.7/dist-packages/statsmodels/base/model.py:492: HessianInversionWarning: Inverting hessian failed, no bse or cov_params available\n",
            "  'available', HessianInversionWarning)\n",
            "/usr/local/lib/python3.7/dist-packages/statsmodels/base/model.py:512: ConvergenceWarning: Maximum Likelihood optimization failed to converge. Check mle_retvals\n",
            "  \"Check mle_retvals\", ConvergenceWarning)\n",
            "/usr/local/lib/python3.7/dist-packages/statsmodels/base/model.py:512: ConvergenceWarning: Maximum Likelihood optimization failed to converge. Check mle_retvals\n",
            "  \"Check mle_retvals\", ConvergenceWarning)\n",
            "/usr/local/lib/python3.7/dist-packages/statsmodels/base/model.py:512: ConvergenceWarning: Maximum Likelihood optimization failed to converge. Check mle_retvals\n",
            "  \"Check mle_retvals\", ConvergenceWarning)\n",
            "/usr/local/lib/python3.7/dist-packages/statsmodels/base/model.py:512: ConvergenceWarning: Maximum Likelihood optimization failed to converge. Check mle_retvals\n",
            "  \"Check mle_retvals\", ConvergenceWarning)\n",
            "/usr/local/lib/python3.7/dist-packages/statsmodels/base/model.py:512: ConvergenceWarning: Maximum Likelihood optimization failed to converge. Check mle_retvals\n",
            "  \"Check mle_retvals\", ConvergenceWarning)\n",
            "/usr/local/lib/python3.7/dist-packages/statsmodels/base/model.py:512: ConvergenceWarning: Maximum Likelihood optimization failed to converge. Check mle_retvals\n",
            "  \"Check mle_retvals\", ConvergenceWarning)\n",
            "/usr/local/lib/python3.7/dist-packages/statsmodels/base/model.py:512: ConvergenceWarning: Maximum Likelihood optimization failed to converge. Check mle_retvals\n",
            "  \"Check mle_retvals\", ConvergenceWarning)\n",
            "/usr/local/lib/python3.7/dist-packages/statsmodels/base/model.py:492: HessianInversionWarning: Inverting hessian failed, no bse or cov_params available\n",
            "  'available', HessianInversionWarning)\n",
            "/usr/local/lib/python3.7/dist-packages/statsmodels/base/model.py:512: ConvergenceWarning: Maximum Likelihood optimization failed to converge. Check mle_retvals\n",
            "  \"Check mle_retvals\", ConvergenceWarning)\n",
            "/usr/local/lib/python3.7/dist-packages/statsmodels/base/model.py:512: ConvergenceWarning: Maximum Likelihood optimization failed to converge. Check mle_retvals\n",
            "  \"Check mle_retvals\", ConvergenceWarning)\n",
            "/usr/local/lib/python3.7/dist-packages/statsmodels/base/model.py:512: ConvergenceWarning: Maximum Likelihood optimization failed to converge. Check mle_retvals\n",
            "  \"Check mle_retvals\", ConvergenceWarning)\n",
            "/usr/local/lib/python3.7/dist-packages/statsmodels/tsa/tsatools.py:651: RuntimeWarning: invalid value encountered in arctanh\n",
            "  invarcoefs = 2*np.arctanh(params)\n",
            "/usr/local/lib/python3.7/dist-packages/statsmodels/base/model.py:492: HessianInversionWarning: Inverting hessian failed, no bse or cov_params available\n",
            "  'available', HessianInversionWarning)\n",
            "/usr/local/lib/python3.7/dist-packages/statsmodels/base/model.py:512: ConvergenceWarning: Maximum Likelihood optimization failed to converge. Check mle_retvals\n",
            "  \"Check mle_retvals\", ConvergenceWarning)\n",
            "/usr/local/lib/python3.7/dist-packages/statsmodels/base/model.py:512: ConvergenceWarning: Maximum Likelihood optimization failed to converge. Check mle_retvals\n",
            "  \"Check mle_retvals\", ConvergenceWarning)\n",
            "/usr/local/lib/python3.7/dist-packages/statsmodels/base/model.py:512: ConvergenceWarning: Maximum Likelihood optimization failed to converge. Check mle_retvals\n",
            "  \"Check mle_retvals\", ConvergenceWarning)\n",
            "/usr/local/lib/python3.7/dist-packages/statsmodels/base/model.py:512: ConvergenceWarning: Maximum Likelihood optimization failed to converge. Check mle_retvals\n",
            "  \"Check mle_retvals\", ConvergenceWarning)\n",
            "/usr/local/lib/python3.7/dist-packages/statsmodels/base/model.py:512: ConvergenceWarning: Maximum Likelihood optimization failed to converge. Check mle_retvals\n",
            "  \"Check mle_retvals\", ConvergenceWarning)\n",
            "/usr/local/lib/python3.7/dist-packages/statsmodels/base/model.py:512: ConvergenceWarning: Maximum Likelihood optimization failed to converge. Check mle_retvals\n",
            "  \"Check mle_retvals\", ConvergenceWarning)\n",
            "/usr/local/lib/python3.7/dist-packages/statsmodels/base/model.py:512: ConvergenceWarning: Maximum Likelihood optimization failed to converge. Check mle_retvals\n",
            "  \"Check mle_retvals\", ConvergenceWarning)\n",
            "/usr/local/lib/python3.7/dist-packages/statsmodels/base/model.py:512: ConvergenceWarning: Maximum Likelihood optimization failed to converge. Check mle_retvals\n",
            "  \"Check mle_retvals\", ConvergenceWarning)\n",
            "/usr/local/lib/python3.7/dist-packages/statsmodels/base/model.py:512: ConvergenceWarning: Maximum Likelihood optimization failed to converge. Check mle_retvals\n",
            "  \"Check mle_retvals\", ConvergenceWarning)\n",
            "/usr/local/lib/python3.7/dist-packages/statsmodels/base/model.py:512: ConvergenceWarning: Maximum Likelihood optimization failed to converge. Check mle_retvals\n",
            "  \"Check mle_retvals\", ConvergenceWarning)\n",
            "/usr/local/lib/python3.7/dist-packages/statsmodels/base/model.py:512: ConvergenceWarning: Maximum Likelihood optimization failed to converge. Check mle_retvals\n",
            "  \"Check mle_retvals\", ConvergenceWarning)\n",
            "/usr/local/lib/python3.7/dist-packages/statsmodels/base/model.py:512: ConvergenceWarning: Maximum Likelihood optimization failed to converge. Check mle_retvals\n",
            "  \"Check mle_retvals\", ConvergenceWarning)\n",
            "/usr/local/lib/python3.7/dist-packages/statsmodels/base/model.py:512: ConvergenceWarning: Maximum Likelihood optimization failed to converge. Check mle_retvals\n",
            "  \"Check mle_retvals\", ConvergenceWarning)\n",
            "/usr/local/lib/python3.7/dist-packages/statsmodels/base/model.py:512: ConvergenceWarning: Maximum Likelihood optimization failed to converge. Check mle_retvals\n",
            "  \"Check mle_retvals\", ConvergenceWarning)\n",
            "/usr/local/lib/python3.7/dist-packages/statsmodels/base/model.py:512: ConvergenceWarning: Maximum Likelihood optimization failed to converge. Check mle_retvals\n",
            "  \"Check mle_retvals\", ConvergenceWarning)\n",
            "/usr/local/lib/python3.7/dist-packages/statsmodels/base/model.py:512: ConvergenceWarning: Maximum Likelihood optimization failed to converge. Check mle_retvals\n",
            "  \"Check mle_retvals\", ConvergenceWarning)\n",
            "/usr/local/lib/python3.7/dist-packages/statsmodels/base/model.py:492: HessianInversionWarning: Inverting hessian failed, no bse or cov_params available\n",
            "  'available', HessianInversionWarning)\n",
            "/usr/local/lib/python3.7/dist-packages/statsmodels/base/model.py:512: ConvergenceWarning: Maximum Likelihood optimization failed to converge. Check mle_retvals\n",
            "  \"Check mle_retvals\", ConvergenceWarning)\n",
            "/usr/local/lib/python3.7/dist-packages/statsmodels/base/model.py:512: ConvergenceWarning: Maximum Likelihood optimization failed to converge. Check mle_retvals\n",
            "  \"Check mle_retvals\", ConvergenceWarning)\n",
            "/usr/local/lib/python3.7/dist-packages/statsmodels/base/model.py:512: ConvergenceWarning: Maximum Likelihood optimization failed to converge. Check mle_retvals\n",
            "  \"Check mle_retvals\", ConvergenceWarning)\n",
            "/usr/local/lib/python3.7/dist-packages/statsmodels/base/model.py:512: ConvergenceWarning: Maximum Likelihood optimization failed to converge. Check mle_retvals\n",
            "  \"Check mle_retvals\", ConvergenceWarning)\n",
            "/usr/local/lib/python3.7/dist-packages/statsmodels/base/model.py:512: ConvergenceWarning: Maximum Likelihood optimization failed to converge. Check mle_retvals\n",
            "  \"Check mle_retvals\", ConvergenceWarning)\n",
            "/usr/local/lib/python3.7/dist-packages/statsmodels/base/model.py:512: ConvergenceWarning: Maximum Likelihood optimization failed to converge. Check mle_retvals\n",
            "  \"Check mle_retvals\", ConvergenceWarning)\n",
            "/usr/local/lib/python3.7/dist-packages/statsmodels/base/model.py:512: ConvergenceWarning: Maximum Likelihood optimization failed to converge. Check mle_retvals\n",
            "  \"Check mle_retvals\", ConvergenceWarning)\n",
            "/usr/local/lib/python3.7/dist-packages/statsmodels/base/model.py:512: ConvergenceWarning: Maximum Likelihood optimization failed to converge. Check mle_retvals\n",
            "  \"Check mle_retvals\", ConvergenceWarning)\n",
            "/usr/local/lib/python3.7/dist-packages/statsmodels/base/model.py:492: HessianInversionWarning: Inverting hessian failed, no bse or cov_params available\n",
            "  'available', HessianInversionWarning)\n",
            "/usr/local/lib/python3.7/dist-packages/statsmodels/base/model.py:512: ConvergenceWarning: Maximum Likelihood optimization failed to converge. Check mle_retvals\n",
            "  \"Check mle_retvals\", ConvergenceWarning)\n",
            "/usr/local/lib/python3.7/dist-packages/statsmodels/base/model.py:512: ConvergenceWarning: Maximum Likelihood optimization failed to converge. Check mle_retvals\n",
            "  \"Check mle_retvals\", ConvergenceWarning)\n",
            "/usr/local/lib/python3.7/dist-packages/statsmodels/base/model.py:492: HessianInversionWarning: Inverting hessian failed, no bse or cov_params available\n",
            "  'available', HessianInversionWarning)\n",
            "/usr/local/lib/python3.7/dist-packages/statsmodels/base/model.py:512: ConvergenceWarning: Maximum Likelihood optimization failed to converge. Check mle_retvals\n",
            "  \"Check mle_retvals\", ConvergenceWarning)\n",
            "/usr/local/lib/python3.7/dist-packages/statsmodels/base/model.py:492: HessianInversionWarning: Inverting hessian failed, no bse or cov_params available\n",
            "  'available', HessianInversionWarning)\n",
            "/usr/local/lib/python3.7/dist-packages/statsmodels/base/model.py:512: ConvergenceWarning: Maximum Likelihood optimization failed to converge. Check mle_retvals\n",
            "  \"Check mle_retvals\", ConvergenceWarning)\n"
          ]
        }
      ]
    },
    {
      "cell_type": "code",
      "metadata": {
        "id": "lWZsZrwgKgcD"
      },
      "source": [
        ""
      ],
      "id": "lWZsZrwgKgcD",
      "execution_count": null,
      "outputs": []
    },
    {
      "cell_type": "markdown",
      "metadata": {
        "id": "jKTzeIYvx8H_"
      },
      "source": [
        "#Repeat"
      ],
      "id": "jKTzeIYvx8H_"
    },
    {
      "cell_type": "code",
      "metadata": {
        "id": "P6WL_HT78oSY"
      },
      "source": [
        "from IPython.display import HTML, display\n",
        "import time\n",
        "def progress(value, max=100):\n",
        "    return HTML(\"\"\"\n",
        "        <progress\n",
        "            value='{value}'\n",
        "            max='{max}',\n",
        "            style='width: 100%'\n",
        "        >\n",
        "            {value}\n",
        "        </progress>\n",
        "    \"\"\".format(value=value, max=max))"
      ],
      "id": "P6WL_HT78oSY",
      "execution_count": 4,
      "outputs": []
    },
    {
      "cell_type": "code",
      "metadata": {
        "id": "HStTNkqX8oSZ"
      },
      "source": [
        "def CutLastWeak(arr, n = 1, last_day = 1099, nxt_day = 0):\n",
        "    if(n == 0):\n",
        "        return [arr, nxt_day]\n",
        "    weak = 1\n",
        "    line_day = last_day - 7 * weak\n",
        "    cut_arr = arr[arr < line_day]\n",
        "    nxt_day = arr[arr >= line_day]\n",
        "    while(len(nxt_day) < 1):\n",
        "        weak +=1 \n",
        "        line_day = last_day - 7 * weak\n",
        "        cut_arr = arr[arr <= line_day]\n",
        "        nxt_day = arr[arr > line_day]\n",
        "    return CutLastWeak(cut_arr, n - 1, line_day, nxt_day[0])"
      ],
      "id": "HStTNkqX8oSZ",
      "execution_count": 5,
      "outputs": []
    },
    {
      "cell_type": "code",
      "metadata": {
        "id": "C1MfXcHJ8oSa"
      },
      "source": [
        "def Predict(df):\n",
        "    import pandas as pd\n",
        "    id_i_visit = pd.DataFrame({'Days': df.str.split(' ')[0]}).iloc[1:].astype(int)\n",
        "    cut = CutLastWeak(id_i_visit.Days.values.reshape(1, -1)[0], 1, 1099) # Исключим последние две недели\n",
        "    cut[1] = cut[1] % 7 + 1\n",
        "    id_i_visit_cut = pd.DataFrame({'Days':cut[0]}).agg(lambda x: x % 7 + 1) #Преобразуем значения в ряд #Преобразуем значения в ряд\n",
        "    history = id_i_visit_cut.Days.tolist() \n",
        "    try:\n",
        "        for i in range(1, 10): #поиск оптимального периода\n",
        "            p = i\n",
        "            model = ARIMA(history, order=(p, 0, 0))\n",
        "            model_fit = model.fit(disp = 0)\n",
        "            output = model_fit.predict(start =len(id_i_visit_cut.Days.tolist())) #Найдем прогноз для n - 1 дня\n",
        "            if(cut[1] == int(output[-1])): #Сравним с реальным значением\n",
        "                break #Если предсказанное значение совпадает с реальным, то выходим из цикла оптимизации гиперпараметра\n",
        "        \n",
        "        id_i_visit_cut = id_i_visit.Days.agg(lambda x: x % 7 + 1) #Преобразуем значения в ряд #Преобразуем значения в ряд\n",
        "        history = id_i_visit_cut.Days.tolist() \n",
        "        model = ARIMA(history, order=(p, 0, 0))\n",
        "        model_fit = model.fit(disp = 0)\n",
        "        cut[1] = cut[1] % 7 + 1\n",
        "        output = model_fit.predict(start =len(id_i_visit_cut.Days.tolist())) #Найдем n - е значением\n",
        "        if(int(output[-1]) == 0):\n",
        "                return int(np.round(np.random.uniform(1, 7)))\n",
        "        return int(output[-1])\n",
        "    except:\n",
        "        return int(np.round(np.random.uniform(1, 7)))"
      ],
      "id": "C1MfXcHJ8oSa",
      "execution_count": 6,
      "outputs": []
    },
    {
      "cell_type": "code",
      "metadata": {
        "colab": {
          "base_uri": "https://localhost:8080/",
          "height": 476
        },
        "id": "IF7d5R81x_rM",
        "outputId": "ae4c50de-c752-43d5-a821-538978075593"
      },
      "source": [
        "sb = pd.read_csv('/content/drive/MyDrive/ML/DA/submission_ARIMA.csv', index_col = 0)\n",
        "display(sb.head())\n",
        "display(sb.tail())\n",
        "print(sb.shape)"
      ],
      "id": "IF7d5R81x_rM",
      "execution_count": 13,
      "outputs": [
        {
          "output_type": "display_data",
          "data": {
            "text/html": [
              "<div>\n",
              "<style scoped>\n",
              "    .dataframe tbody tr th:only-of-type {\n",
              "        vertical-align: middle;\n",
              "    }\n",
              "\n",
              "    .dataframe tbody tr th {\n",
              "        vertical-align: top;\n",
              "    }\n",
              "\n",
              "    .dataframe thead th {\n",
              "        text-align: right;\n",
              "    }\n",
              "</style>\n",
              "<table border=\"1\" class=\"dataframe\">\n",
              "  <thead>\n",
              "    <tr style=\"text-align: right;\">\n",
              "      <th></th>\n",
              "      <th>nextvisit</th>\n",
              "    </tr>\n",
              "    <tr>\n",
              "      <th>id</th>\n",
              "      <th></th>\n",
              "    </tr>\n",
              "  </thead>\n",
              "  <tbody>\n",
              "    <tr>\n",
              "      <th>1</th>\n",
              "      <td>6</td>\n",
              "    </tr>\n",
              "    <tr>\n",
              "      <th>2</th>\n",
              "      <td>4</td>\n",
              "    </tr>\n",
              "    <tr>\n",
              "      <th>3</th>\n",
              "      <td>1</td>\n",
              "    </tr>\n",
              "    <tr>\n",
              "      <th>4</th>\n",
              "      <td>7</td>\n",
              "    </tr>\n",
              "    <tr>\n",
              "      <th>5</th>\n",
              "      <td>7</td>\n",
              "    </tr>\n",
              "  </tbody>\n",
              "</table>\n",
              "</div>"
            ],
            "text/plain": [
              "    nextvisit\n",
              "id           \n",
              "1           6\n",
              "2           4\n",
              "3           1\n",
              "4           7\n",
              "5           7"
            ]
          },
          "metadata": {}
        },
        {
          "output_type": "display_data",
          "data": {
            "text/html": [
              "<div>\n",
              "<style scoped>\n",
              "    .dataframe tbody tr th:only-of-type {\n",
              "        vertical-align: middle;\n",
              "    }\n",
              "\n",
              "    .dataframe tbody tr th {\n",
              "        vertical-align: top;\n",
              "    }\n",
              "\n",
              "    .dataframe thead th {\n",
              "        text-align: right;\n",
              "    }\n",
              "</style>\n",
              "<table border=\"1\" class=\"dataframe\">\n",
              "  <thead>\n",
              "    <tr style=\"text-align: right;\">\n",
              "      <th></th>\n",
              "      <th>nextvisit</th>\n",
              "    </tr>\n",
              "    <tr>\n",
              "      <th>id</th>\n",
              "      <th></th>\n",
              "    </tr>\n",
              "  </thead>\n",
              "  <tbody>\n",
              "    <tr>\n",
              "      <th>299996</th>\n",
              "      <td>6</td>\n",
              "    </tr>\n",
              "    <tr>\n",
              "      <th>299997</th>\n",
              "      <td>3</td>\n",
              "    </tr>\n",
              "    <tr>\n",
              "      <th>299998</th>\n",
              "      <td>4</td>\n",
              "    </tr>\n",
              "    <tr>\n",
              "      <th>299999</th>\n",
              "      <td>1</td>\n",
              "    </tr>\n",
              "    <tr>\n",
              "      <th>300000</th>\n",
              "      <td>5</td>\n",
              "    </tr>\n",
              "  </tbody>\n",
              "</table>\n",
              "</div>"
            ],
            "text/plain": [
              "        nextvisit\n",
              "id               \n",
              "299996          6\n",
              "299997          3\n",
              "299998          4\n",
              "299999          1\n",
              "300000          5"
            ]
          },
          "metadata": {}
        },
        {
          "output_type": "stream",
          "name": "stdout",
          "text": [
            "(300000, 1)\n"
          ]
        }
      ]
    },
    {
      "cell_type": "code",
      "metadata": {
        "colab": {
          "base_uri": "https://localhost:8080/"
        },
        "id": "DhUBLJYooc4h",
        "outputId": "9c4a1511-4388-4ed6-b8d8-9d65ff1ec83a"
      },
      "source": [
        "sb.nextvisit.describe()"
      ],
      "id": "DhUBLJYooc4h",
      "execution_count": 14,
      "outputs": [
        {
          "output_type": "execute_result",
          "data": {
            "text/plain": [
              "count    300000.000000\n",
              "mean          4.003750\n",
              "std           1.779442\n",
              "min           1.000000\n",
              "25%           3.000000\n",
              "50%           4.000000\n",
              "75%           6.000000\n",
              "max           7.000000\n",
              "Name: nextvisit, dtype: float64"
            ]
          },
          "metadata": {},
          "execution_count": 14
        }
      ]
    },
    {
      "cell_type": "code",
      "metadata": {
        "colab": {
          "base_uri": "https://localhost:8080/"
        },
        "id": "nt4rkoAJwma4",
        "outputId": "2acd5120-4909-4c22-9c40-ec1fa0078bce"
      },
      "source": [
        "k = sb.index.values.tolist()[-1] + 1\n",
        "k"
      ],
      "id": "nt4rkoAJwma4",
      "execution_count": 9,
      "outputs": [
        {
          "output_type": "execute_result",
          "data": {
            "text/plain": [
              "292360"
            ]
          },
          "metadata": {},
          "execution_count": 9
        }
      ]
    },
    {
      "cell_type": "code",
      "metadata": {
        "colab": {
          "base_uri": "https://localhost:8080/"
        },
        "id": "9vkBOjNu8So9",
        "outputId": "330f2c77-6070-4167-dfb9-520866dcdc9e"
      },
      "source": [
        "df.loc[k]"
      ],
      "id": "9vkBOjNu8So9",
      "execution_count": 10,
      "outputs": [
        {
          "output_type": "execute_result",
          "data": {
            "text/plain": [
              "visits     11 12 13 14 17 24 28 47 48 49 50 51 57 59 60 ...\n",
              "Name: 292360, dtype: object"
            ]
          },
          "metadata": {},
          "execution_count": 10
        }
      ]
    },
    {
      "cell_type": "code",
      "metadata": {
        "id": "yTUD_6-BmfaB"
      },
      "source": [
        "from IPython.display import HTML, display\n",
        "import time\n",
        "def progress(value, max=100):\n",
        "    return HTML(\"\"\"\n",
        "        <progress\n",
        "            value='{value}'\n",
        "            max='{max}',\n",
        "            style='width: 100%'\n",
        "        >\n",
        "            {value}\n",
        "        </progress>\n",
        "    \"\"\".format(value=value, max=max))"
      ],
      "id": "yTUD_6-BmfaB",
      "execution_count": 11,
      "outputs": []
    },
    {
      "cell_type": "code",
      "metadata": {
        "colab": {
          "base_uri": "https://localhost:8080/",
          "height": 652
        },
        "id": "eZ-JJ4M5n3gY",
        "outputId": "c39db073-64e3-4567-f5c9-cb5f06f9ee18"
      },
      "source": [
        "%%time\n",
        "import csv\n",
        "n = df.shape[0]\n",
        "out = display(progress(0, 100), display_id=True)\n",
        "with open('/content/drive/MyDrive/ML/DA/submission_ARIMA.csv', 'a', newline='') as f:\n",
        "    writer = csv.writer(f, quoting=csv.QUOTE_NONE)\n",
        "    for i in range(k, n + 1):\n",
        "        writer.writerow([str(int(i)), str(int(Predict(df.loc[i])))])\n",
        "        out.update(progress(i, n)) \n",
        "    f.close()"
      ],
      "id": "eZ-JJ4M5n3gY",
      "execution_count": 12,
      "outputs": [
        {
          "output_type": "display_data",
          "data": {
            "text/html": [
              "\n",
              "        <progress\n",
              "            value='300000'\n",
              "            max='300000',\n",
              "            style='width: 100%'\n",
              "        >\n",
              "            300000\n",
              "        </progress>\n",
              "    "
            ],
            "text/plain": [
              "<IPython.core.display.HTML object>"
            ]
          },
          "metadata": {}
        },
        {
          "output_type": "stream",
          "name": "stderr",
          "text": [
            "/usr/local/lib/python3.7/dist-packages/statsmodels/base/model.py:512: ConvergenceWarning: Maximum Likelihood optimization failed to converge. Check mle_retvals\n",
            "  \"Check mle_retvals\", ConvergenceWarning)\n",
            "/usr/local/lib/python3.7/dist-packages/statsmodels/base/model.py:512: ConvergenceWarning: Maximum Likelihood optimization failed to converge. Check mle_retvals\n",
            "  \"Check mle_retvals\", ConvergenceWarning)\n",
            "/usr/local/lib/python3.7/dist-packages/statsmodels/base/model.py:512: ConvergenceWarning: Maximum Likelihood optimization failed to converge. Check mle_retvals\n",
            "  \"Check mle_retvals\", ConvergenceWarning)\n",
            "/usr/local/lib/python3.7/dist-packages/statsmodels/base/model.py:512: ConvergenceWarning: Maximum Likelihood optimization failed to converge. Check mle_retvals\n",
            "  \"Check mle_retvals\", ConvergenceWarning)\n",
            "/usr/local/lib/python3.7/dist-packages/statsmodels/base/model.py:512: ConvergenceWarning: Maximum Likelihood optimization failed to converge. Check mle_retvals\n",
            "  \"Check mle_retvals\", ConvergenceWarning)\n",
            "/usr/local/lib/python3.7/dist-packages/statsmodels/base/model.py:512: ConvergenceWarning: Maximum Likelihood optimization failed to converge. Check mle_retvals\n",
            "  \"Check mle_retvals\", ConvergenceWarning)\n",
            "/usr/local/lib/python3.7/dist-packages/statsmodels/base/model.py:512: ConvergenceWarning: Maximum Likelihood optimization failed to converge. Check mle_retvals\n",
            "  \"Check mle_retvals\", ConvergenceWarning)\n",
            "/usr/local/lib/python3.7/dist-packages/statsmodels/base/model.py:512: ConvergenceWarning: Maximum Likelihood optimization failed to converge. Check mle_retvals\n",
            "  \"Check mle_retvals\", ConvergenceWarning)\n",
            "/usr/local/lib/python3.7/dist-packages/statsmodels/base/model.py:512: ConvergenceWarning: Maximum Likelihood optimization failed to converge. Check mle_retvals\n",
            "  \"Check mle_retvals\", ConvergenceWarning)\n",
            "/usr/local/lib/python3.7/dist-packages/statsmodels/base/model.py:512: ConvergenceWarning: Maximum Likelihood optimization failed to converge. Check mle_retvals\n",
            "  \"Check mle_retvals\", ConvergenceWarning)\n",
            "/usr/local/lib/python3.7/dist-packages/statsmodels/base/model.py:512: ConvergenceWarning: Maximum Likelihood optimization failed to converge. Check mle_retvals\n",
            "  \"Check mle_retvals\", ConvergenceWarning)\n",
            "/usr/local/lib/python3.7/dist-packages/statsmodels/base/model.py:512: ConvergenceWarning: Maximum Likelihood optimization failed to converge. Check mle_retvals\n",
            "  \"Check mle_retvals\", ConvergenceWarning)\n",
            "/usr/local/lib/python3.7/dist-packages/statsmodels/base/model.py:512: ConvergenceWarning: Maximum Likelihood optimization failed to converge. Check mle_retvals\n",
            "  \"Check mle_retvals\", ConvergenceWarning)\n",
            "/usr/local/lib/python3.7/dist-packages/statsmodels/base/model.py:512: ConvergenceWarning: Maximum Likelihood optimization failed to converge. Check mle_retvals\n",
            "  \"Check mle_retvals\", ConvergenceWarning)\n",
            "/usr/local/lib/python3.7/dist-packages/statsmodels/base/model.py:512: ConvergenceWarning: Maximum Likelihood optimization failed to converge. Check mle_retvals\n",
            "  \"Check mle_retvals\", ConvergenceWarning)\n",
            "/usr/local/lib/python3.7/dist-packages/statsmodels/base/model.py:512: ConvergenceWarning: Maximum Likelihood optimization failed to converge. Check mle_retvals\n",
            "  \"Check mle_retvals\", ConvergenceWarning)\n"
          ]
        },
        {
          "output_type": "stream",
          "name": "stdout",
          "text": [
            "CPU times: user 5h 28min 37s, sys: 4h 10min 29s, total: 9h 39min 7s\n",
            "Wall time: 5h 5min 27s\n"
          ]
        }
      ]
    },
    {
      "cell_type": "code",
      "metadata": {
        "id": "wlCbDT7ymalB"
      },
      "source": [
        ""
      ],
      "id": "wlCbDT7ymalB",
      "execution_count": null,
      "outputs": []
    }
  ]
}