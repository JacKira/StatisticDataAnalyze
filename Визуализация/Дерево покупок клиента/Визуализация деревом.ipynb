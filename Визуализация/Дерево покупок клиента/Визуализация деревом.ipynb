{
 "cells": [
  {
   "cell_type": "markdown",
   "id": "2e11e90e",
   "metadata": {},
   "source": [
    "**Задача.**\n",
    "Есть таблица, содержащая поля:\n",
    " \n",
    "        - ID\n",
    "        - Регион покупки\n",
    "        - Номер покупки\n",
    "\n",
    "Исходя из этих данных нужно понять, сколько покупателей совершают первую покупку в каждом из регионов и сколько покупателей совершают 2, 3, 4 покупку в **пункте 1** и **не в пункте 1**"
   ]
  },
  {
   "cell_type": "code",
   "execution_count": 30,
   "id": "766231f0",
   "metadata": {},
   "outputs": [],
   "source": [
    "import pyodbc\n",
    "import numpy as np\n",
    "import matplotlib.pyplot as plt\n",
    "import pandas as pd\n",
    "import seaborn as sns\n",
    "import gc\n",
    "import datetime\n",
    "\n",
    "from ipywidgets import IntProgress\n",
    "from ete3 import Tree, TreeStyle\n",
    "import swifter"
   ]
  },
  {
   "cell_type": "code",
   "execution_count": 31,
   "id": "d6d6b621",
   "metadata": {},
   "outputs": [
    {
     "data": {
      "text/plain": [
       "8978"
      ]
     },
     "execution_count": 31,
     "metadata": {},
     "output_type": "execute_result"
    }
   ],
   "source": [
    "gc.collect()"
   ]
  },
  {
   "cell_type": "code",
   "execution_count": 32,
   "id": "7893be14",
   "metadata": {
    "scrolled": true
   },
   "outputs": [],
   "source": [
    "df = pd.read_csv('CustomerRoadMap.csv')"
   ]
  },
  {
   "cell_type": "code",
   "execution_count": 33,
   "id": "24c2d3b8",
   "metadata": {
    "scrolled": true
   },
   "outputs": [
    {
     "data": {
      "text/html": [
       "<div>\n",
       "<style scoped>\n",
       "    .dataframe tbody tr th:only-of-type {\n",
       "        vertical-align: middle;\n",
       "    }\n",
       "\n",
       "    .dataframe tbody tr th {\n",
       "        vertical-align: top;\n",
       "    }\n",
       "\n",
       "    .dataframe thead th {\n",
       "        text-align: right;\n",
       "    }\n",
       "</style>\n",
       "<table border=\"1\" class=\"dataframe\">\n",
       "  <thead>\n",
       "    <tr style=\"text-align: right;\">\n",
       "      <th></th>\n",
       "      <th>ID</th>\n",
       "      <th>City</th>\n",
       "      <th>NUMBER</th>\n",
       "    </tr>\n",
       "  </thead>\n",
       "  <tbody>\n",
       "    <tr>\n",
       "      <th>0</th>\n",
       "      <td>01980069</td>\n",
       "      <td>Пункт 1</td>\n",
       "      <td>1</td>\n",
       "    </tr>\n",
       "    <tr>\n",
       "      <th>1</th>\n",
       "      <td>02158875</td>\n",
       "      <td>Пункт 1</td>\n",
       "      <td>3</td>\n",
       "    </tr>\n",
       "    <tr>\n",
       "      <th>2</th>\n",
       "      <td>03041188</td>\n",
       "      <td>Пункт 1</td>\n",
       "      <td>2</td>\n",
       "    </tr>\n",
       "    <tr>\n",
       "      <th>3</th>\n",
       "      <td>0400000356</td>\n",
       "      <td>Пнукт 4</td>\n",
       "      <td>1</td>\n",
       "    </tr>\n",
       "    <tr>\n",
       "      <th>4</th>\n",
       "      <td>0400000356</td>\n",
       "      <td>Пнукт 4</td>\n",
       "      <td>4</td>\n",
       "    </tr>\n",
       "  </tbody>\n",
       "</table>\n",
       "</div>"
      ],
      "text/plain": [
       "           ID     City  NUMBER\n",
       "0    01980069  Пункт 1       1\n",
       "1    02158875  Пункт 1       3\n",
       "2    03041188  Пункт 1       2\n",
       "3  0400000356  Пнукт 4       1\n",
       "4  0400000356  Пнукт 4       4"
      ]
     },
     "execution_count": 33,
     "metadata": {},
     "output_type": "execute_result"
    }
   ],
   "source": [
    "df.head()"
   ]
  },
  {
   "cell_type": "code",
   "execution_count": 8,
   "id": "1b6f49c9",
   "metadata": {},
   "outputs": [
    {
     "data": {
      "text/plain": [
       "(765098, 3)"
      ]
     },
     "execution_count": 8,
     "metadata": {},
     "output_type": "execute_result"
    }
   ],
   "source": [
    "df.shape"
   ]
  },
  {
   "cell_type": "markdown",
   "id": "1e1e5539",
   "metadata": {},
   "source": [
    "Для решения задачи воспользуемся деревом, строящимся сверху. В каждом дочернем листе будет содержаться статистика покупателей, инфомрация о которых присутствует в родительском узле."
   ]
  },
  {
   "cell_type": "code",
   "execution_count": 9,
   "id": "abbd88d0",
   "metadata": {},
   "outputs": [],
   "source": [
    "def exists(it):\n",
    "    return (it is not None)"
   ]
  },
  {
   "cell_type": "code",
   "execution_count": 26,
   "id": "c2ed2829",
   "metadata": {},
   "outputs": [],
   "source": [
    "class Node:\n",
    "    def __init__(self, number, city, ids = []):\n",
    "        self.val = len(ids)\n",
    "        self.part = 0\n",
    "        self.main_part = 0\n",
    "        self.city = city\n",
    "        self.number = number\n",
    "        self.ids = ids\n",
    "        self.nodes = []\n",
    "\n",
    "    def add_node(self,  number, city,  ids = []):\n",
    "        self.nodes.append(NonBinTree(number, city, ids))\n",
    "\n",
    "    def __repr__(self):\n",
    "        str1 = f\" {self.number} - я Покупка из {self.city} \"\n",
    "        str2 = f\"с относительной доля {round(self.part*100, 2)}% \"\n",
    "        str3 = f\"и общей долей {round(self.main_part*100, 2)}% \"\n",
    "        str4 = ''\n",
    "        nodes_clr = list(filter(exists, self.nodes))\n",
    "        if(len(nodes_clr) == 0):\n",
    "                return \"(\" + str1 + str2 + str3 + str4 + \")\"\n",
    "        return \"((\" + ','.join(map(str, nodes_clr)) + '),' + str1 + str2 + str3 + str4 +\")\"\n",
    "\n",
    "    \n",
    "\n",
    "    \n",
    "#Level-order traversal \n",
    "def levelOrder(root):\n",
    "    levels = []\n",
    "    queue = [root]\n",
    "    while queue and root:\n",
    "        currNode,nextLevel = [],[]\n",
    "        for nd in queue:\n",
    "            if(nd):\n",
    "                currNode.append(nd)\n",
    "                for child in nd.nodes:\n",
    "                    nextLevel.append(child)\n",
    "        queue = nextLevel\n",
    "        levels.append(currNode)\n",
    "    return levels\n",
    "\n",
    "\n",
    "def FillNode(ds, city, n, ids, root_val, max_n = 4):\n",
    "    node = None\n",
    "    prt = 0\n",
    "    main_prt = 0\n",
    "    if(n > max_n):\n",
    "        return node\n",
    "    if(city == 'НЕ Пункт 1'):\n",
    "        if(n == max_n):\n",
    "            strq = 'City != \"Пункт 1\"  and (NUMBER >= {1}) and (ID in {2})'.format(city, n, ids.reshape(1, -1)[0].tolist())\n",
    "            part = ds.query(strq)\n",
    "            strq = '(NUMBER >= {1}) and (ID in {2})'.format(city, n, ids.reshape(1, -1)[0].tolist())\n",
    "            all_count = len(ds.query(strq))\n",
    "            prt = len(part.ID.unique())/ all_count \n",
    "            main_prt = len(part.ID.unique()) / root_val\n",
    "        else:\n",
    "            strq = 'City != \"Пункт 1\"  and (NUMBER == {1}) and (ID in {2})'.format(city, n, ids.reshape(1, -1)[0].tolist())\n",
    "            part = ds.query(strq)\n",
    "            strq = '(NUMBER == {1}) and (ID in {2})'.format(city, n, ids.reshape(1, -1)[0].tolist())\n",
    "            all_count = len(ds.query(strq).ID.unique())\n",
    "            prt = len(part.ID.unique())/ all_count \n",
    "            main_prt = len(part.ID.unique()) / root_val\n",
    "            \n",
    "    elif(n != 0):\n",
    "            strq = 'City == \"{0}\"  and (NUMBER == {1}) and (ID in {2})'.format(city, n, ids.reshape(1, -1)[0].tolist())\n",
    "            part = ds.query(strq)\n",
    "            strq = '(NUMBER == {1}) and (ID in {2})'.format(city, n, ids.reshape(1, -1)[0].tolist())\n",
    "            all_count = len(ds.query(strq).ID.unique())\n",
    "            prt = len(part.ID.unique())/ all_count \n",
    "            main_prt = len(part.ID.unique()) / root_val\n",
    "    elif(n == 0):\n",
    "        part = ds\n",
    "        all_count = len(part.ID.unique())\n",
    "        prt = len(part.ID.unique())/ all_count \n",
    "        main_prt = len(part.ID.unique()) / root_val\n",
    "    if(len(part) == 0):\n",
    "        return None\n",
    "    node = Node(n, city, part.ID.unique())\n",
    "    node.part = prt\n",
    "    node.main_part = main_prt\n",
    "    if(n > 0):\n",
    "        for city in ['Пункт 1', 'НЕ Пункт 1']:\n",
    "            node.nodes.append(FillNode(ds, city, n + 1, part.ID.unique(), root_val))\n",
    "    else:\n",
    "        for city in list(ds.City.unique()):\n",
    "            node.nodes.append(FillNode(ds, city, n + 1, part.ID.unique(), root_val))\n",
    "    \n",
    "        \n",
    "    return node\n",
    "    \n"
   ]
  },
  {
   "cell_type": "code",
   "execution_count": 27,
   "id": "946ddcc8",
   "metadata": {},
   "outputs": [
    {
     "data": {
      "text/html": [
       "<div>\n",
       "<style scoped>\n",
       "    .dataframe tbody tr th:only-of-type {\n",
       "        vertical-align: middle;\n",
       "    }\n",
       "\n",
       "    .dataframe tbody tr th {\n",
       "        vertical-align: top;\n",
       "    }\n",
       "\n",
       "    .dataframe thead th {\n",
       "        text-align: right;\n",
       "    }\n",
       "</style>\n",
       "<table border=\"1\" class=\"dataframe\">\n",
       "  <thead>\n",
       "    <tr style=\"text-align: right;\">\n",
       "      <th></th>\n",
       "      <th>ID</th>\n",
       "      <th>City</th>\n",
       "      <th>NUMBER</th>\n",
       "    </tr>\n",
       "  </thead>\n",
       "  <tbody>\n",
       "    <tr>\n",
       "      <th>0</th>\n",
       "      <td>01980069</td>\n",
       "      <td>Пункт 1</td>\n",
       "      <td>1</td>\n",
       "    </tr>\n",
       "    <tr>\n",
       "      <th>1</th>\n",
       "      <td>02158875</td>\n",
       "      <td>Пункт 1</td>\n",
       "      <td>3</td>\n",
       "    </tr>\n",
       "    <tr>\n",
       "      <th>2</th>\n",
       "      <td>03041188</td>\n",
       "      <td>Пункт 1</td>\n",
       "      <td>2</td>\n",
       "    </tr>\n",
       "    <tr>\n",
       "      <th>3</th>\n",
       "      <td>0400000356</td>\n",
       "      <td>Пнукт 4</td>\n",
       "      <td>1</td>\n",
       "    </tr>\n",
       "    <tr>\n",
       "      <th>4</th>\n",
       "      <td>0400000356</td>\n",
       "      <td>Пнукт 4</td>\n",
       "      <td>4</td>\n",
       "    </tr>\n",
       "    <tr>\n",
       "      <th>...</th>\n",
       "      <td>...</td>\n",
       "      <td>...</td>\n",
       "      <td>...</td>\n",
       "    </tr>\n",
       "    <tr>\n",
       "      <th>765093</th>\n",
       "      <td>9828913537</td>\n",
       "      <td>Пнукт 4</td>\n",
       "      <td>3</td>\n",
       "    </tr>\n",
       "    <tr>\n",
       "      <th>765094</th>\n",
       "      <td>9828934691</td>\n",
       "      <td>Пнукт 4</td>\n",
       "      <td>1</td>\n",
       "    </tr>\n",
       "    <tr>\n",
       "      <th>765095</th>\n",
       "      <td>9829206954</td>\n",
       "      <td>Пнукт 4</td>\n",
       "      <td>2</td>\n",
       "    </tr>\n",
       "    <tr>\n",
       "      <th>765096</th>\n",
       "      <td>9829206954</td>\n",
       "      <td>Пнукт 4</td>\n",
       "      <td>5</td>\n",
       "    </tr>\n",
       "    <tr>\n",
       "      <th>765097</th>\n",
       "      <td>9829243141</td>\n",
       "      <td>Пнукт 4</td>\n",
       "      <td>3</td>\n",
       "    </tr>\n",
       "  </tbody>\n",
       "</table>\n",
       "<p>765098 rows × 3 columns</p>\n",
       "</div>"
      ],
      "text/plain": [
       "                ID     City  NUMBER\n",
       "0         01980069  Пункт 1       1\n",
       "1         02158875  Пункт 1       3\n",
       "2         03041188  Пункт 1       2\n",
       "3       0400000356  Пнукт 4       1\n",
       "4       0400000356  Пнукт 4       4\n",
       "...            ...      ...     ...\n",
       "765093  9828913537  Пнукт 4       3\n",
       "765094  9828934691  Пнукт 4       1\n",
       "765095  9829206954  Пнукт 4       2\n",
       "765096  9829206954  Пнукт 4       5\n",
       "765097  9829243141  Пнукт 4       3\n",
       "\n",
       "[765098 rows x 3 columns]"
      ]
     },
     "execution_count": 27,
     "metadata": {},
     "output_type": "execute_result"
    }
   ],
   "source": [
    "ds = df\n",
    "ds"
   ]
  },
  {
   "cell_type": "code",
   "execution_count": 28,
   "id": "165c35ba",
   "metadata": {
    "scrolled": true
   },
   "outputs": [],
   "source": [
    "#Построим дерево\n",
    "root = FillNode(ds, 'ALL', 0, ds.ID.unique(), len(ds.ID.unique()))"
   ]
  },
  {
   "cell_type": "code",
   "execution_count": 29,
   "id": "2ec307db",
   "metadata": {
    "scrolled": true
   },
   "outputs": [],
   "source": [
    "#Визуализируем дерево с помощью сторонней библиотеки\n",
    "t = Tree( str(root).replace('[', '').replace(']', '')+\";\" )\n",
    "\n",
    "ts = TreeStyle()\n",
    "ts.show_leaf_name = True\n",
    "ts.branch_vertical_margin = 20 # 10 pixels between adjacent branches\n",
    "#t.render(\"mytree.png\", tree_style=ts, dpi = 300)\n",
    "ts.scale =  120 # 120 pixels per branch length unit\n",
    "t.show(tree_style=ts)"
   ]
  },
  {
   "cell_type": "code",
   "execution_count": null,
   "id": "029a0318",
   "metadata": {},
   "outputs": [],
   "source": []
  }
 ],
 "metadata": {
  "kernelspec": {
   "display_name": "Python 3 (ipykernel)",
   "language": "python",
   "name": "python3"
  },
  "language_info": {
   "codemirror_mode": {
    "name": "ipython",
    "version": 3
   },
   "file_extension": ".py",
   "mimetype": "text/x-python",
   "name": "python",
   "nbconvert_exporter": "python",
   "pygments_lexer": "ipython3",
   "version": "3.8.12"
  }
 },
 "nbformat": 4,
 "nbformat_minor": 5
}
