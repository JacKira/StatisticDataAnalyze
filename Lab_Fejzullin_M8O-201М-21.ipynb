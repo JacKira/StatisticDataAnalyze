{
 "cells": [
  {
   "cell_type": "markdown",
   "metadata": {},
   "source": [
    "# 1"
   ]
  },
  {
   "cell_type": "code",
   "execution_count": 1,
   "metadata": {},
   "outputs": [
    {
     "data": {
      "application/vnd.jupyter.widget-view+json": {
       "model_id": "37cc9a43b79c4c8ab82f85d74559e864",
       "version_major": 2,
       "version_minor": 0
      },
      "text/plain": [
       "  0%|          | 0/15 [00:00<?, ?it/s]"
      ]
     },
     "metadata": {},
     "output_type": "display_data"
    },
    {
     "data": {
      "application/vnd.jupyter.widget-view+json": {
       "model_id": "d15560f85aa346f7baa4bcca40b41cb5",
       "version_major": 2,
       "version_minor": 0
      },
      "text/plain": [
       "  0%|          | 0/1000 [00:00<?, ?it/s]"
      ]
     },
     "metadata": {},
     "output_type": "display_data"
    },
    {
     "data": {
      "application/vnd.jupyter.widget-view+json": {
       "model_id": "77e7772da53440b5a2d7c60c08412bac",
       "version_major": 2,
       "version_minor": 0
      },
      "text/plain": [
       "  0%|          | 0/1000 [00:00<?, ?it/s]"
      ]
     },
     "metadata": {},
     "output_type": "display_data"
    },
    {
     "data": {
      "application/vnd.jupyter.widget-view+json": {
       "model_id": "572ec3b666144ca6abe6b18de56927aa",
       "version_major": 2,
       "version_minor": 0
      },
      "text/plain": [
       "  0%|          | 0/1000 [00:00<?, ?it/s]"
      ]
     },
     "metadata": {},
     "output_type": "display_data"
    },
    {
     "data": {
      "application/vnd.jupyter.widget-view+json": {
       "model_id": "2863a0e0ecd74cc6949c97e6120424f4",
       "version_major": 2,
       "version_minor": 0
      },
      "text/plain": [
       "  0%|          | 0/1000 [00:00<?, ?it/s]"
      ]
     },
     "metadata": {},
     "output_type": "display_data"
    },
    {
     "data": {
      "application/vnd.jupyter.widget-view+json": {
       "model_id": "d10e682670b24326b265b7cacc2a82a1",
       "version_major": 2,
       "version_minor": 0
      },
      "text/plain": [
       "  0%|          | 0/1000 [00:00<?, ?it/s]"
      ]
     },
     "metadata": {},
     "output_type": "display_data"
    },
    {
     "data": {
      "application/vnd.jupyter.widget-view+json": {
       "model_id": "df3472e610ac451d858ff6d53d022893",
       "version_major": 2,
       "version_minor": 0
      },
      "text/plain": [
       "  0%|          | 0/1000 [00:00<?, ?it/s]"
      ]
     },
     "metadata": {},
     "output_type": "display_data"
    },
    {
     "data": {
      "application/vnd.jupyter.widget-view+json": {
       "model_id": "ce12be7f835d40d2b0c43a30acff8a60",
       "version_major": 2,
       "version_minor": 0
      },
      "text/plain": [
       "  0%|          | 0/1000 [00:00<?, ?it/s]"
      ]
     },
     "metadata": {},
     "output_type": "display_data"
    },
    {
     "data": {
      "application/vnd.jupyter.widget-view+json": {
       "model_id": "43de4e78f56f430bba4f1a36ba5dfb74",
       "version_major": 2,
       "version_minor": 0
      },
      "text/plain": [
       "  0%|          | 0/1000 [00:00<?, ?it/s]"
      ]
     },
     "metadata": {},
     "output_type": "display_data"
    },
    {
     "data": {
      "application/vnd.jupyter.widget-view+json": {
       "model_id": "87ffa35a9413418a9297fe00a85ee37b",
       "version_major": 2,
       "version_minor": 0
      },
      "text/plain": [
       "  0%|          | 0/1000 [00:00<?, ?it/s]"
      ]
     },
     "metadata": {},
     "output_type": "display_data"
    },
    {
     "data": {
      "application/vnd.jupyter.widget-view+json": {
       "model_id": "413ba604e04543b1b581508dd224bea1",
       "version_major": 2,
       "version_minor": 0
      },
      "text/plain": [
       "  0%|          | 0/1000 [00:00<?, ?it/s]"
      ]
     },
     "metadata": {},
     "output_type": "display_data"
    },
    {
     "data": {
      "application/vnd.jupyter.widget-view+json": {
       "model_id": "65687e7c1c704fcb8d1d7f6dcc383fe9",
       "version_major": 2,
       "version_minor": 0
      },
      "text/plain": [
       "  0%|          | 0/1000 [00:00<?, ?it/s]"
      ]
     },
     "metadata": {},
     "output_type": "display_data"
    },
    {
     "data": {
      "application/vnd.jupyter.widget-view+json": {
       "model_id": "f6b45f9a6f924aaebe41b066095448cb",
       "version_major": 2,
       "version_minor": 0
      },
      "text/plain": [
       "  0%|          | 0/1000 [00:00<?, ?it/s]"
      ]
     },
     "metadata": {},
     "output_type": "display_data"
    },
    {
     "data": {
      "application/vnd.jupyter.widget-view+json": {
       "model_id": "57c18880b5ed40dca5ef61d1865e461f",
       "version_major": 2,
       "version_minor": 0
      },
      "text/plain": [
       "  0%|          | 0/1000 [00:00<?, ?it/s]"
      ]
     },
     "metadata": {},
     "output_type": "display_data"
    },
    {
     "data": {
      "application/vnd.jupyter.widget-view+json": {
       "model_id": "ff7c4538bef9426d80668c6067c380cd",
       "version_major": 2,
       "version_minor": 0
      },
      "text/plain": [
       "  0%|          | 0/1000 [00:00<?, ?it/s]"
      ]
     },
     "metadata": {},
     "output_type": "display_data"
    },
    {
     "data": {
      "application/vnd.jupyter.widget-view+json": {
       "model_id": "6a1495144ab74b6db5ceb30ea87a7b65",
       "version_major": 2,
       "version_minor": 0
      },
      "text/plain": [
       "  0%|          | 0/1000 [00:00<?, ?it/s]"
      ]
     },
     "metadata": {},
     "output_type": "display_data"
    }
   ],
   "source": [
    "import numpy as np\n",
    "from statsmodels.stats.proportion import proportion_confint\n",
    "from tqdm.notebook import tqdm as tqdm_notebook\n",
    "from scipy import stats\n",
    "\n",
    "\n",
    "np.random.seed(42)\n",
    "negatives_ttest = 0\n",
    "negatives_mw = 0\n",
    "alpha = 0.05\n",
    "conf_int_alpha = 0.05\n",
    "\n",
    "mu_x = 0\n",
    "mu_y = 0.5\n",
    "delta = 0.01\n",
    "sigmas = np.arange(1, 16)\n",
    "\n",
    "n = 100 # размер выборки\n",
    "n_tests = 1000 # количество повторений теста\n",
    "\n",
    "p_values_ttest = []\n",
    "p_values_mw = []\n",
    "fnr_ttest = []\n",
    "fnr_mw = []\n",
    "\n",
    "# Проверяем гипотезу о равенстве средних при неверной H0 (критерий Стьюдента)\n",
    "for sigma in tqdm_notebook(sigmas):\n",
    "    for i in tqdm_notebook(range(n_tests)):  \n",
    "        # генерация выборок\n",
    "        U_x = stats.norm(loc=mu_x, scale=1).rvs(size=n)\n",
    "        V_x = stats.norm(loc=mu_x, scale=sigma).rvs(size=n)\n",
    "        W_x = stats.uniform().rvs(size=n)\n",
    "        X = np.where(W_x > delta, U_x, V_x)\n",
    "\n",
    "        U_y = stats.norm(loc=mu_y, scale=1).rvs(size=n)\n",
    "        V_y = stats.norm(loc=mu_y, scale=sigma).rvs(size=n)\n",
    "        W_y = stats.uniform().rvs(size=n)\n",
    "        Y = np.where(W_y > delta, U_y, V_y)\n",
    "        \n",
    "        # рассчитываем pvalue для обоих критериев\n",
    "        p_values_ttest.append(stats.ttest_ind(X, Y)[1])\n",
    "        p_values_mw.append(stats.mannwhitneyu(X, Y)[1])\n",
    "        # накапливаем negatives (подсчитываем количество ошибок)\n",
    "        negatives_ttest += p_values_ttest[-1] > alpha  \n",
    "        negatives_mw += p_values_mw[-1] > alpha  \n",
    "    positives_ttest = n_tests - negatives_ttest\n",
    "    positives_mw = n_tests - negatives_mw\n",
    "    # определяем FNR (ошибку 2-го рода)\n",
    "    fnr_ttest.append(negatives_ttest / (positives_ttest + negatives_ttest))\n",
    "    fnr_mw.append(negatives_mw / (positives_mw + negatives_mw))\n",
    "    negatives_ttest = 0\n",
    "    negatives_mw = 0"
   ]
  },
  {
   "cell_type": "code",
   "execution_count": 2,
   "metadata": {},
   "outputs": [
    {
     "data": {
      "text/plain": [
       "Text(0, 0.5, 'FNR')"
      ]
     },
     "execution_count": 2,
     "metadata": {},
     "output_type": "execute_result"
    },
    {
     "data": {
      "image/png": "[encoded data removed]",
      "text/plain": [
       "<Figure size 1440x720 with 1 Axes>"
      ]
     },
     "metadata": {
      "needs_background": "light"
     },
     "output_type": "display_data"
    }
   ],
   "source": [
    "from matplotlib import pyplot\n",
    "\n",
    "pyplot.figure(figsize=(20, 10))\n",
    "pyplot.plot(sigmas, fnr_ttest, 'r', label='Критерий Стьюдента (ttest)')\n",
    "pyplot.plot(sigmas, fnr_ttest, 'ro')\n",
    "pyplot.plot(sigmas, fnr_mw, 'b', label='Критерий Манна-Уитни')\n",
    "pyplot.plot(sigmas, fnr_mw, 'bo')\n",
    "pyplot.legend(fontsize=12)\n",
    "pyplot.title(f'Сравнение ошибок 2 рода (FNR) в зависимости от $\\sigma$, $\\delta$={delta}', fontsize=12)\n",
    "pyplot.xlabel('sigma', fontsize=12)\n",
    "pyplot.ylabel('FNR', fontsize=12)"
   ]
  },
  {
   "cell_type": "markdown",
   "metadata": {},
   "source": [
    "# 2"
   ]
  },
  {
   "cell_type": "code",
   "execution_count": 3,
   "metadata": {},
   "outputs": [
    {
     "data": {
      "application/vnd.jupyter.widget-view+json": {
       "model_id": "d49c5de0c2894843bdab817e5bb7ea6f",
       "version_major": 2,
       "version_minor": 0
      },
      "text/plain": [
       "  0%|          | 0/15 [00:00<?, ?it/s]"
      ]
     },
     "metadata": {},
     "output_type": "display_data"
    },
    {
     "data": {
      "application/vnd.jupyter.widget-view+json": {
       "model_id": "a239ccf102f047f4b8c72577e9b3309c",
       "version_major": 2,
       "version_minor": 0
      },
      "text/plain": [
       "  0%|          | 0/1000 [00:00<?, ?it/s]"
      ]
     },
     "metadata": {},
     "output_type": "display_data"
    },
    {
     "data": {
      "application/vnd.jupyter.widget-view+json": {
       "model_id": "d9e036ee6cc1413f81ce6497d199fa73",
       "version_major": 2,
       "version_minor": 0
      },
      "text/plain": [
       "  0%|          | 0/1000 [00:00<?, ?it/s]"
      ]
     },
     "metadata": {},
     "output_type": "display_data"
    },
    {
     "data": {
      "application/vnd.jupyter.widget-view+json": {
       "model_id": "4fed1f2a3f624d9a8c1b981c31a5fcd8",
       "version_major": 2,
       "version_minor": 0
      },
      "text/plain": [
       "  0%|          | 0/1000 [00:00<?, ?it/s]"
      ]
     },
     "metadata": {},
     "output_type": "display_data"
    },
    {
     "data": {
      "application/vnd.jupyter.widget-view+json": {
       "model_id": "06d8fcb72e694f78b9ecfeac2299c7d9",
       "version_major": 2,
       "version_minor": 0
      },
      "text/plain": [
       "  0%|          | 0/1000 [00:00<?, ?it/s]"
      ]
     },
     "metadata": {},
     "output_type": "display_data"
    },
    {
     "data": {
      "application/vnd.jupyter.widget-view+json": {
       "model_id": "fc2e7ee8cc4f4833aec97b5535df90e9",
       "version_major": 2,
       "version_minor": 0
      },
      "text/plain": [
       "  0%|          | 0/1000 [00:00<?, ?it/s]"
      ]
     },
     "metadata": {},
     "output_type": "display_data"
    },
    {
     "data": {
      "application/vnd.jupyter.widget-view+json": {
       "model_id": "32eb36eea26640e981bec1ce204fde2b",
       "version_major": 2,
       "version_minor": 0
      },
      "text/plain": [
       "  0%|          | 0/1000 [00:00<?, ?it/s]"
      ]
     },
     "metadata": {},
     "output_type": "display_data"
    },
    {
     "data": {
      "application/vnd.jupyter.widget-view+json": {
       "model_id": "59326e50a8404253ab3c4fbe1f973950",
       "version_major": 2,
       "version_minor": 0
      },
      "text/plain": [
       "  0%|          | 0/1000 [00:00<?, ?it/s]"
      ]
     },
     "metadata": {},
     "output_type": "display_data"
    },
    {
     "data": {
      "application/vnd.jupyter.widget-view+json": {
       "model_id": "0330958215a04bc6a607c78e88a20941",
       "version_major": 2,
       "version_minor": 0
      },
      "text/plain": [
       "  0%|          | 0/1000 [00:00<?, ?it/s]"
      ]
     },
     "metadata": {},
     "output_type": "display_data"
    },
    {
     "data": {
      "application/vnd.jupyter.widget-view+json": {
       "model_id": "5e570721918845218512738194aea701",
       "version_major": 2,
       "version_minor": 0
      },
      "text/plain": [
       "  0%|          | 0/1000 [00:00<?, ?it/s]"
      ]
     },
     "metadata": {},
     "output_type": "display_data"
    },
    {
     "data": {
      "application/vnd.jupyter.widget-view+json": {
       "model_id": "e0bd3cba7a2044e091ed4c00eb213729",
       "version_major": 2,
       "version_minor": 0
      },
      "text/plain": [
       "  0%|          | 0/1000 [00:00<?, ?it/s]"
      ]
     },
     "metadata": {},
     "output_type": "display_data"
    },
    {
     "data": {
      "application/vnd.jupyter.widget-view+json": {
       "model_id": "21bc5d06a7394d44920ae541bcac10b0",
       "version_major": 2,
       "version_minor": 0
      },
      "text/plain": [
       "  0%|          | 0/1000 [00:00<?, ?it/s]"
      ]
     },
     "metadata": {},
     "output_type": "display_data"
    },
    {
     "data": {
      "application/vnd.jupyter.widget-view+json": {
       "model_id": "cd081e21fe8c4bd2a908a33eafb805f3",
       "version_major": 2,
       "version_minor": 0
      },
      "text/plain": [
       "  0%|          | 0/1000 [00:00<?, ?it/s]"
      ]
     },
     "metadata": {},
     "output_type": "display_data"
    },
    {
     "data": {
      "application/vnd.jupyter.widget-view+json": {
       "model_id": "15ce0fc1b81a484dbb00d53f43de5fb3",
       "version_major": 2,
       "version_minor": 0
      },
      "text/plain": [
       "  0%|          | 0/1000 [00:00<?, ?it/s]"
      ]
     },
     "metadata": {},
     "output_type": "display_data"
    },
    {
     "data": {
      "application/vnd.jupyter.widget-view+json": {
       "model_id": "a0587b42abb3452a878652d4f51ac6ba",
       "version_major": 2,
       "version_minor": 0
      },
      "text/plain": [
       "  0%|          | 0/1000 [00:00<?, ?it/s]"
      ]
     },
     "metadata": {},
     "output_type": "display_data"
    },
    {
     "data": {
      "application/vnd.jupyter.widget-view+json": {
       "model_id": "413ca8dc821b46d68b6cbbfed81b8b06",
       "version_major": 2,
       "version_minor": 0
      },
      "text/plain": [
       "  0%|          | 0/1000 [00:00<?, ?it/s]"
      ]
     },
     "metadata": {},
     "output_type": "display_data"
    }
   ],
   "source": [
    "import numpy as np\n",
    "from statsmodels.stats.proportion import proportion_confint\n",
    "from tqdm.notebook import tqdm as tqdm_notebook\n",
    "from scipy import stats\n",
    "\n",
    "\n",
    "np.random.seed(42)\n",
    "negatives_ttest = 0\n",
    "negatives_mw = 0\n",
    "alpha = 0.05\n",
    "conf_int_alpha = 0.05\n",
    "\n",
    "mu_x = 0\n",
    "mu_y = 0.5\n",
    "deltas = np.linspace(0, 0.08, num=15)\n",
    "sigma = 3\n",
    "\n",
    "n = 100 # размер выборки\n",
    "n_tests = 1000 # количество повторений теста\n",
    "\n",
    "p_values_ttest = []\n",
    "p_values_mw = []\n",
    "fnr_ttest = []\n",
    "fnr_mw = []\n",
    "\n",
    "# Проверяем гипотезу о равенстве средних при неверной H0 (критерий Стьюдента)\n",
    "for delta in tqdm_notebook(deltas):\n",
    "    for i in tqdm_notebook(range(n_tests)):  \n",
    "        # генерация выборок\n",
    "        U_x = stats.norm(loc=mu_x, scale=1).rvs(size=n)\n",
    "        V_x = stats.norm(loc=mu_x, scale=sigma).rvs(size=n)\n",
    "        W_x = stats.uniform().rvs(size=n)\n",
    "        X = np.where(W_x > delta, U_x, V_x)\n",
    "\n",
    "        U_y = stats.norm(loc=mu_y, scale=1).rvs(size=n)\n",
    "        V_y = stats.norm(loc=mu_y, scale=sigma).rvs(size=n)\n",
    "        W_y = stats.uniform().rvs(size=n)\n",
    "        Y = np.where(W_y > delta, U_y, V_y)\n",
    "        \n",
    "        # рассчитываем pvalue для обоих критериев\n",
    "        p_values_ttest.append(stats.ttest_ind(X, Y)[1])\n",
    "        p_values_mw.append(stats.mannwhitneyu(X, Y)[1])\n",
    "        # накапливаем negatives (подсчитываем количество ошибок)\n",
    "        negatives_ttest += p_values_ttest[-1] > alpha  \n",
    "        negatives_mw += p_values_mw[-1] > alpha  \n",
    "    positives_ttest = n_tests - negatives_ttest\n",
    "    positives_mw = n_tests - negatives_mw\n",
    "    # определяем FNR (ошибку 2-го рода)\n",
    "    fnr_ttest.append(negatives_ttest / (positives_ttest + negatives_ttest))\n",
    "    fnr_mw.append(negatives_mw / (positives_mw + negatives_mw))\n",
    "    negatives_ttest = 0\n",
    "    negatives_mw = 0"
   ]
  },
  {
   "cell_type": "code",
   "execution_count": 4,
   "metadata": {},
   "outputs": [
    {
     "data": {
      "text/plain": [
       "Text(0, 0.5, 'FNR')"
      ]
     },
     "execution_count": 4,
     "metadata": {},
     "output_type": "execute_result"
    },
    {
     "data": {
      "image/png": "[encoded data removed]",
      "text/plain": [
       "<Figure size 1440x720 with 1 Axes>"
      ]
     },
     "metadata": {
      "needs_background": "light"
     },
     "output_type": "display_data"
    }
   ],
   "source": [
    "from matplotlib import pyplot\n",
    "\n",
    "pyplot.figure(figsize=(20, 10))\n",
    "pyplot.plot(deltas, fnr_ttest, 'r', label='Критерий Стьюдента (ttest)')\n",
    "pyplot.plot(deltas, fnr_ttest, 'ro')\n",
    "pyplot.plot(deltas, fnr_mw, 'b', label='Критерий Манна-Уитни')\n",
    "pyplot.plot(deltas, fnr_mw, 'bo')\n",
    "pyplot.legend(fontsize=12)\n",
    "pyplot.title(f'Сравнение ошибок 2 рода (FNR) в зависимости от $\\delta$, $\\sigma={sigma}$', fontsize=12)\n",
    "pyplot.xlabel(f'$\\delta$', fontsize=12)\n",
    "pyplot.ylabel('FNR', fontsize=12)"
   ]
  },
  {
   "cell_type": "code",
   "execution_count": null,
   "metadata": {},
   "outputs": [],
   "source": []
  },
  {
   "cell_type": "code",
   "execution_count": null,
   "metadata": {},
   "outputs": [],
   "source": []
  }
 ],
 "metadata": {
  "kernelspec": {
   "display_name": "Python 3.8.12 ('base')",
   "language": "python",
   "name": "python3"
  },
  "language_info": {
   "codemirror_mode": {
    "name": "ipython",
    "version": 3
   },
   "file_extension": ".py",
   "mimetype": "text/x-python",
   "name": "python",
   "nbconvert_exporter": "python",
   "pygments_lexer": "ipython3",
   "version": "3.8.12"
  },
  "vscode": {
   "interpreter": {
    "hash": "ad2bdc8ecc057115af97d19610ffacc2b4e99fae6737bb82f5d7fb13d2f2c186"
   }
  }
 },
 "nbformat": 4,
 "nbformat_minor": 4
}
