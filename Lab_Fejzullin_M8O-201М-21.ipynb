{
 "cells": [
  {
   "cell_type": "code",
   "execution_count": 1,
   "metadata": {},
   "outputs": [],
   "source": [
    "import numpy as np\n",
    "from tqdm.notebook import tqdm as tqdm_notebook\n",
    "from scipy import stats\n",
    "import matplotlib.pyplot as plt\n"
   ]
  },
  {
   "cell_type": "code",
   "execution_count": 2,
   "metadata": {},
   "outputs": [],
   "source": [
    "def GenerateXY(prop_X, prop_Y, delta, n):\n",
    "        U_x = stats.norm(loc=prop_X[0], scale=1).rvs(size=n)\n",
    "        V_x = stats.norm(loc=prop_X[0], scale=prop_X[1]).rvs(size=n)\n",
    "        W_x = stats.uniform().rvs(size=n)\n",
    "        X = np.where(W_x > delta, U_x, V_x)\n",
    "\n",
    "        U_y = stats.norm(loc=prop_Y[0], scale=1).rvs(size=n)\n",
    "        V_y = stats.norm(loc=prop_Y[0], scale=prop_Y[1]).rvs(size=n)\n",
    "        W_y = stats.uniform().rvs(size=n)\n",
    "        Y = np.where(W_y > delta, U_y, V_y)\n",
    "        return X, Y"
   ]
  },
  {
   "cell_type": "markdown",
   "metadata": {},
   "source": [
    "# Критерий Стьюдента VS Манна-Уитни о равных МО"
   ]
  },
  {
   "cell_type": "markdown",
   "metadata": {},
   "source": [
    "## Влияние разброса на критерии"
   ]
  },
  {
   "cell_type": "code",
   "execution_count": 3,
   "metadata": {},
   "outputs": [
    {
     "data": {
      "application/vnd.jupyter.widget-view+json": {
       "model_id": "a3edeacc21da4d4f9298959fd05cc3b6",
       "version_major": 2,
       "version_minor": 0
      },
      "text/plain": [
       "  0%|          | 0/9 [00:00<?, ?it/s]"
      ]
     },
     "metadata": {},
     "output_type": "display_data"
    },
    {
     "data": {
      "application/vnd.jupyter.widget-view+json": {
       "model_id": "befca50b2dd2493db553d757f5ab1076",
       "version_major": 2,
       "version_minor": 0
      },
      "text/plain": [
       "  0%|          | 0/1000 [00:00<?, ?it/s]"
      ]
     },
     "metadata": {},
     "output_type": "display_data"
    },
    {
     "data": {
      "application/vnd.jupyter.widget-view+json": {
       "model_id": "273ea0b6e1c74491b1391ccbe943a2c9",
       "version_major": 2,
       "version_minor": 0
      },
      "text/plain": [
       "  0%|          | 0/1000 [00:00<?, ?it/s]"
      ]
     },
     "metadata": {},
     "output_type": "display_data"
    },
    {
     "data": {
      "application/vnd.jupyter.widget-view+json": {
       "model_id": "d8183ba35aac4581b06374b4712bc5b9",
       "version_major": 2,
       "version_minor": 0
      },
      "text/plain": [
       "  0%|          | 0/1000 [00:00<?, ?it/s]"
      ]
     },
     "metadata": {},
     "output_type": "display_data"
    },
    {
     "data": {
      "application/vnd.jupyter.widget-view+json": {
       "model_id": "382c36df15f04b3eb79b1f2c891f16e9",
       "version_major": 2,
       "version_minor": 0
      },
      "text/plain": [
       "  0%|          | 0/1000 [00:00<?, ?it/s]"
      ]
     },
     "metadata": {},
     "output_type": "display_data"
    },
    {
     "data": {
      "application/vnd.jupyter.widget-view+json": {
       "model_id": "8a11d9cd591b43d1991afec88e828c45",
       "version_major": 2,
       "version_minor": 0
      },
      "text/plain": [
       "  0%|          | 0/1000 [00:00<?, ?it/s]"
      ]
     },
     "metadata": {},
     "output_type": "display_data"
    },
    {
     "data": {
      "application/vnd.jupyter.widget-view+json": {
       "model_id": "c653d98c375a40d6bc280bf728c3001f",
       "version_major": 2,
       "version_minor": 0
      },
      "text/plain": [
       "  0%|          | 0/1000 [00:00<?, ?it/s]"
      ]
     },
     "metadata": {},
     "output_type": "display_data"
    },
    {
     "data": {
      "application/vnd.jupyter.widget-view+json": {
       "model_id": "0ba0a8f7ba964444b930290081ac7cfc",
       "version_major": 2,
       "version_minor": 0
      },
      "text/plain": [
       "  0%|          | 0/1000 [00:00<?, ?it/s]"
      ]
     },
     "metadata": {},
     "output_type": "display_data"
    },
    {
     "data": {
      "application/vnd.jupyter.widget-view+json": {
       "model_id": "020b3bc173c94234a5b20c8f0c0b4252",
       "version_major": 2,
       "version_minor": 0
      },
      "text/plain": [
       "  0%|          | 0/1000 [00:00<?, ?it/s]"
      ]
     },
     "metadata": {},
     "output_type": "display_data"
    },
    {
     "data": {
      "application/vnd.jupyter.widget-view+json": {
       "model_id": "63d15b70892945979c4e915745d37a56",
       "version_major": 2,
       "version_minor": 0
      },
      "text/plain": [
       "  0%|          | 0/1000 [00:00<?, ?it/s]"
      ]
     },
     "metadata": {},
     "output_type": "display_data"
    }
   ],
   "source": [
    "np.random.seed(24)\n",
    "negatives_ttest, negatives_mw = 0, 0\n",
    "alpha, conf_int_alpha = 0.05, 0.05\n",
    "mu_x, mu_y = 1, 1.5\n",
    "delta = 0.1\n",
    "sigma_list = np.arange(1, 10, 1)\n",
    "n, n_tests = 20, 1000 \n",
    "p_values_ttest, p_values_mw, fnr_ttest, fnr_mw = [], [], [], []\n",
    "\n",
    "\n",
    "for sigma in tqdm_notebook(sigma_list):\n",
    "    for i in tqdm_notebook(range(n_tests)):  \n",
    "        \n",
    "        X, Y = GenerateXY([mu_x, sigma], [mu_y, sigma], delta=delta, n = n)\n",
    "        \n",
    "        \n",
    "        p_values_ttest.append(stats.ttest_ind(X, Y)[1])\n",
    "        p_values_mw.append(stats.mannwhitneyu(X, Y)[1])\n",
    "        \n",
    "        negatives_ttest += p_values_ttest[-1] > alpha  \n",
    "        negatives_mw += p_values_mw[-1] > alpha  \n",
    "    positives_ttest = n_tests - negatives_ttest\n",
    "    positives_mw = n_tests - negatives_mw\n",
    "    \n",
    "    fnr_ttest.append(negatives_ttest / (positives_ttest + negatives_ttest))\n",
    "    fnr_mw.append(negatives_mw / (positives_mw + negatives_mw))\n",
    "    negatives_ttest = 0\n",
    "    negatives_mw = 0"
   ]
  },
  {
   "cell_type": "code",
   "execution_count": 4,
   "metadata": {},
   "outputs": [
    {
     "data": {
      "image/png": "[encoded data removed]",
      "text/plain": [
       "<Figure size 1440x720 with 1 Axes>"
      ]
     },
     "metadata": {
      "needs_background": "light"
     },
     "output_type": "display_data"
    }
   ],
   "source": [
    "plt.figure(figsize=(20, 10))\n",
    "plt.plot(sigma_list, fnr_ttest, '--*', label='Стьюдент', color = 'red')\n",
    "plt.plot(sigma_list, fnr_mw, '--^', label='Манн-Уитни', color = 'blue')\n",
    "plt.legend(fontsize=12)\n",
    "plt.title(f'Сравнение ошибок 2 рода в зависимости от разброса ($\\sigma$), доля выбросов $\\delta$={delta}', fontsize=12)\n",
    "plt.xlabel('sigma', fontsize=12)\n",
    "plt.ylabel('FNR', fontsize=12)\n",
    "plt.show()"
   ]
  },
  {
   "cell_type": "markdown",
   "metadata": {},
   "source": [
    "## Влияния выбросов на критерии"
   ]
  },
  {
   "cell_type": "code",
   "execution_count": 3,
   "metadata": {},
   "outputs": [
    {
     "data": {
      "application/vnd.jupyter.widget-view+json": {
       "model_id": "b7a55ed0e3844f07b605a8416521da91",
       "version_major": 2,
       "version_minor": 0
      },
      "text/plain": [
       "  0%|          | 0/15 [00:00<?, ?it/s]"
      ]
     },
     "metadata": {},
     "output_type": "display_data"
    },
    {
     "data": {
      "application/vnd.jupyter.widget-view+json": {
       "model_id": "446181a1073e4ddeac7917053faede24",
       "version_major": 2,
       "version_minor": 0
      },
      "text/plain": [
       "  0%|          | 0/1000 [00:00<?, ?it/s]"
      ]
     },
     "metadata": {},
     "output_type": "display_data"
    },
    {
     "data": {
      "application/vnd.jupyter.widget-view+json": {
       "model_id": "1046b4bc70824e7ea80f58e7ff95a580",
       "version_major": 2,
       "version_minor": 0
      },
      "text/plain": [
       "  0%|          | 0/1000 [00:00<?, ?it/s]"
      ]
     },
     "metadata": {},
     "output_type": "display_data"
    },
    {
     "data": {
      "application/vnd.jupyter.widget-view+json": {
       "model_id": "2abf48c0052843b99e995688a11bb61f",
       "version_major": 2,
       "version_minor": 0
      },
      "text/plain": [
       "  0%|          | 0/1000 [00:00<?, ?it/s]"
      ]
     },
     "metadata": {},
     "output_type": "display_data"
    },
    {
     "data": {
      "application/vnd.jupyter.widget-view+json": {
       "model_id": "1c49d1251b39409abb0d5d41107296f7",
       "version_major": 2,
       "version_minor": 0
      },
      "text/plain": [
       "  0%|          | 0/1000 [00:00<?, ?it/s]"
      ]
     },
     "metadata": {},
     "output_type": "display_data"
    },
    {
     "data": {
      "application/vnd.jupyter.widget-view+json": {
       "model_id": "8a74f57a154a4e3faac48c90d8195c3e",
       "version_major": 2,
       "version_minor": 0
      },
      "text/plain": [
       "  0%|          | 0/1000 [00:00<?, ?it/s]"
      ]
     },
     "metadata": {},
     "output_type": "display_data"
    },
    {
     "data": {
      "application/vnd.jupyter.widget-view+json": {
       "model_id": "ecc5134f472a47e0aac3b500c9d00034",
       "version_major": 2,
       "version_minor": 0
      },
      "text/plain": [
       "  0%|          | 0/1000 [00:00<?, ?it/s]"
      ]
     },
     "metadata": {},
     "output_type": "display_data"
    },
    {
     "data": {
      "application/vnd.jupyter.widget-view+json": {
       "model_id": "5fec99fa54ba46209c09a8bce2394925",
       "version_major": 2,
       "version_minor": 0
      },
      "text/plain": [
       "  0%|          | 0/1000 [00:00<?, ?it/s]"
      ]
     },
     "metadata": {},
     "output_type": "display_data"
    },
    {
     "data": {
      "application/vnd.jupyter.widget-view+json": {
       "model_id": "41c6f7ba1c4e4fa296c583e2b2ae5e60",
       "version_major": 2,
       "version_minor": 0
      },
      "text/plain": [
       "  0%|          | 0/1000 [00:00<?, ?it/s]"
      ]
     },
     "metadata": {},
     "output_type": "display_data"
    },
    {
     "data": {
      "application/vnd.jupyter.widget-view+json": {
       "model_id": "39d3685418b245f6a9f265946631eb02",
       "version_major": 2,
       "version_minor": 0
      },
      "text/plain": [
       "  0%|          | 0/1000 [00:00<?, ?it/s]"
      ]
     },
     "metadata": {},
     "output_type": "display_data"
    },
    {
     "data": {
      "application/vnd.jupyter.widget-view+json": {
       "model_id": "11629e3a38b042d8b0b68628b145d3b2",
       "version_major": 2,
       "version_minor": 0
      },
      "text/plain": [
       "  0%|          | 0/1000 [00:00<?, ?it/s]"
      ]
     },
     "metadata": {},
     "output_type": "display_data"
    },
    {
     "data": {
      "application/vnd.jupyter.widget-view+json": {
       "model_id": "8f9512df0b2946f2bbd5ac4720a983c7",
       "version_major": 2,
       "version_minor": 0
      },
      "text/plain": [
       "  0%|          | 0/1000 [00:00<?, ?it/s]"
      ]
     },
     "metadata": {},
     "output_type": "display_data"
    },
    {
     "data": {
      "application/vnd.jupyter.widget-view+json": {
       "model_id": "9f6af2a60a1c459ba3dbf07a6d084a91",
       "version_major": 2,
       "version_minor": 0
      },
      "text/plain": [
       "  0%|          | 0/1000 [00:00<?, ?it/s]"
      ]
     },
     "metadata": {},
     "output_type": "display_data"
    },
    {
     "data": {
      "application/vnd.jupyter.widget-view+json": {
       "model_id": "461e272ea625454295d668d92a5142cc",
       "version_major": 2,
       "version_minor": 0
      },
      "text/plain": [
       "  0%|          | 0/1000 [00:00<?, ?it/s]"
      ]
     },
     "metadata": {},
     "output_type": "display_data"
    },
    {
     "data": {
      "application/vnd.jupyter.widget-view+json": {
       "model_id": "d04c4109808d46d6ac30fba6975c1ad9",
       "version_major": 2,
       "version_minor": 0
      },
      "text/plain": [
       "  0%|          | 0/1000 [00:00<?, ?it/s]"
      ]
     },
     "metadata": {},
     "output_type": "display_data"
    },
    {
     "data": {
      "application/vnd.jupyter.widget-view+json": {
       "model_id": "a95f105cd9d24cef8d47f63869f83d4b",
       "version_major": 2,
       "version_minor": 0
      },
      "text/plain": [
       "  0%|          | 0/1000 [00:00<?, ?it/s]"
      ]
     },
     "metadata": {},
     "output_type": "display_data"
    }
   ],
   "source": [
    "\n",
    "np.random.seed(24)\n",
    "negatives_ttest, negatives_mw = 0, 0\n",
    "alpha, conf_int_alpha = 0.05, 0.05\n",
    "mu_x, mu_y, sigma = 1, 1.5, 3\n",
    "delta_list = np.linspace(0, 0.3, num=15)\n",
    "n, n_tests = 20, 1000 \n",
    "p_values_ttest, p_values_mw, fnr_ttest, fnr_mw = [], [], [], []\n",
    "\n",
    "\n",
    "# Проверяем гипотезу о равенстве средних при неверной H0 (критерий Стьюдента)\n",
    "for delta in tqdm_notebook(delta_list):\n",
    "    for i in tqdm_notebook(range(n_tests)):  \n",
    "        # генерация выборок\n",
    "        X, Y = GenerateXY([mu_x, sigma], [mu_y, sigma], delta=delta, n = n)\n",
    "        \n",
    "        # рассчитываем pvalue для обоих критериев\n",
    "        p_values_ttest.append(stats.ttest_ind(X, Y)[1])\n",
    "        p_values_mw.append(stats.mannwhitneyu(X, Y)[1])\n",
    "        # накапливаем negatives (подсчитываем количество ошибок)\n",
    "        negatives_ttest += p_values_ttest[-1] > alpha  \n",
    "        negatives_mw += p_values_mw[-1] > alpha  \n",
    "    positives_ttest = n_tests - negatives_ttest\n",
    "    positives_mw = n_tests - negatives_mw\n",
    "    \n",
    "    fnr_ttest.append(negatives_ttest / (positives_ttest + negatives_ttest))\n",
    "    fnr_mw.append(negatives_mw / (positives_mw + negatives_mw))\n",
    "    negatives_ttest = 0\n",
    "    negatives_mw = 0"
   ]
  },
  {
   "cell_type": "code",
   "execution_count": 4,
   "metadata": {},
   "outputs": [
    {
     "data": {
      "image/png": "[encoded data removed]",
      "text/plain": [
       "<Figure size 1440x720 with 1 Axes>"
      ]
     },
     "metadata": {
      "needs_background": "light"
     },
     "output_type": "display_data"
    }
   ],
   "source": [
    "plt.figure(figsize=(20, 10))\n",
    "plt.plot(delta_list, fnr_ttest, '--*', label='Стьюдента', color = 'red')\n",
    "plt.plot(delta_list, fnr_mw, '--^', label='Манн-Уитни', color = 'blue')\n",
    "plt.legend(fontsize=12)\n",
    "plt.title(f'Сравнение ошибок 2 рода (FNR) в зависимости от доли выбросов ($\\delta$), и разброса $\\sigma={sigma}$', fontsize=12)\n",
    "plt.xlabel(f'$\\delta$', fontsize=12)\n",
    "plt.ylabel('FNR', fontsize=12)\n",
    "plt.show()"
   ]
  },
  {
   "cell_type": "code",
   "execution_count": null,
   "metadata": {},
   "outputs": [],
   "source": []
  },
  {
   "cell_type": "code",
   "execution_count": null,
   "metadata": {},
   "outputs": [],
   "source": []
  }
 ],
 "metadata": {
  "kernelspec": {
   "display_name": "Python 3.9.7 ('AB')",
   "language": "python",
   "name": "python3"
  },
  "language_info": {
   "codemirror_mode": {
    "name": "ipython",
    "version": 3
   },
   "file_extension": ".py",
   "mimetype": "text/x-python",
   "name": "python",
   "nbconvert_exporter": "python",
   "pygments_lexer": "ipython3",
   "version": "3.9.7"
  },
  "vscode": {
   "interpreter": {
    "hash": "6cdec0492d7277d9e27bc5e377e4c83b8c67181e328b8c2bb32019271cd5bc9a"
   }
  }
 },
 "nbformat": 4,
 "nbformat_minor": 4
}
