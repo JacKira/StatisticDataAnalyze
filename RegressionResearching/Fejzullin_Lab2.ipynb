{
 "cells": [
  {
   "cell_type": "code",
   "execution_count": 1,
   "metadata": {},
   "outputs": [],
   "source": [
    "import pandas as pd\n",
    "import numpy as np"
   ]
  },
  {
   "cell_type": "code",
   "execution_count": 2,
   "metadata": {},
   "outputs": [
    {
     "data": {
      "text/html": [
       "<div>\n",
       "<style scoped>\n",
       "    .dataframe tbody tr th:only-of-type {\n",
       "        vertical-align: middle;\n",
       "    }\n",
       "\n",
       "    .dataframe tbody tr th {\n",
       "        vertical-align: top;\n",
       "    }\n",
       "\n",
       "    .dataframe thead th {\n",
       "        text-align: right;\n",
       "    }\n",
       "</style>\n",
       "<table border=\"1\" class=\"dataframe\">\n",
       "  <thead>\n",
       "    <tr style=\"text-align: right;\">\n",
       "      <th></th>\n",
       "      <th>Номер карты</th>\n",
       "      <th>X</th>\n",
       "      <th>Y</th>\n",
       "    </tr>\n",
       "  </thead>\n",
       "  <tbody>\n",
       "    <tr>\n",
       "      <th>0</th>\n",
       "      <td>7720466173</td>\n",
       "      <td>3168.05</td>\n",
       "      <td>1611.00</td>\n",
       "    </tr>\n",
       "    <tr>\n",
       "      <th>1</th>\n",
       "      <td>7705911749</td>\n",
       "      <td>6378.65</td>\n",
       "      <td>332.50</td>\n",
       "    </tr>\n",
       "    <tr>\n",
       "      <th>2</th>\n",
       "      <td>7725380531</td>\n",
       "      <td>716.00</td>\n",
       "      <td>390.00</td>\n",
       "    </tr>\n",
       "    <tr>\n",
       "      <th>3</th>\n",
       "      <td>7713420459</td>\n",
       "      <td>2319.40</td>\n",
       "      <td>1206.00</td>\n",
       "    </tr>\n",
       "    <tr>\n",
       "      <th>4</th>\n",
       "      <td>7719074177</td>\n",
       "      <td>2157.00</td>\n",
       "      <td>1886.00</td>\n",
       "    </tr>\n",
       "    <tr>\n",
       "      <th>...</th>\n",
       "      <td>...</td>\n",
       "      <td>...</td>\n",
       "      <td>...</td>\n",
       "    </tr>\n",
       "    <tr>\n",
       "      <th>361564</th>\n",
       "      <td>7700884547</td>\n",
       "      <td>4611.00</td>\n",
       "      <td>17895.00</td>\n",
       "    </tr>\n",
       "    <tr>\n",
       "      <th>361565</th>\n",
       "      <td>7724259178</td>\n",
       "      <td>19241.75</td>\n",
       "      <td>2844.00</td>\n",
       "    </tr>\n",
       "    <tr>\n",
       "      <th>361566</th>\n",
       "      <td>7719850006</td>\n",
       "      <td>29583.18</td>\n",
       "      <td>3930.97</td>\n",
       "    </tr>\n",
       "    <tr>\n",
       "      <th>361567</th>\n",
       "      <td>7721745834</td>\n",
       "      <td>3438.40</td>\n",
       "      <td>4947.50</td>\n",
       "    </tr>\n",
       "    <tr>\n",
       "      <th>361568</th>\n",
       "      <td>7717264419</td>\n",
       "      <td>404.00</td>\n",
       "      <td>2823.50</td>\n",
       "    </tr>\n",
       "  </tbody>\n",
       "</table>\n",
       "<p>361306 rows × 3 columns</p>\n",
       "</div>"
      ],
      "text/plain": [
       "        Номер карты         X         Y\n",
       "0        7720466173   3168.05   1611.00\n",
       "1        7705911749   6378.65    332.50\n",
       "2        7725380531    716.00    390.00\n",
       "3        7713420459   2319.40   1206.00\n",
       "4        7719074177   2157.00   1886.00\n",
       "...             ...       ...       ...\n",
       "361564   7700884547   4611.00  17895.00\n",
       "361565   7724259178  19241.75   2844.00\n",
       "361566   7719850006  29583.18   3930.97\n",
       "361567   7721745834   3438.40   4947.50\n",
       "361568   7717264419    404.00   2823.50\n",
       "\n",
       "[361306 rows x 3 columns]"
      ]
     },
     "execution_count": 2,
     "metadata": {},
     "output_type": "execute_result"
    }
   ],
   "source": [
    "df = pd.read_csv('DataSet.csv', sep = ';').query('(X > 0) and (Y > 0) ')\n",
    "df"
   ]
  },
  {
   "cell_type": "code",
   "execution_count": 3,
   "metadata": {},
   "outputs": [
    {
     "name": "stdout",
     "output_type": "stream",
     "text": [
      "(361306, 3)           X         Y\n",
      "X  1.000000  0.482918\n",
      "Y  0.482918  1.000000\n"
     ]
    },
    {
     "data": {
      "image/png": "[encoded data removed]",
      "text/plain": [
       "<Figure size 432x288 with 1 Axes>"
      ]
     },
     "metadata": {
      "needs_background": "light"
     },
     "output_type": "display_data"
    }
   ],
   "source": [
    "sample_df = df.sample(int(df.shape[0] * 1), random_state= 80)\n",
    "sample_df.plot.scatter(x = 'X', y= 'Y')\n",
    "\n",
    "print(sample_df.shape, sample_df[['X', 'Y']].corr())"
   ]
  },
  {
   "cell_type": "code",
   "execution_count": 4,
   "metadata": {},
   "outputs": [],
   "source": [
    "df = sample_df"
   ]
  },
  {
   "cell_type": "code",
   "execution_count": 5,
   "metadata": {},
   "outputs": [
    {
     "data": {
      "text/plain": [
       "<AxesSubplot:xlabel='X', ylabel='Y'>"
      ]
     },
     "execution_count": 5,
     "metadata": {},
     "output_type": "execute_result"
    },
    {
     "data": {
      "image/png": "[encoded data removed]",
      "text/plain": [
       "<Figure size 432x288 with 1 Axes>"
      ]
     },
     "metadata": {
      "needs_background": "light"
     },
     "output_type": "display_data"
    }
   ],
   "source": [
    "df.plot.scatter(x = 'X', y = 'Y')"
   ]
  },
  {
   "cell_type": "code",
   "execution_count": 6,
   "metadata": {},
   "outputs": [],
   "source": [
    "from sklearn.linear_model import LinearRegression\n",
    "from sklearn.linear_model import HuberRegressor"
   ]
  },
  {
   "attachments": {},
   "cell_type": "markdown",
   "metadata": {},
   "source": [
    "## Nominal Values"
   ]
  },
  {
   "cell_type": "code",
   "execution_count": 7,
   "metadata": {},
   "outputs": [
    {
     "name": "stderr",
     "output_type": "stream",
     "text": [
      "c:\\Users\\Kirill\\.conda\\envs\\bayes\\lib\\site-packages\\sklearn\\utils\\validation.py:993: DataConversionWarning: A column-vector y was passed when a 1d array was expected. Please change the shape of y to (n_samples, ), for example using ravel().\n",
      "  y = column_or_1d(y, warn=True)\n"
     ]
    }
   ],
   "source": [
    "model_LSM = LinearRegression().fit(df[['X']].values, df[['Y']].values);\n",
    "model_huber = HuberRegressor().fit(df[['X']].values, df[['Y']].values);"
   ]
  },
  {
   "cell_type": "code",
   "execution_count": 8,
   "metadata": {},
   "outputs": [],
   "source": [
    "predicts_LSM = model_LSM.predict(df[['X']].values)\n",
    "predicts_huber = model_huber.predict(df[['X']].values)"
   ]
  },
  {
   "cell_type": "code",
   "execution_count": 9,
   "metadata": {},
   "outputs": [
    {
     "data": {
      "text/plain": [
       "<matplotlib.legend.Legend at 0x1855916f5b0>"
      ]
     },
     "execution_count": 9,
     "metadata": {},
     "output_type": "execute_result"
    },
    {
     "data": {
      "image/png": "[encoded data removed]",
      "text/plain": [
       "<Figure size 432x288 with 1 Axes>"
      ]
     },
     "metadata": {
      "needs_background": "light"
     },
     "output_type": "display_data"
    }
   ],
   "source": [
    "import matplotlib.pyplot as plt\n",
    "\n",
    "plt.scatter(df[['X']].values, df[['Y']].values, label = 'Points')\n",
    "plt.plot(df[['X']].values, predicts_LSM, label = 'LSM Predictions', color = 'red')\n",
    "plt.plot(df[['X']].values, predicts_huber, label = 'Huber Predictions', color = 'blue')\n",
    "plt.legend()"
   ]
  },
  {
   "cell_type": "code",
   "execution_count": 10,
   "metadata": {},
   "outputs": [],
   "source": [
    "import numpy as np\n",
    "from sklearn.metrics import mean_squared_error, mean_absolute_error\n",
    "import matplotlib.pyplot as plt\n",
    "from scipy.optimize import  minimize\n",
    "from sklearn.preprocessing import PolynomialFeatures\n",
    "import matplotlib.patches as mpatches\n",
    "from itertools import repeat\n",
    "\n",
    "\n",
    "\n",
    "\n",
    "def Tukey(u, c_coef):\n",
    "    f = lambda x: ( 1 - (1- (x / c_coef)**2 )**3 ) if np.abs(x) < c_coef else 1\n",
    "    applyall = np.vectorize(f)\n",
    "    return np.sum(applyall(u))\n",
    "\n",
    "\n",
    "\n",
    "#Требуемая функция\n",
    "def F(X, Y_true, weights = None, fit_c = True):\n",
    "    X = X.reshape(len(X), -1)\n",
    "    C = 1e5\n",
    "    if weights is None:\n",
    "            C = 1e5\n",
    "            X0 = np.random.normal(0, 10, size = X.shape[1] + 2)\n",
    "            X0[-1] = C\n",
    "    else:\n",
    "            Y_pred = weights[0]+np.sum(X * weights[1:], axis = 1)\n",
    "            C = mean_absolute_error(Y_true, Y_pred)**(1/2)\n",
    "            X0 = np.array(weights + [C]) \n",
    "\n",
    "\n",
    "    def Fit(coefs): \n",
    "        if not fit_c:\n",
    "            coefs[-1] =  C\n",
    "        Y_pred = np.sum(coefs[0]+X * coefs[1:-1], axis = 1) # y = b + x*a\n",
    "        diff = (Y_true.reshape(1, -1) - Y_pred.reshape(1, -1))\n",
    "        return Tukey(diff, c_coef = coefs[-1])\n",
    "    \n",
    "    #Зададим исходные веса, чтобы не попасть\n",
    "    #в локальный минимум, используя midhinge для порога C\n",
    "    \n",
    "    #Минимизируем Tukey\n",
    "    res = minimize(Fit, X0, method='L-BFGS-B') \n",
    "    return res "
   ]
  },
  {
   "cell_type": "code",
   "execution_count": 11,
   "metadata": {},
   "outputs": [
    {
     "data": {
      "text/plain": [
       "[2007.0325290294231, 0.26311754894076333]"
      ]
     },
     "execution_count": 11,
     "metadata": {},
     "output_type": "execute_result"
    }
   ],
   "source": [
    "init_tukey_weights = [model_LSM.intercept_[0]] + [model_LSM.coef_[0][0]]\n",
    "init_tukey_weights"
   ]
  },
  {
   "cell_type": "code",
   "execution_count": 12,
   "metadata": {},
   "outputs": [
    {
     "data": {
      "text/plain": [
       "array([2.00703253e+03, 2.63117549e-01, 5.34809153e+01])"
      ]
     },
     "execution_count": 12,
     "metadata": {},
     "output_type": "execute_result"
    }
   ],
   "source": [
    "X = df[['X']].values\n",
    "Y = df[['Y']].values\n",
    "#X = X.reshape(len(X), -1)\n",
    "Y = Y.reshape(len(Y), -1)\n",
    "coefs = F(X = X\n",
    "    , Y_true = Y\n",
    "    , weights= init_tukey_weights #LSM Weights\n",
    "    , fit_c= True\n",
    "    #, weights= model_huber.coef_.tolist() #Huber Weights\n",
    "    )\n",
    "coefs.x"
   ]
  },
  {
   "cell_type": "code",
   "execution_count": 13,
   "metadata": {},
   "outputs": [
    {
     "data": {
      "text/plain": [
       "<matplotlib.legend.Legend at 0x185608383a0>"
      ]
     },
     "execution_count": 13,
     "metadata": {},
     "output_type": "execute_result"
    },
    {
     "data": {
      "image/png": "[encoded data removed]",
      "text/plain": [
       "<Figure size 432x288 with 1 Axes>"
      ]
     },
     "metadata": {
      "needs_background": "light"
     },
     "output_type": "display_data"
    }
   ],
   "source": [
    "import matplotlib.pyplot as plt\n",
    "\n",
    "plt.scatter(df[['X']].values, df[['Y']].values, label = 'True Values')\n",
    "plt.plot(df[['X']].values, predicts_LSM, label = 'LSM Prediction', color = 'red', linewidth = 3)\n",
    "plt.plot(df[['X']].values, predicts_huber, label = 'Huber Prediction', color = 'blue', linewidth = 3)\n",
    "plt.plot(df[['X']].values, coefs.x[0] + np.sum(df[['X']].values * coefs.x[1:-1], axis = 1), '--*', label = 'Tukey', color = 'yellow')\n",
    "plt.legend()"
   ]
  },
  {
   "cell_type": "code",
   "execution_count": 14,
   "metadata": {},
   "outputs": [
    {
     "name": "stdout",
     "output_type": "stream",
     "text": [
      "R2 LSM  0.23320965461530607\n",
      "R2 Huber  0.15494691230613644\n",
      "R2 Tukey  0.23320965461530607\n"
     ]
    }
   ],
   "source": [
    "from sklearn.metrics import r2_score\n",
    "print('R2 LSM ',r2_score(df[['Y']].values, predicts_LSM))\n",
    "print('R2 Huber ',r2_score(df[['Y']].values, predicts_huber))\n",
    "print('R2 Tukey ', r2_score(df[['Y']].values,  coefs.x[0] + np.sum(X * coefs.x[1:-1], axis = 1)))"
   ]
  },
  {
   "attachments": {},
   "cell_type": "markdown",
   "metadata": {},
   "source": [
    "## PolyNominal Searching"
   ]
  },
  {
   "cell_type": "code",
   "execution_count": 15,
   "metadata": {},
   "outputs": [
    {
     "name": "stderr",
     "output_type": "stream",
     "text": [
      "c:\\Users\\Kirill\\.conda\\envs\\bayes\\lib\\site-packages\\sklearn\\utils\\validation.py:993: DataConversionWarning: A column-vector y was passed when a 1d array was expected. Please change the shape of y to (n_samples, ), for example using ravel().\n",
      "  y = column_or_1d(y, warn=True)\n",
      "c:\\Users\\Kirill\\.conda\\envs\\bayes\\lib\\site-packages\\sklearn\\utils\\validation.py:993: DataConversionWarning: A column-vector y was passed when a 1d array was expected. Please change the shape of y to (n_samples, ), for example using ravel().\n",
      "  y = column_or_1d(y, warn=True)\n",
      "c:\\Users\\Kirill\\.conda\\envs\\bayes\\lib\\site-packages\\sklearn\\utils\\validation.py:993: DataConversionWarning: A column-vector y was passed when a 1d array was expected. Please change the shape of y to (n_samples, ), for example using ravel().\n",
      "  y = column_or_1d(y, warn=True)\n",
      "c:\\Users\\Kirill\\.conda\\envs\\bayes\\lib\\site-packages\\sklearn\\utils\\validation.py:993: DataConversionWarning: A column-vector y was passed when a 1d array was expected. Please change the shape of y to (n_samples, ), for example using ravel().\n",
      "  y = column_or_1d(y, warn=True)\n",
      "c:\\Users\\Kirill\\.conda\\envs\\bayes\\lib\\site-packages\\sklearn\\utils\\validation.py:993: DataConversionWarning: A column-vector y was passed when a 1d array was expected. Please change the shape of y to (n_samples, ), for example using ravel().\n",
      "  y = column_or_1d(y, warn=True)\n",
      "c:\\Users\\Kirill\\.conda\\envs\\bayes\\lib\\site-packages\\sklearn\\utils\\validation.py:993: DataConversionWarning: A column-vector y was passed when a 1d array was expected. Please change the shape of y to (n_samples, ), for example using ravel().\n",
      "  y = column_or_1d(y, warn=True)\n",
      "c:\\Users\\Kirill\\.conda\\envs\\bayes\\lib\\site-packages\\sklearn\\utils\\validation.py:993: DataConversionWarning: A column-vector y was passed when a 1d array was expected. Please change the shape of y to (n_samples, ), for example using ravel().\n",
      "  y = column_or_1d(y, warn=True)\n",
      "c:\\Users\\Kirill\\.conda\\envs\\bayes\\lib\\site-packages\\sklearn\\utils\\validation.py:993: DataConversionWarning: A column-vector y was passed when a 1d array was expected. Please change the shape of y to (n_samples, ), for example using ravel().\n",
      "  y = column_or_1d(y, warn=True)\n",
      "c:\\Users\\Kirill\\.conda\\envs\\bayes\\lib\\site-packages\\sklearn\\utils\\validation.py:993: DataConversionWarning: A column-vector y was passed when a 1d array was expected. Please change the shape of y to (n_samples, ), for example using ravel().\n",
      "  y = column_or_1d(y, warn=True)\n",
      "c:\\Users\\Kirill\\.conda\\envs\\bayes\\lib\\site-packages\\sklearn\\utils\\validation.py:993: DataConversionWarning: A column-vector y was passed when a 1d array was expected. Please change the shape of y to (n_samples, ), for example using ravel().\n",
      "  y = column_or_1d(y, warn=True)\n",
      "c:\\Users\\Kirill\\.conda\\envs\\bayes\\lib\\site-packages\\sklearn\\utils\\validation.py:993: DataConversionWarning: A column-vector y was passed when a 1d array was expected. Please change the shape of y to (n_samples, ), for example using ravel().\n",
      "  y = column_or_1d(y, warn=True)\n",
      "c:\\Users\\Kirill\\.conda\\envs\\bayes\\lib\\site-packages\\sklearn\\utils\\validation.py:993: DataConversionWarning: A column-vector y was passed when a 1d array was expected. Please change the shape of y to (n_samples, ), for example using ravel().\n",
      "  y = column_or_1d(y, warn=True)\n",
      "c:\\Users\\Kirill\\.conda\\envs\\bayes\\lib\\site-packages\\sklearn\\utils\\validation.py:993: DataConversionWarning: A column-vector y was passed when a 1d array was expected. Please change the shape of y to (n_samples, ), for example using ravel().\n",
      "  y = column_or_1d(y, warn=True)\n",
      "c:\\Users\\Kirill\\.conda\\envs\\bayes\\lib\\site-packages\\sklearn\\utils\\validation.py:993: DataConversionWarning: A column-vector y was passed when a 1d array was expected. Please change the shape of y to (n_samples, ), for example using ravel().\n",
      "  y = column_or_1d(y, warn=True)\n",
      "c:\\Users\\Kirill\\.conda\\envs\\bayes\\lib\\site-packages\\sklearn\\utils\\validation.py:993: DataConversionWarning: A column-vector y was passed when a 1d array was expected. Please change the shape of y to (n_samples, ), for example using ravel().\n",
      "  y = column_or_1d(y, warn=True)\n",
      "c:\\Users\\Kirill\\.conda\\envs\\bayes\\lib\\site-packages\\sklearn\\utils\\validation.py:993: DataConversionWarning: A column-vector y was passed when a 1d array was expected. Please change the shape of y to (n_samples, ), for example using ravel().\n",
      "  y = column_or_1d(y, warn=True)\n",
      "c:\\Users\\Kirill\\.conda\\envs\\bayes\\lib\\site-packages\\sklearn\\utils\\validation.py:993: DataConversionWarning: A column-vector y was passed when a 1d array was expected. Please change the shape of y to (n_samples, ), for example using ravel().\n",
      "  y = column_or_1d(y, warn=True)\n",
      "c:\\Users\\Kirill\\.conda\\envs\\bayes\\lib\\site-packages\\sklearn\\utils\\validation.py:993: DataConversionWarning: A column-vector y was passed when a 1d array was expected. Please change the shape of y to (n_samples, ), for example using ravel().\n",
      "  y = column_or_1d(y, warn=True)\n"
     ]
    }
   ],
   "source": [
    "from  copy import deepcopy as deepcopy\n",
    "from sklearn.model_selection import train_test_split\n",
    "from sklearn.metrics import r2_score, mean_absolute_error, mean_squared_error\n",
    "results = {}\n",
    "for p in np.arange(2, 20):\n",
    "    try:\n",
    "        #X = df[['X', 'Bias']].values\n",
    "        df['NormX'] = (df['X'] - df['X'].mean()) / df['X'].std()\n",
    "        X = df[['NormX']].values\n",
    "        #X = df[['X']].values\n",
    "        X = X.reshape(len(X), -1)\n",
    "\n",
    "        X = PolynomialFeatures(degree = p, include_bias=False).fit_transform(X)#[:, -1]\n",
    "        X = X.reshape(len(X), -1)\n",
    "        X_train, X_test, Y_train, Y_test = train_test_split(X, df[['Y']].values, random_state=42)\n",
    "        model_LSM = LinearRegression().fit(X_train, Y_train);\n",
    "        model_huber = HuberRegressor().fit(X_train, Y_train);\n",
    "\n",
    "        init_tukey_weights = model_LSM.intercept_.tolist() + np.squeeze(model_LSM.coef_).tolist()\n",
    "\n",
    "        coefs = F(X = X_train\n",
    "            , Y_true = np.squeeze(Y_train)\n",
    "            , weights= init_tukey_weights #LSM Weights\n",
    "            , fit_c= True\n",
    "            #, weights= model_huber.coef_.tolist() #Huber Weights\n",
    "            )\n",
    "        \n",
    "        predicts_LSM = model_LSM.predict(X_test)\n",
    "        predicts_huber = model_huber.predict(X_test)\n",
    "        \n",
    "        res_p={}\n",
    "        res_p['LSM R2']= r2_score(Y_test, predicts_LSM)\n",
    "        res_p['Huber R2'] = r2_score(Y_test, predicts_huber)\n",
    "        res_p['Tukey R2'] = r2_score(Y_test,  coefs.x[0] + np.sum(X_test * coefs.x[1:-1], axis = 1))\n",
    "\n",
    "        res_p['Weights LSM'] = deepcopy(model_LSM)\n",
    "        res_p['Weights Huber'] = deepcopy(model_huber)\n",
    "        res_p['Model Tukey'] = deepcopy(coefs)\n",
    "\n",
    "        results[p]= res_p\n",
    "    except:\n",
    "        continue    "
   ]
  },
  {
   "cell_type": "code",
   "execution_count": 16,
   "metadata": {},
   "outputs": [
    {
     "name": "stdout",
     "output_type": "stream",
     "text": [
      "Polynome 2 :  0.29244845610104475 0.23259943796908122 0.29244845610104475\n",
      "Polynome 3 :  0.28840441887700363 -0.217556398552484 0.28840441887700363\n",
      "Polynome 4 :  0.28435208592649475 -0.2218005603638855 0.28435208592649475\n",
      "Polynome 5 :  0.23461357569700014 -0.22425455746678802 0.23461357569699992\n",
      "Polynome 6 :  0.1800605107005635 -0.226462270019824 0.18006051070056894\n",
      "Polynome 7 :  0.26703767018381275 -0.2912159625522057 0.2670376701838052\n",
      "Polynome 8 :  0.2577096420491807 -0.2992061934946686 0.25770964204920055\n",
      "Polynome 9 :  0.04961841274170742 -0.3066935521493175 0.04961841274479695\n",
      "Polynome 10 :  0.09690192761765593 -0.3136800509589013 0.09690192761763228\n"
     ]
    }
   ],
   "source": [
    "for r in results:\n",
    "    print(f'Polynome {r} : ',results[r]['LSM R2'], results[r]['Huber R2'], results[r]['Tukey R2'])"
   ]
  },
  {
   "cell_type": "code",
   "execution_count": 17,
   "metadata": {},
   "outputs": [],
   "source": [
    "best_LSM_p = sorted(results.items(), key = lambda x: -x[1]['LSM R2'])[0]\n",
    "best_Huber_p = sorted(results.items(), key = lambda x: -x[1]['Huber R2'])[0]\n",
    "best_Tukey_p = sorted(results.items(), key = lambda x: -x[1]['Tukey R2'])[0]"
   ]
  },
  {
   "attachments": {},
   "cell_type": "markdown",
   "metadata": {},
   "source": [
    "### Best LSM"
   ]
  },
  {
   "cell_type": "code",
   "execution_count": 18,
   "metadata": {},
   "outputs": [
    {
     "name": "stderr",
     "output_type": "stream",
     "text": [
      "C:\\Users\\Kirill\\AppData\\Local\\Temp\\ipykernel_12112\\1737547350.py:16: VisibleDeprecationWarning: Creating an ndarray from ragged nested sequences (which is a list-or-tuple of lists-or-tuples-or ndarrays with different lengths or shapes) is deprecated. If you meant to do this, you must specify 'dtype=object' when creating the ndarray.\n",
      "  XY = np.array(sorted(list(zip(df['X'].values, predicts_LSM)), key = lambda x: x[0]))\n"
     ]
    },
    {
     "data": {
      "image/png": "[encoded data removed]",
      "text/plain": [
       "<Figure size 432x288 with 1 Axes>"
      ]
     },
     "metadata": {
      "needs_background": "light"
     },
     "output_type": "display_data"
    }
   ],
   "source": [
    "p = best_LSM_p[0]\n",
    "X = df[['NormX']].values\n",
    "#X = df[['X']].values\n",
    "X = X.reshape(len(X), -1)\n",
    "\n",
    "X = PolynomialFeatures(degree = p, include_bias=False).fit_transform(X)#[:, -1]\n",
    "X = X.reshape(len(X), -1)\n",
    "\n",
    "model_LSM = best_LSM_p[1]['Weights LSM']\n",
    "predicts_LSM = model_LSM.predict(X)\n",
    "\n",
    "import matplotlib.pyplot as plt\n",
    "%matplotlib inline\n",
    "plt.scatter(df['X'].values, df[['Y']].values, label = 'True Values', linewidths=5)\n",
    "\n",
    "XY = np.array(sorted(list(zip(df['X'].values, predicts_LSM)), key = lambda x: x[0]))\n",
    "plt.plot(XY.T[0] , XY.T[1], label = 'LSM Prediction', color = 'red', linewidth = 1)\n",
    "plt.title(f'Best Polynome {p} for LSM Model')\n",
    "plt.legend()\n",
    "plt.show()"
   ]
  },
  {
   "attachments": {},
   "cell_type": "markdown",
   "metadata": {},
   "source": [
    "### Best Huber"
   ]
  },
  {
   "cell_type": "code",
   "execution_count": 19,
   "metadata": {},
   "outputs": [
    {
     "data": {
      "image/png": "[encoded data removed]",
      "text/plain": [
       "<Figure size 432x288 with 1 Axes>"
      ]
     },
     "metadata": {
      "needs_background": "light"
     },
     "output_type": "display_data"
    }
   ],
   "source": [
    "p = best_Huber_p[0]\n",
    "X = df[['NormX']].values\n",
    "#X = df[['X']].values\n",
    "X = X.reshape(len(X), -1)\n",
    "\n",
    "X = PolynomialFeatures(degree = p, include_bias=False).fit_transform(X)#[:, -1]\n",
    "X = X.reshape(len(X), -1)\n",
    "\n",
    "model_huber = best_Huber_p[1]['Weights Huber']\n",
    "predicts_huber = model_huber.predict(X)\n",
    "\n",
    "\n",
    "import matplotlib.pyplot as plt\n",
    "%matplotlib inline\n",
    "plt.scatter(df['X'].values, df[['Y']].values, label = 'True Values', linewidths=5)\n",
    "\n",
    "XY = np.array(sorted(list(zip(df['X'].values, predicts_huber)), key = lambda x: x[0]))\n",
    "plt.plot(XY.T[0] , XY.T[1], label = 'Huber Prediction', color = 'blue', linewidth = 1)\n",
    "\n",
    "\n",
    "plt.title(f'Best Polynome {p} for Huber Model')\n",
    "plt.legend()\n",
    "plt.show()"
   ]
  },
  {
   "attachments": {},
   "cell_type": "markdown",
   "metadata": {},
   "source": [
    "### Best Tukey"
   ]
  },
  {
   "cell_type": "code",
   "execution_count": 20,
   "metadata": {},
   "outputs": [
    {
     "data": {
      "image/png": "[encoded data removed]",
      "text/plain": [
       "<Figure size 432x288 with 1 Axes>"
      ]
     },
     "metadata": {
      "needs_background": "light"
     },
     "output_type": "display_data"
    }
   ],
   "source": [
    "p = best_Tukey_p[0]\n",
    "X = df[['NormX']].values\n",
    "#X = df[['X']].values\n",
    "X = X.reshape(len(X), -1)\n",
    "\n",
    "X = PolynomialFeatures(degree = p, include_bias=False).fit_transform(X)#[:, -1]\n",
    "X = X.reshape(len(X), -1)\n",
    "\n",
    "coefs = best_Tukey_p[1]['Model Tukey']\n",
    "\n",
    "import matplotlib.pyplot as plt\n",
    "%matplotlib inline\n",
    "plt.scatter(df['X'].values, df[['Y']].values, label = 'True Values', linewidths=5)\n",
    "\n",
    "\n",
    "XY = np.array(  \n",
    "                sorted(list(zip(df['X'].values.tolist()\n",
    "                            ,  coefs.x[0]+np.sum(X * coefs.x[1:-1], axis = 1)))\n",
    "                    , key = lambda x: x[0])\n",
    "                    )\n",
    "plt.plot(XY.T[0] , XY.T[1], '--*', label = 'Tukey', color = 'yellow')\n",
    "plt.title(f'Best Polynome {p} for Tukey Model')\n",
    "plt.legend()\n",
    "plt.show()"
   ]
  },
  {
   "attachments": {},
   "cell_type": "markdown",
   "metadata": {},
   "source": [
    "### Best for each Model Together"
   ]
  },
  {
   "cell_type": "code",
   "execution_count": 21,
   "metadata": {},
   "outputs": [
    {
     "name": "stderr",
     "output_type": "stream",
     "text": [
      "C:\\Users\\Kirill\\AppData\\Local\\Temp\\ipykernel_12112\\1194503027.py:5: VisibleDeprecationWarning: Creating an ndarray from ragged nested sequences (which is a list-or-tuple of lists-or-tuples-or ndarrays with different lengths or shapes) is deprecated. If you meant to do this, you must specify 'dtype=object' when creating the ndarray.\n",
      "  XY = np.array(sorted(list(zip(df['X'].values, predicts_LSM)), key = lambda x: x[0]))\n"
     ]
    },
    {
     "data": {
      "text/plain": [
       "<matplotlib.legend.Legend at 0x1855d4620a0>"
      ]
     },
     "execution_count": 21,
     "metadata": {},
     "output_type": "execute_result"
    },
    {
     "data": {
      "image/png": "[encoded data removed]",
      "text/plain": [
       "<Figure size 432x288 with 1 Axes>"
      ]
     },
     "metadata": {
      "needs_background": "light"
     },
     "output_type": "display_data"
    }
   ],
   "source": [
    "import matplotlib.pyplot as plt\n",
    "%matplotlib inline\n",
    "plt.scatter(df['X'].values, df[['Y']].values, label = 'True Values', linewidths=5)\n",
    "\n",
    "XY = np.array(sorted(list(zip(df['X'].values, predicts_LSM)), key = lambda x: x[0]))\n",
    "R2 = round(best_LSM_p[1]['LSM R2'], 3)\n",
    "plt.plot(XY.T[0] , XY.T[1], label = f'LSM Prediction polynome {best_LSM_p[0]}; R2 = {R2}', color = 'red', linewidth = 1)\n",
    "\n",
    "XY = np.array(sorted(list(zip(df['X'].values, predicts_huber)), key = lambda x: x[0]))\n",
    "R2 = round(best_Huber_p[1]['Huber R2'], 3)\n",
    "plt.plot(XY.T[0] , XY.T[1], label = f'Huber Prediction polynome {best_Huber_p[0]}; R2 = {R2}', color = 'blue', linewidth = 1)\n",
    "\n",
    "XY = np.array(  \n",
    "                sorted(list(zip(df['X'].values.tolist()\n",
    "                            ,  coefs.x[0]+np.sum(X * coefs.x[1:-1], axis = 1)))\n",
    "                    , key = lambda x: x[0])\n",
    "                    )\n",
    "R2 = round(best_Tukey_p[1]['Tukey R2'], 3)                    \n",
    "plt.plot(XY.T[0] , XY.T[1], '--*', label = f'Tukey Prediction polynome {best_Tukey_p[0]}; R2 = {R2}', color = 'yellow')\n",
    "plt.legend()"
   ]
  },
  {
   "cell_type": "code",
   "execution_count": null,
   "metadata": {},
   "outputs": [],
   "source": []
  }
 ],
 "metadata": {
  "kernelspec": {
   "display_name": "bayes",
   "language": "python",
   "name": "python3"
  },
  "language_info": {
   "codemirror_mode": {
    "name": "ipython",
    "version": 3
   },
   "file_extension": ".py",
   "mimetype": "text/x-python",
   "name": "python",
   "nbconvert_exporter": "python",
   "pygments_lexer": "ipython3",
   "version": "3.9.12"
  },
  "vscode": {
   "interpreter": {
    "hash": "f44b1d12d67a36c46179d86223962968914b65b7c7ad2cb271a366d124476f64"
   }
  }
 },
 "nbformat": 4,
 "nbformat_minor": 4
}
