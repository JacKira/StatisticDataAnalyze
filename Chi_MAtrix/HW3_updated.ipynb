{
 "cells": [
  {
   "cell_type": "code",
   "execution_count": 17,
   "metadata": {},
   "outputs": [],
   "source": [
    "import pandas as pd\n",
    "import numpy as np\n",
    "import matplotlib.pyplot as plt\n",
    "\n",
    "from scipy.stats import chisquare\n",
    "from scipy import stats\n",
    "\n"
   ]
  },
  {
   "cell_type": "markdown",
   "metadata": {},
   "source": [
    "### 1. Линейная зависимость"
   ]
  },
  {
   "cell_type": "code",
   "execution_count": 18,
   "metadata": {},
   "outputs": [],
   "source": [
    "\n",
    "x = stats.norm().rvs(1000)\n",
    "noise = np.random.uniform(-10,10)*stats.norm().rvs(x.size)\n",
    "y = x + noise"
   ]
  },
  {
   "cell_type": "code",
   "execution_count": 19,
   "metadata": {},
   "outputs": [
    {
     "data": {
      "image/png": "[encoded data removed]",
      "text/plain": [
       "<Figure size 432x288 with 1 Axes>"
      ]
     },
     "metadata": {
      "needs_background": "light"
     },
     "output_type": "display_data"
    }
   ],
   "source": [
    "plt.scatter(x, y);"
   ]
  },
  {
   "cell_type": "code",
   "execution_count": 20,
   "metadata": {},
   "outputs": [],
   "source": [
    "def is_negative_corr_pearson(x, y, l, r):\n",
    "    n = len(x)\n",
    "    r_coeff = np.corrcoef(x, y)\n",
    "    T = r_coeff[0, 1]*np.sqrt(n - 2)/np.sqrt(1 - r_coeff[0, 1]**2)\n",
    "    if (T > l) and (T < r):\n",
    "        return 1\n",
    "    else:\n",
    "        return 0"
   ]
  },
  {
   "cell_type": "code",
   "execution_count": 21,
   "metadata": {},
   "outputs": [],
   "source": [
    "def is_negative_spearman(x, y, alpha=0.05):\n",
    "    _, pvalue = stats.spearmanr(x, y)\n",
    "    if pvalue <= alpha:\n",
    "        return 0\n",
    "    else:\n",
    "        return 1"
   ]
  },
  {
   "cell_type": "code",
   "execution_count": 22,
   "metadata": {},
   "outputs": [],
   "source": [
    "def get_contingency_table(x, y, isdraw = False):\n",
    "    def mapX(x_var, x_025, x_075):\n",
    "        if x_var < x_025:\n",
    "            return '1) less x_025'\n",
    "        if x_var > x_075:\n",
    "            return '3) more x_075'\n",
    "        if (x_var >= x_025) and (x_var <= x_075):\n",
    "            return '2) between x_025 and x_075'\n",
    "\n",
    "    def mapY(y_var, y_025, y_075):\n",
    "        if y_var < y_025:\n",
    "            return '1) less y_025'\n",
    "        if y_var > y_075:\n",
    "            return '3) more y_075'\n",
    "        if (y_var >= y_025) and (y_var <= y_075):\n",
    "            return '2) between y_025 and y_075'\n",
    "\n",
    "\n",
    "    df = pd.DataFrame({'X':x, 'Y':y})\n",
    "    x_quant = df.X.quantile([0.25, 0.75])\n",
    "    y_quant = df.Y.quantile([0.25, 0.75])\n",
    "    df['Interval_X'] = df.X.apply(lambda x: mapX(x, x_quant.tolist()[0], x_quant.tolist()[1]))\n",
    "    df['Interval_Y'] = df.Y.apply(lambda y: mapY(y, y_quant.tolist()[0], y_quant.tolist()[1]))\n",
    "    df['Ones'] = 1\n",
    "\n",
    "    if isdraw:\n",
    "        fig, ax = plt.subplots(figsize = (7, 7))\n",
    "        df[['X', 'Y']].plot.scatter(x = 'X', y = 'Y', ax = ax, label = 'Points ')\n",
    "        ax.vlines(x_quant, ymin = df.Y.min(), ymax = df.Y.max(), color = 'red', label = 'X interval')\n",
    "        ax.hlines(y_quant, xmin = df.X.min(), xmax = df.X.max(), color = 'blue', label = 'Y interval')\n",
    "        ax.legend()\n",
    "        plt.show()\n",
    "\n",
    "    return df[['Interval_X',\t'Interval_Y', 'Ones']].pivot_table(index='Interval_X', columns='Interval_Y', aggfunc='count').values"
   ]
  },
  {
   "cell_type": "code",
   "execution_count": 23,
   "metadata": {},
   "outputs": [],
   "source": [
    "def is_negative_chi_square(x, y, alpha=0.05):\n",
    "    contingency_table = get_contingency_table(x, y)\n",
    "    pvalue = stats.chi2_contingency(contingency_table)[1]\n",
    "    if pvalue <= alpha:\n",
    "        return 0\n",
    "    else:\n",
    "        return 1"
   ]
  },
  {
   "cell_type": "code",
   "execution_count": 25,
   "metadata": {},
   "outputs": [
    {
     "name": "stdout",
     "output_type": "stream",
     "text": [
      "Ошибка второго рода (FNR):\n",
      "\t    1. Корреляция Пирсона: 0.107.\n",
      "\t    2. Корреляция Спирмена: 0.123.\n",
      "\t    3. $chi: 0.483.\n"
     ]
    }
   ],
   "source": [
    "np.random.seed(42)\n",
    "negatives_corr_pearson = 0\n",
    "negatives_spearman = 0\n",
    "negatives_chi_square = 0\n",
    "alpha = 0.05\n",
    "\n",
    "n = 1000 # размер выборки\n",
    "n_tests = 1000 # количество повторений теста\n",
    "\n",
    "left_border, right_border = stats.t.ppf(alpha/2, df=n-2), stats.t.ppf(1-alpha/2, df=n-2)\n",
    "\n",
    "for i in range(n_tests):  \n",
    "    # генерация выборок\n",
    "    x = stats.norm().rvs(n)\n",
    "    noise = stats.norm(0, 10).rvs(n)\n",
    "    y = x + noise\n",
    "\n",
    "    negatives_corr_pearson += is_negative_corr_pearson(x, y, l=left_border, r=right_border)\n",
    "    negatives_spearman += is_negative_spearman(x, y, alpha=alpha)\n",
    "    negatives_chi_square += is_negative_chi_square(x, y, alpha=alpha)\n",
    "print(f'Ошибка второго рода (FNR):\\n\\t\\\n",
    "    1. Корреляция Пирсона: {negatives_corr_pearson/n_tests:.3f}.\\n\\t\\\n",
    "    2. Корреляция Спирмена: {negatives_spearman/n_tests:.3f}.\\n\\t\\\n",
    "    3. X2: {negatives_chi_square/n_tests:.3f}.')"
   ]
  },
  {
   "attachments": {},
   "cell_type": "markdown",
   "metadata": {},
   "source": [
    "Таким образом, в случае линейной зависимости переменных лучшим оказывается критерий, основанный на вычислении коэффициента корреляции Пирсона."
   ]
  },
  {
   "cell_type": "markdown",
   "metadata": {},
   "source": [
    "### 2. Монотонная нелинейная зависимость"
   ]
  },
  {
   "cell_type": "code",
   "execution_count": 218,
   "metadata": {},
   "outputs": [],
   "source": [
    "rng = np.random.default_rng()\n",
    "x = stats.uniform(-5, 10).rvs(1000)\n",
    "noise  = stats.norm(0,1).rvs(x.size)\n",
    "y_clear = 1 / (1 + np.exp(1-x))\n",
    "y = y_clear + noise\n",
    "\n",
    "\n"
   ]
  },
  {
   "cell_type": "code",
   "execution_count": 219,
   "metadata": {},
   "outputs": [
    {
     "data": {
      "image/png": "[encoded data removed]",
      "text/plain": [
       "<Figure size 432x288 with 1 Axes>"
      ]
     },
     "metadata": {
      "needs_background": "light"
     },
     "output_type": "display_data"
    },
    {
     "data": {
      "image/png": "[encoded data removed]",
      "text/plain": [
       "<Figure size 432x288 with 1 Axes>"
      ]
     },
     "metadata": {
      "needs_background": "light"
     },
     "output_type": "display_data"
    }
   ],
   "source": [
    "plt.hist(x, );\n",
    "plt.figure()\n",
    "plt.hist(y);\n",
    "plt.hist(y_clear);"
   ]
  },
  {
   "cell_type": "code",
   "execution_count": 220,
   "metadata": {},
   "outputs": [
    {
     "data": {
      "text/plain": [
       "(-0.8948032864379798, 3.6476480327066776)"
      ]
     },
     "execution_count": 220,
     "metadata": {},
     "output_type": "execute_result"
    },
    {
     "data": {
      "image/png": "[encoded data removed]",
      "text/plain": [
       "<Figure size 432x288 with 1 Axes>"
      ]
     },
     "metadata": {
      "needs_background": "light"
     },
     "output_type": "display_data"
    }
   ],
   "source": [
    "plt.scatter(x, y, label = 'Noised');\n",
    "plt.scatter(x, y_clear, label = 'Based');\n",
    "plt.xlim(-5, 10)\n",
    "plt.ylim(np.min(y_clear)-2, np.max(y_clear)+2 )"
   ]
  },
  {
   "cell_type": "code",
   "execution_count": 222,
   "metadata": {},
   "outputs": [
    {
     "name": "stdout",
     "output_type": "stream",
     "text": [
      "Ошибка второго рода (FNR):\n",
      "\t    1. Корреляция Пирсона: 0.400000\n",
      "\t    2. Корреляция Спирмена: 0.416000\n",
      "\t    3. χ^2: 0.749\n"
     ]
    }
   ],
   "source": [
    "np.random.seed(42)\n",
    "negatives_corr_pearson = 0\n",
    "negatives_spearman = 0\n",
    "negatives_chi_square = 0\n",
    "alpha = 0.05\n",
    "\n",
    "n = 1000 # размер выборки\n",
    "n_tests = 1000 # количество повторений теста\n",
    "\n",
    "left_border, right_border = stats.t.ppf(alpha/2, df=n-2), stats.t.ppf(1-alpha/2, df=n-2)\n",
    "\n",
    "for i in range(n_tests):  \n",
    "    # генерация выборок\n",
    "    x = stats.uniform(-5, 10).rvs(n)\n",
    "    noise  = stats.norm(0,5).rvs(x.size)\n",
    "    y_clear = 1 / (1 + np.exp(1-x))\n",
    "    y = y_clear + noise\n",
    "\n",
    "    negatives_corr_pearson += is_negative_corr_pearson(x, y, l=left_border, r=right_border)\n",
    "    negatives_spearman += is_negative_spearman(x, y, alpha=alpha)\n",
    "    negatives_chi_square += is_negative_chi_square(x, y, alpha=alpha)\n",
    "print(f'Ошибка второго рода (FNR):\\n\\t\\\n",
    "    1. Корреляция Пирсона: {negatives_corr_pearson/n_tests:.6f}\\n\\t\\\n",
    "    2. Корреляция Спирмена: {negatives_spearman/n_tests:.6f}\\n\\t\\\n",
    "    3. \\u03C7^2: {negatives_chi_square/n_tests:.3f}')"
   ]
  },
  {
   "cell_type": "markdown",
   "metadata": {},
   "source": [
    "### 3. Немонотонная зависимость"
   ]
  },
  {
   "cell_type": "code",
   "execution_count": 209,
   "metadata": {},
   "outputs": [
    {
     "data": {
      "image/png": "[encoded data removed]",
      "text/plain": [
       "<Figure size 432x288 with 1 Axes>"
      ]
     },
     "metadata": {
      "needs_background": "light"
     },
     "output_type": "display_data"
    },
    {
     "data": {
      "image/png": "[encoded data removed]",
      "text/plain": [
       "<Figure size 432x288 with 1 Axes>"
      ]
     },
     "metadata": {
      "needs_background": "light"
     },
     "output_type": "display_data"
    },
    {
     "data": {
      "image/png": "[encoded data removed]",
      "text/plain": [
       "<Figure size 432x288 with 1 Axes>"
      ]
     },
     "metadata": {
      "needs_background": "light"
     },
     "output_type": "display_data"
    }
   ],
   "source": [
    "rng = np.random.default_rng()\n",
    "x = stats.norm().rvs(100)\n",
    "noise  = stats.norm(0, 1.5).rvs(x.size)\n",
    "y = -x**2 + noise\n",
    "plt.hist(x);\n",
    "plt.figure()\n",
    "plt.hist(y);\n",
    "plt.figure()\n",
    "plt.scatter(x, y);"
   ]
  },
  {
   "cell_type": "code",
   "execution_count": 210,
   "metadata": {},
   "outputs": [
    {
     "name": "stdout",
     "output_type": "stream",
     "text": [
      "Ошибка второго рода (FNR):\n",
      "\t    1. Корреляция Пирсона: 0.914\n",
      "\t    2. Корреляция Спирмена: 0.941\n",
      "\t    3. χ^2: 0.018\n"
     ]
    }
   ],
   "source": [
    "np.random.seed(42)\n",
    "negatives_corr_pearson = 0\n",
    "negatives_spearman = 0\n",
    "negatives_chi_square = 0\n",
    "alpha = 0.05\n",
    "\n",
    "n = 1000 # размер выборки\n",
    "n_tests = 1000 # количество повторений теста\n",
    "\n",
    "left_border, right_border = stats.t.ppf(alpha/2, df=n-2), stats.t.ppf(1-alpha/2, df=n-2)\n",
    "\n",
    "for i in range(n_tests):  \n",
    "    # генерация выборок\n",
    "    x = stats.norm().rvs(n)\n",
    "    noise = stats.norm(0, 5).rvs(n)\n",
    "    y = -x**2 + noise\n",
    "\n",
    "    negatives_corr_pearson += is_negative_corr_pearson(x, y, l=left_border, r=right_border)\n",
    "    negatives_spearman += is_negative_spearman(x, y, alpha=alpha)\n",
    "    negatives_chi_square += is_negative_chi_square(x, y, alpha=alpha)\n",
    "print(f'Ошибка второго рода (FNR):\\n\\t\\\n",
    "    1. Корреляция Пирсона: {negatives_corr_pearson/n_tests:.3f}\\n\\t\\\n",
    "    2. Корреляция Спирмена: {negatives_spearman/n_tests:.3f}\\n\\t\\\n",
    "    3. \\u03C7^2: {negatives_chi_square/n_tests:.3f}')"
   ]
  },
  {
   "cell_type": "code",
   "execution_count": null,
   "metadata": {},
   "outputs": [],
   "source": []
  }
 ],
 "metadata": {
  "kernelspec": {
   "display_name": "bayes",
   "language": "python",
   "name": "python3"
  },
  "language_info": {
   "codemirror_mode": {
    "name": "ipython",
    "version": 3
   },
   "file_extension": ".py",
   "mimetype": "text/x-python",
   "name": "python",
   "nbconvert_exporter": "python",
   "pygments_lexer": "ipython3",
   "version": "3.9.12"
  },
  "orig_nbformat": 4,
  "vscode": {
   "interpreter": {
    "hash": "f44b1d12d67a36c46179d86223962968914b65b7c7ad2cb271a366d124476f64"
   }
  }
 },
 "nbformat": 4,
 "nbformat_minor": 2
}
