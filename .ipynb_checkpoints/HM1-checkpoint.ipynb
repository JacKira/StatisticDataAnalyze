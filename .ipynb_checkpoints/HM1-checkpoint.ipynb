{
 "cells": [
  {
   "cell_type": "code",
   "execution_count": 1,
   "id": "bf6b7f68",
   "metadata": {
    "id": "bf6b7f68"
   },
   "outputs": [],
   "source": [
    "import zipfile as zp\n",
    "import numpy as np\n",
    "import pandas as pd\n",
    "import re\n",
    "from sklearn.linear_model import LogisticRegression \n",
    "import gc"
   ]
  },
  {
   "cell_type": "code",
   "execution_count": 3,
   "id": "e2faffab",
   "metadata": {
    "colab": {
     "base_uri": "https://localhost:8080/",
     "height": 455
    },
    "id": "e2faffab",
    "outputId": "de3a72f7-0c25-479a-bb1c-a750d3722e34"
   },
   "outputs": [
    {
     "data": {
      "text/html": [
       "<div>\n",
       "<style scoped>\n",
       "    .dataframe tbody tr th:only-of-type {\n",
       "        vertical-align: middle;\n",
       "    }\n",
       "\n",
       "    .dataframe tbody tr th {\n",
       "        vertical-align: top;\n",
       "    }\n",
       "\n",
       "    .dataframe thead th {\n",
       "        text-align: right;\n",
       "    }\n",
       "</style>\n",
       "<table border=\"1\" class=\"dataframe\">\n",
       "  <thead>\n",
       "    <tr style=\"text-align: right;\">\n",
       "      <th></th>\n",
       "      <th>visits</th>\n",
       "    </tr>\n",
       "    <tr>\n",
       "      <th>id</th>\n",
       "      <th></th>\n",
       "    </tr>\n",
       "  </thead>\n",
       "  <tbody>\n",
       "    <tr>\n",
       "      <th>1</th>\n",
       "      <td>30 84 126 135 137 179 242 342 426 456 460 462...</td>\n",
       "    </tr>\n",
       "    <tr>\n",
       "      <th>2</th>\n",
       "      <td>24 53 75 134 158 192 194 211 213 238 251 305 ...</td>\n",
       "    </tr>\n",
       "    <tr>\n",
       "      <th>3</th>\n",
       "      <td>51 143 173 257 446 491 504 510 559 616 719 73...</td>\n",
       "    </tr>\n",
       "    <tr>\n",
       "      <th>4</th>\n",
       "      <td>1 20 22 92 124 149 211 335 387 390 406 460 48...</td>\n",
       "    </tr>\n",
       "    <tr>\n",
       "      <th>5</th>\n",
       "      <td>34 51 56 106 110 121 163 233 266 275 345 359 ...</td>\n",
       "    </tr>\n",
       "    <tr>\n",
       "      <th>...</th>\n",
       "      <td>...</td>\n",
       "    </tr>\n",
       "    <tr>\n",
       "      <th>299996</th>\n",
       "      <td>6 12 15 30 33 48 49 50 55 56 70 74 76 83 84 9...</td>\n",
       "    </tr>\n",
       "    <tr>\n",
       "      <th>299997</th>\n",
       "      <td>4 7 12 18 19 35 41 53 55 60 75 77 81 82 91 95...</td>\n",
       "    </tr>\n",
       "    <tr>\n",
       "      <th>299998</th>\n",
       "      <td>1 9 15 17 29 31 42 49 62 74 85 105 109 113 11...</td>\n",
       "    </tr>\n",
       "    <tr>\n",
       "      <th>299999</th>\n",
       "      <td>2 4 6 14 18 19 25 32 34 39 40 42 48 49 60 62 ...</td>\n",
       "    </tr>\n",
       "    <tr>\n",
       "      <th>300000</th>\n",
       "      <td>1 6 7 13 18 21 22 31 33 35 40 41 54 55 56 57 ...</td>\n",
       "    </tr>\n",
       "  </tbody>\n",
       "</table>\n",
       "<p>300000 rows × 1 columns</p>\n",
       "</div>"
      ],
      "text/plain": [
       "                                                   visits\n",
       "id                                                       \n",
       "1        30 84 126 135 137 179 242 342 426 456 460 462...\n",
       "2        24 53 75 134 158 192 194 211 213 238 251 305 ...\n",
       "3        51 143 173 257 446 491 504 510 559 616 719 73...\n",
       "4        1 20 22 92 124 149 211 335 387 390 406 460 48...\n",
       "5        34 51 56 106 110 121 163 233 266 275 345 359 ...\n",
       "...                                                   ...\n",
       "299996   6 12 15 30 33 48 49 50 55 56 70 74 76 83 84 9...\n",
       "299997   4 7 12 18 19 35 41 53 55 60 75 77 81 82 91 95...\n",
       "299998   1 9 15 17 29 31 42 49 62 74 85 105 109 113 11...\n",
       "299999   2 4 6 14 18 19 25 32 34 39 40 42 48 49 60 62 ...\n",
       "300000   1 6 7 13 18 21 22 31 33 35 40 41 54 55 56 57 ...\n",
       "\n",
       "[300000 rows x 1 columns]"
      ]
     },
     "execution_count": 3,
     "metadata": {},
     "output_type": "execute_result"
    }
   ],
   "source": [
    "df = pd.read_csv('train.zip', index_col = 0)\n",
    "df"
   ]
  },
  {
   "cell_type": "markdown",
   "id": "4a0204c3",
   "metadata": {
    "id": "4a0204c3"
   },
   "source": [
    "# Обработка всего сета"
   ]
  },
  {
   "cell_type": "code",
   "execution_count": 21,
   "id": "71b079aa",
   "metadata": {
    "id": "71b079aa"
   },
   "outputs": [],
   "source": [
    "def Predict(df):\n",
    "    import pandas as pd\n",
    "    id_i_visit = pd.DataFrame({'Days': df.str.split(' ')[0]}).iloc[1:].astype(int)\n",
    "    id_i_visit.Days = id_i_visit.Days.agg(lambda x: x % 7 + 1)\n",
    "    return id_i_visit.Days.value_counts(normalize = True, sort = False).argmax(axis = -1) + 1"
   ]
  },
  {
   "cell_type": "code",
   "execution_count": 22,
   "id": "3b9f51b1",
   "metadata": {
    "id": "3b9f51b1"
   },
   "outputs": [],
   "source": [
    "from IPython.display import HTML, display\n",
    "import time\n",
    "def progress(value, max=100):\n",
    "    return HTML(\"\"\"\n",
    "        <progress\n",
    "            value='{value}'\n",
    "            max='{max}',\n",
    "            style='width: 100%'\n",
    "        >\n",
    "            {value}\n",
    "        </progress>\n",
    "    \"\"\".format(value=value, max=max))"
   ]
  },
  {
   "cell_type": "code",
   "execution_count": 23,
   "id": "2851807a",
   "metadata": {
    "colab": {
     "base_uri": "https://localhost:8080/",
     "height": 71
    },
    "id": "2851807a",
    "outputId": "15a2c323-83cd-4b2f-ea81-22a7e24b4fba"
   },
   "outputs": [
    {
     "data": {
      "text/html": [
       "\n",
       "        <progress\n",
       "            value='299999'\n",
       "            max='300000',\n",
       "            style='width: 100%'\n",
       "        >\n",
       "            299999\n",
       "        </progress>\n",
       "    "
      ],
      "text/plain": [
       "<IPython.core.display.HTML object>"
      ]
     },
     "metadata": {},
     "output_type": "display_data"
    },
    {
     "name": "stdout",
     "output_type": "stream",
     "text": [
      "CPU times: user 27min 2s, sys: 2min 13s, total: 29min 15s\n",
      "Wall time: 31min 55s\n"
     ]
    }
   ],
   "source": [
    "%%time\n",
    "import csv\n",
    "n = df.shape[0]\n",
    "solution = pd.DataFrame()\n",
    "solution.to_csv('/content/drive/MyDrive/ML/DA/submission.csv')\n",
    "out = display(progress(0, 100), display_id=True)\n",
    "with open('/content/drive/MyDrive/ML/DA/submission.csv', 'w', newline='') as f:\n",
    "    writer = csv.writer(f, quoting=csv.QUOTE_NONE)\n",
    "    writer.writerow(['id','nextvisit'])\n",
    "    for i in range(n):\n",
    "        writer.writerow([str(int(i + 1)), str(int(Predict(df.iloc[i])))])\n",
    "        out.update(progress(i, n)) \n",
    "    f.close()"
   ]
  },
  {
   "cell_type": "code",
   "execution_count": null,
   "id": "lWZsZrwgKgcD",
   "metadata": {
    "id": "lWZsZrwgKgcD"
   },
   "outputs": [],
   "source": []
  }
 ],
 "metadata": {
  "colab": {
   "collapsed_sections": [],
   "name": "HM1.ipynb",
   "provenance": []
  },
  "kernelspec": {
   "display_name": "Python 3",
   "language": "python",
   "name": "python3"
  },
  "language_info": {
   "codemirror_mode": {
    "name": "ipython",
    "version": 3
   },
   "file_extension": ".py",
   "mimetype": "text/x-python",
   "name": "python",
   "nbconvert_exporter": "python",
   "pygments_lexer": "ipython3",
   "version": "3.8.8"
  }
 },
 "nbformat": 4,
 "nbformat_minor": 5
}
